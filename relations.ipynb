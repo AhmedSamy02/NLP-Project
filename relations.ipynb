{
 "cells": [
  {
   "cell_type": "code",
   "execution_count": 26,
   "metadata": {},
   "outputs": [],
   "source": [
    "from gensim.models import Word2Vec,FastText\n",
    "import numpy as np\n",
    "import pandas as pd\n",
    "import tensorflow as tf\n",
    "import nltk\n",
    "from nltk.tokenize import word_tokenize,sent_tokenize\n",
    "from nltk import pos_tag\n",
    "from nltk.corpus import stopwords\n",
    "from tensorflow import keras\n",
    "import re\n",
    "from nltk.stem import WordNetLemmatizer\n",
    "from word2number import w2n\n",
    "\n",
    "\n",
    "\n",
    "from tensorflow.keras.optimizers import Adam\n",
    "from tensorflow.keras.preprocessing.text import Tokenizer\n",
    "from tensorflow.keras.preprocessing.sequence import pad_sequences\n",
    "from tensorflow.keras.models import Model\n",
    "from tensorflow.keras.layers import Embedding,LSTM,Dense,Input,Bidirectional,Attention,Concatenate,TimeDistributed\n",
    "\n",
    "pd.set_option(\"display.max_columns\", None)\n",
    "np.random.seed(42)\n",
    "tf.random.set_seed(42)\n"
   ]
  },
  {
   "cell_type": "code",
   "execution_count": 19,
   "metadata": {},
   "outputs": [],
   "source": [
    "df_dev = pd.read_json(\"dataset/PIZZA_dev.json\", lines=True,)\n",
    "x_dev = df_dev[\"dev.SRC\"]\n",
    "y_dev = df_dev[\"dev.TOP\"]   "
   ]
  },
  {
   "cell_type": "code",
   "execution_count": 20,
   "metadata": {},
   "outputs": [],
   "source": [
    "main_train = pd.read_json(\"dataset/PIZZA_train.json\", lines=True,)\n",
    "df_dev = pd.read_json(\"dataset/PIZZA_dev.json\", lines=True,)"
   ]
  },
  {
   "cell_type": "code",
   "execution_count": 21,
   "metadata": {},
   "outputs": [],
   "source": [
    "df_train = main_train.sample(10000)"
   ]
  },
  {
   "cell_type": "code",
   "execution_count": 81,
   "metadata": {},
   "outputs": [],
   "source": [
    "CONTRACTIONS = {\n",
    "    \"n't\": \"not\",\n",
    "    \"'s\": \"is\",\n",
    "    \"'re\": \"are\",\n",
    "    \"'m\": \"am\",\n",
    "    \"'ll\": \"will\",\n",
    "    \"'ve\": \"have\",\n",
    "    \"'d\": \"would\",\n",
    "    \"'em\": \"them\",\n",
    "    \"'all\": \"all\",\n",
    "    \"'cause\": \"because\",\n",
    "    \"'clock\": \"oclock\",\n",
    "    \"'tis\": \"it is\",\n",
    "    \"'twas\": \"it was\",\n",
    "    \"'tween\": \"between\",\n",
    "    \"'twere\": \"it were\",\n",
    "    \"'twould\": \"it would\",\n",
    "    \"'twixt\": \"betwixt\",\n",
    "    \"'twill\": \"it will\",\n",
    "    \"'til\": \"until\",\n",
    "    \"'bout\": \"about\",\n",
    "    \"'cept\": \"except\",\n",
    "    \"'cos\": \"because\",\n",
    "    \"'fore\": \"before\",\n",
    "    \"'round\": \"around\",\n",
    "    \"'n'\": \"and\",\n",
    "    \"'neath\": \"beneath\",\n",
    "    \"'nother\": \"another\",\n",
    "    \"'nuff\": \"enough\",\n",
    "}\n",
    "negation_words = {\n",
    "    \"no\",\n",
    "    \"not\",\n",
    "    \"none\",\n",
    "    \"never\",\n",
    "    \"without\",\n",
    "    \"avoid\",\n",
    "    \"neither\",\n",
    "    \"nor\",\n",
    "    \"hate\",\n",
    "    \"hold\",\n",
    "}\n",
    "pizza = {\"pizza\", \"pizzas\", \"pie\", \"pies\"}\n",
    "\n",
    "stop_negation_words = {\"and\", \"but\"}\n",
    "stop_words = set(stopwords.words(\"english\"))\n",
    "stop_words = stop_words - negation_words - stop_negation_words - {'all' , 'a','an'}\n",
    "stop_words.update({\"would\", \"like\", \"get\", \"want\", \"order\"})\n",
    "stop_words.update(pizza)\n",
    "\n",
    "lemmatizer = WordNetLemmatizer()  # WordNet Lemmatizer\n"
   ]
  },
  {
   "cell_type": "code",
   "execution_count": 82,
   "metadata": {},
   "outputs": [],
   "source": [
    "def expnad_abb2(text):\n",
    "\n",
    "    pattern = re.compile(\n",
    "        r\"(\" + \"|\".join(re.escape(key) for key in CONTRACTIONS.keys()) + r\")\"\n",
    "    )\n",
    "    expanded_text = pattern.sub(lambda x: \" \" + CONTRACTIONS[x.group()], text)\n",
    "    return expanded_text\n"
   ]
  },
  {
   "cell_type": "code",
   "execution_count": 24,
   "metadata": {},
   "outputs": [],
   "source": [
    "def remove_stopwords(text):\n",
    "    words = text.split()\n",
    "    filtered_words = [word for word in words if word.lower() not in stop_words]\n",
    "    return \" \".join(filtered_words)"
   ]
  },
  {
   "cell_type": "code",
   "execution_count": 25,
   "metadata": {},
   "outputs": [],
   "source": [
    "relation_tags = {\n",
    "    'O':0,\n",
    "    'B-Pizza':1, 'I-Pizza':2,\n",
    "    'B-Drink':3, 'I-Drink':4,\n",
    "}"
   ]
  },
  {
   "cell_type": "code",
   "execution_count": 83,
   "metadata": {},
   "outputs": [],
   "source": [
    "pizza_order_regex = re.compile(r'\\(PIZZAORDER\\b\\s*((?:[^()]*|\\((?:[^()]*|\\([^()]*\\))*\\))*)\\)')\n",
    "drink_order_regex = re.compile(r'\\(DRINKORDER\\b\\s*((?:[^()]*|\\((?:[^()]*|\\([^()]*\\))*\\))*)\\)')\n",
    "\n",
    "clean_regex = re.compile(r'[A-Z]+_?[A-Z]*|\\(|\\)')\n",
    "# clean_regex = re.compile(r'\\(NUMBER |\\(SIZE |\\(TOPPING |\\(COMPLEX_TOPPING |\\(NOT |\\(STYLE |\\(DRINKTYPE |\\(VOLUME |\\(CONTAINERTYPE |\\s+\\)\\s+')"
   ]
  },
  {
   "cell_type": "code",
   "execution_count": 8,
   "metadata": {},
   "outputs": [],
   "source": [
    "\n",
    "def standardize_numbers(text):\n",
    "    text = text.split()\n",
    "    for i,w in enumerate(text):\n",
    "        try:\n",
    "            text[i] = str(w2n.word_to_num(w))\n",
    "        except:\n",
    "            if text[i] == 'a' or text[i] == 'an':\n",
    "                text[i] = '1'\n",
    "            else:\n",
    "                text[i] = w\n",
    "    return \" \".join(text)\n"
   ]
  },
  {
   "cell_type": "code",
   "execution_count": 27,
   "metadata": {},
   "outputs": [],
   "source": [
    "lemmatizer = WordNetLemmatizer()\n",
    "\n",
    "def lemma(text):\n",
    "    text = text.split()\n",
    "    text = [lemmatizer.lemmatize(word) for word in text] \n",
    "    return \" \".join(text)"
   ]
  },
  {
   "cell_type": "code",
   "execution_count": 13,
   "metadata": {},
   "outputs": [],
   "source": [
    "# df_train['train.SRC'] = df_train['train.SRC'].apply(lambda x: expnad_abb2(x))\n",
    "# df_train['train.SRC'] = df_train['train.SRC'].apply(lambda x: remove_stopwords(x))\n",
    "# df_train['train.SRC'] = df_train['train.SRC'].apply(lambda x: standardize_numbers(x))\n",
    "# df_train['train.SRC'] = df_train['train.SRC'].apply(lambda x: lemma(x))"
   ]
  },
  {
   "cell_type": "code",
   "execution_count": 84,
   "metadata": {},
   "outputs": [],
   "source": [
    "def pizza_order_parser(src,top):\n",
    "    labels = ['O' for i in range(len(src.split()))]\n",
    "    src = src.split()\n",
    "    pizza_orders = pizza_order_regex.findall(top)\n",
    "    pizza_orders = [clean_regex.sub(\"\", order) for order in pizza_orders]\n",
    "    pizza_orders = [order.split() for order in pizza_orders]\n",
    "    # pizza_orders = [re.split(r'\\s+|_', order) for order in pizza_orders]\n",
    "    # pizza_orders = [[word.lower() for word in order if len(word) > 0] for order in pizza_orders]\n",
    "    for order in pizza_orders:\n",
    "        # order = [word.lower() for word in order]\n",
    "        try:\n",
    "            start_index = src.index(order[0])\n",
    "        except:\n",
    "            order = order[1:]\n",
    "            start_index = src.index(order[0])\n",
    "\n",
    "        while labels[start_index] != 'O':\n",
    "            # try:\n",
    "            start_index = src.index(order[0],start_index+1)\n",
    "            # except:\n",
    "                # break\n",
    "        labels[start_index] = \"B-Pizza\"\n",
    "        for word in order[1:]:\n",
    "            try:\n",
    "                labels[src.index(word, start_index + 1)] = \"I-Pizza\"\n",
    "            except: \n",
    "                continue\n",
    "        \n",
    "    return \" \".join(labels)   \n",
    "\n",
    "# src = x_dev[0]\n",
    "# # src = expnad_abb2(src)\n",
    "# # src = remove_stopwords(src)\n",
    "# # src = standardize_numbers(src)\n",
    "# # src = lemma(src)\n",
    "# print(src)\n",
    "# top = y_dev[0]\n",
    "# \n",
    "# print(pizza_order_parser(src,top))"
   ]
  },
  {
   "cell_type": "code",
   "execution_count": 85,
   "metadata": {},
   "outputs": [],
   "source": [
    "def drink_order_parser(src,top,labels):\n",
    "    # labels = ['O' for i in range(len(src.split()))]\n",
    "    labels = labels.split()\n",
    "    src = src.split()\n",
    "    drink_orders = drink_order_regex.findall(top)\n",
    "    drink_orders = [clean_regex.sub(\"\", order) for order in drink_orders]\n",
    "    drink_orders = [order.split() for order in drink_orders]\n",
    "    # drink_orders = [re.split(r'\\s+|_', order) for order in drink_orders]\n",
    "    # drink_orders = [[word.lower() for word in order if len(word) > 0] for order in drink_orders]\n",
    "    for order in drink_orders:\n",
    "        # order = [word.lower() for word in order]\n",
    "        try:\n",
    "            start_index = src.index(order[0])\n",
    "        except:\n",
    "            order = order[1:]\n",
    "            start_index = src.index(order[0])\n",
    "        while labels[start_index] != 'O':\n",
    "            try:\n",
    "                start_index = src.index(order[0],start_index+1)\n",
    "            except:\n",
    "                break\n",
    "        labels[start_index] = \"B-Drink\"\n",
    "        for word in order[1:]:\n",
    "            try:\n",
    "                labels[src.index(lemma(word), start_index + 1)] = \"I-Drink\"\n",
    "            except:\n",
    "                continue\n",
    "        \n",
    "    return \" \".join(labels)\n",
    "\n",
    "# src = \"two 20 fl ounce diet sprites in cans and four 500-ml coke zeroes\"\n",
    "# src = expnad_abb2(src)\n",
    "# src = remove_stopwords(src)\n",
    "# src = standardize_numbers(src)\n",
    "# src = lemma(src)\n",
    "# print(src)\n",
    "# top = \"order (PIZZAORDER ) (SIZE medium ) pizzas with (TOPPING and (TOPPING black olives ) ) and two ) (SIZE\"\n",
    "# labels = pizza_order_parser(src,top)\n",
    "\n",
    "# drink_order_parser(src,top,labels)\n",
    "   "
   ]
  },
  {
   "cell_type": "code",
   "execution_count": 86,
   "metadata": {},
   "outputs": [],
   "source": [
    "df_train['train.LABEL'] = df_train.apply(lambda x: pizza_order_parser(x['train.SRC'], x['train.TOP']), axis=1)"
   ]
  },
  {
   "cell_type": "code",
   "execution_count": 87,
   "metadata": {},
   "outputs": [],
   "source": [
    "df_train['train.LABEL'] = df_train.apply(lambda x: drink_order_parser(x['train.SRC'], x['train.TOP'],x['train.LABEL']), axis=1)"
   ]
  },
  {
   "cell_type": "code",
   "execution_count": 88,
   "metadata": {},
   "outputs": [],
   "source": [
    "def expand(text,labels):\n",
    "    labels = labels.split()\n",
    "    text = text.split()\n",
    "    new_text = text.copy()\n",
    "    for i in range(len(text)):\n",
    "       exp =  expnad_abb2(text[i])\n",
    "       if exp != text[i]:\n",
    "            new_text[i]= exp\n",
    "            labels.insert(i,labels[i])\n",
    "    return \" \".join(new_text) , \" \".join(labels)\n"
   ]
  },
  {
   "cell_type": "code",
   "execution_count": 89,
   "metadata": {},
   "outputs": [],
   "source": [
    "def remove_stopwords_with_labels(text,labels):\n",
    "    labels = labels.split()\n",
    "    new_labels = []\n",
    "    text = text.split()\n",
    "    new_text = []\n",
    "    for i in range(len(text)):\n",
    "       if text[i].lower() not in stop_words:\n",
    "            new_text.append(text[i])\n",
    "            new_labels.append(labels[i])\n",
    "            # i = \n",
    "    return \" \".join(new_text) , \" \".join(new_labels)\n",
    "\n"
   ]
  },
  {
   "cell_type": "code",
   "execution_count": 90,
   "metadata": {},
   "outputs": [],
   "source": [
    "x_train = df_train['train.SRC']\n",
    "y_train = df_train['train.LABEL']"
   ]
  },
  {
   "cell_type": "code",
   "execution_count": 91,
   "metadata": {},
   "outputs": [],
   "source": [
    "for i,x in enumerate(x_train):\n",
    "    x_train.iloc[i],y_train.iloc[i] = expand(x,y_train.iloc[i])\n",
    "    x_train.iloc[i],y_train.iloc[i]= remove_stopwords_with_labels(x_train.iloc[i],y_train.iloc[i])\n"
   ]
  },
  {
   "cell_type": "code",
   "execution_count": 93,
   "metadata": {},
   "outputs": [],
   "source": [
    "fast_text_model = FastText(sentences=x_train.apply(lambda x : x.split()), vector_size=50, window=5, min_count=1, workers=4, sg=1,epochs=150)"
   ]
  },
  {
   "cell_type": "code",
   "execution_count": 94,
   "metadata": {},
   "outputs": [
    {
     "name": "stdout",
     "output_type": "stream",
     "text": [
      "not found <OOV>\n"
     ]
    }
   ],
   "source": [
    "# Tokenize the sentences\n",
    "input_tokinezer = Tokenizer(oov_token = \"<OOV>\")\n",
    "input_tokinezer.fit_on_texts(x_train)\n",
    "x_train = input_tokinezer.texts_to_sequences(x_train)\n",
    "word_index = input_tokinezer.word_index\n",
    "\n",
    "# Pad sequences for uniform input size\n",
    "max_length = max([len(seq) for seq in x_train])  # Padding to the length of the longest sentence\n",
    "x_train = pad_sequences(x_train, maxlen=max_length, padding='post')\n",
    "\n",
    "# Convert labels to integer format (one per word)\n",
    "y_train = [y.split() for y in y_train]\n",
    "y_train = [[relation_tags[label] for label in seq] for seq in y_train]\n",
    "y_train = pad_sequences(y_train, maxlen=max_length, padding='post')  # Padding labels\n",
    "\n",
    "# Prepare word embeddings using FastText\n",
    "embedding_dim = fast_text_model.wv.vector_size  # Dimension of Word2Vec vectors\n",
    "\n",
    "# Initialize a matrix to store word vectors\n",
    "embedding_matrix = np.zeros((len(word_index) + 1, embedding_dim))\n",
    "\n",
    "# Fill the embedding matrix with FastText word vectors\n",
    "for word, idx in word_index.items():\n",
    "    if word in fast_text_model.wv.key_to_index.keys():\n",
    "        # print(\"found\" , word)\n",
    "        embedding_matrix[idx] = fast_text_model.wv[word]\n",
    "    else:\n",
    "        print(\"not found\" , word)\n",
    "        embedding_matrix[idx] = np.random.uniform(-0.01, 0.01, embedding_dim)\n"
   ]
  },
  {
   "cell_type": "code",
   "execution_count": 45,
   "metadata": {},
   "outputs": [],
   "source": [
    "from tensorflow.keras.layers import Input, LSTM, Embedding, Dense, Dropout, Bidirectional\n",
    "from tensorflow.keras.models import Model\n"
   ]
  },
  {
   "cell_type": "code",
   "execution_count": 95,
   "metadata": {},
   "outputs": [
    {
     "data": {
      "text/html": [
       "<pre style=\"white-space:pre;overflow-x:auto;line-height:normal;font-family:Menlo,'DejaVu Sans Mono',consolas,'Courier New',monospace\"><span style=\"font-weight: bold\">Model: \"functional_1\"</span>\n",
       "</pre>\n"
      ],
      "text/plain": [
       "\u001b[1mModel: \"functional_1\"\u001b[0m\n"
      ]
     },
     "metadata": {},
     "output_type": "display_data"
    },
    {
     "data": {
      "text/html": [
       "<pre style=\"white-space:pre;overflow-x:auto;line-height:normal;font-family:Menlo,'DejaVu Sans Mono',consolas,'Courier New',monospace\">┏━━━━━━━━━━━━━━━━━━━━━━━━━━━━━━━━━┳━━━━━━━━━━━━━━━━━━━━━━━━┳━━━━━━━━━━━━━━━┓\n",
       "┃<span style=\"font-weight: bold\"> Layer (type)                    </span>┃<span style=\"font-weight: bold\"> Output Shape           </span>┃<span style=\"font-weight: bold\">       Param # </span>┃\n",
       "┡━━━━━━━━━━━━━━━━━━━━━━━━━━━━━━━━━╇━━━━━━━━━━━━━━━━━━━━━━━━╇━━━━━━━━━━━━━━━┩\n",
       "│ input_layer_1 (<span style=\"color: #0087ff; text-decoration-color: #0087ff\">InputLayer</span>)      │ (<span style=\"color: #00d7ff; text-decoration-color: #00d7ff\">None</span>, <span style=\"color: #00af00; text-decoration-color: #00af00\">22</span>)             │             <span style=\"color: #00af00; text-decoration-color: #00af00\">0</span> │\n",
       "├─────────────────────────────────┼────────────────────────┼───────────────┤\n",
       "│ embedding_4 (<span style=\"color: #0087ff; text-decoration-color: #0087ff\">Embedding</span>)         │ (<span style=\"color: #00d7ff; text-decoration-color: #00d7ff\">None</span>, <span style=\"color: #00af00; text-decoration-color: #00af00\">22</span>, <span style=\"color: #00af00; text-decoration-color: #00af00\">50</span>)         │        <span style=\"color: #00af00; text-decoration-color: #00af00\">14,100</span> │\n",
       "├─────────────────────────────────┼────────────────────────┼───────────────┤\n",
       "│ bidirectional (<span style=\"color: #0087ff; text-decoration-color: #0087ff\">Bidirectional</span>)   │ (<span style=\"color: #00d7ff; text-decoration-color: #00d7ff\">None</span>, <span style=\"color: #00af00; text-decoration-color: #00af00\">22</span>, <span style=\"color: #00af00; text-decoration-color: #00af00\">256</span>)        │       <span style=\"color: #00af00; text-decoration-color: #00af00\">183,296</span> │\n",
       "├─────────────────────────────────┼────────────────────────┼───────────────┤\n",
       "│ dropout_3 (<span style=\"color: #0087ff; text-decoration-color: #0087ff\">Dropout</span>)             │ (<span style=\"color: #00d7ff; text-decoration-color: #00d7ff\">None</span>, <span style=\"color: #00af00; text-decoration-color: #00af00\">22</span>, <span style=\"color: #00af00; text-decoration-color: #00af00\">256</span>)        │             <span style=\"color: #00af00; text-decoration-color: #00af00\">0</span> │\n",
       "├─────────────────────────────────┼────────────────────────┼───────────────┤\n",
       "│ dense_3 (<span style=\"color: #0087ff; text-decoration-color: #0087ff\">Dense</span>)                 │ (<span style=\"color: #00d7ff; text-decoration-color: #00d7ff\">None</span>, <span style=\"color: #00af00; text-decoration-color: #00af00\">22</span>, <span style=\"color: #00af00; text-decoration-color: #00af00\">5</span>)          │         <span style=\"color: #00af00; text-decoration-color: #00af00\">1,285</span> │\n",
       "└─────────────────────────────────┴────────────────────────┴───────────────┘\n",
       "</pre>\n"
      ],
      "text/plain": [
       "┏━━━━━━━━━━━━━━━━━━━━━━━━━━━━━━━━━┳━━━━━━━━━━━━━━━━━━━━━━━━┳━━━━━━━━━━━━━━━┓\n",
       "┃\u001b[1m \u001b[0m\u001b[1mLayer (type)                   \u001b[0m\u001b[1m \u001b[0m┃\u001b[1m \u001b[0m\u001b[1mOutput Shape          \u001b[0m\u001b[1m \u001b[0m┃\u001b[1m \u001b[0m\u001b[1m      Param #\u001b[0m\u001b[1m \u001b[0m┃\n",
       "┡━━━━━━━━━━━━━━━━━━━━━━━━━━━━━━━━━╇━━━━━━━━━━━━━━━━━━━━━━━━╇━━━━━━━━━━━━━━━┩\n",
       "│ input_layer_1 (\u001b[38;5;33mInputLayer\u001b[0m)      │ (\u001b[38;5;45mNone\u001b[0m, \u001b[38;5;34m22\u001b[0m)             │             \u001b[38;5;34m0\u001b[0m │\n",
       "├─────────────────────────────────┼────────────────────────┼───────────────┤\n",
       "│ embedding_4 (\u001b[38;5;33mEmbedding\u001b[0m)         │ (\u001b[38;5;45mNone\u001b[0m, \u001b[38;5;34m22\u001b[0m, \u001b[38;5;34m50\u001b[0m)         │        \u001b[38;5;34m14,100\u001b[0m │\n",
       "├─────────────────────────────────┼────────────────────────┼───────────────┤\n",
       "│ bidirectional (\u001b[38;5;33mBidirectional\u001b[0m)   │ (\u001b[38;5;45mNone\u001b[0m, \u001b[38;5;34m22\u001b[0m, \u001b[38;5;34m256\u001b[0m)        │       \u001b[38;5;34m183,296\u001b[0m │\n",
       "├─────────────────────────────────┼────────────────────────┼───────────────┤\n",
       "│ dropout_3 (\u001b[38;5;33mDropout\u001b[0m)             │ (\u001b[38;5;45mNone\u001b[0m, \u001b[38;5;34m22\u001b[0m, \u001b[38;5;34m256\u001b[0m)        │             \u001b[38;5;34m0\u001b[0m │\n",
       "├─────────────────────────────────┼────────────────────────┼───────────────┤\n",
       "│ dense_3 (\u001b[38;5;33mDense\u001b[0m)                 │ (\u001b[38;5;45mNone\u001b[0m, \u001b[38;5;34m22\u001b[0m, \u001b[38;5;34m5\u001b[0m)          │         \u001b[38;5;34m1,285\u001b[0m │\n",
       "└─────────────────────────────────┴────────────────────────┴───────────────┘\n"
      ]
     },
     "metadata": {},
     "output_type": "display_data"
    },
    {
     "data": {
      "text/html": [
       "<pre style=\"white-space:pre;overflow-x:auto;line-height:normal;font-family:Menlo,'DejaVu Sans Mono',consolas,'Courier New',monospace\"><span style=\"font-weight: bold\"> Total params: </span><span style=\"color: #00af00; text-decoration-color: #00af00\">198,681</span> (776.10 KB)\n",
       "</pre>\n"
      ],
      "text/plain": [
       "\u001b[1m Total params: \u001b[0m\u001b[38;5;34m198,681\u001b[0m (776.10 KB)\n"
      ]
     },
     "metadata": {},
     "output_type": "display_data"
    },
    {
     "data": {
      "text/html": [
       "<pre style=\"white-space:pre;overflow-x:auto;line-height:normal;font-family:Menlo,'DejaVu Sans Mono',consolas,'Courier New',monospace\"><span style=\"font-weight: bold\"> Trainable params: </span><span style=\"color: #00af00; text-decoration-color: #00af00\">184,581</span> (721.02 KB)\n",
       "</pre>\n"
      ],
      "text/plain": [
       "\u001b[1m Trainable params: \u001b[0m\u001b[38;5;34m184,581\u001b[0m (721.02 KB)\n"
      ]
     },
     "metadata": {},
     "output_type": "display_data"
    },
    {
     "data": {
      "text/html": [
       "<pre style=\"white-space:pre;overflow-x:auto;line-height:normal;font-family:Menlo,'DejaVu Sans Mono',consolas,'Courier New',monospace\"><span style=\"font-weight: bold\"> Non-trainable params: </span><span style=\"color: #00af00; text-decoration-color: #00af00\">14,100</span> (55.08 KB)\n",
       "</pre>\n"
      ],
      "text/plain": [
       "\u001b[1m Non-trainable params: \u001b[0m\u001b[38;5;34m14,100\u001b[0m (55.08 KB)\n"
      ]
     },
     "metadata": {},
     "output_type": "display_data"
    }
   ],
   "source": [
    "# Define the BiLSTM model\n",
    "input = Input(shape=(max_length,))\n",
    "embedding_layer = Embedding(input_dim=len(word_index) + 1,\n",
    "                            output_dim=embedding_dim,\n",
    "                            weights=[embedding_matrix],\n",
    "                            trainable=False)(input)\n",
    "\n",
    "lstm = Bidirectional(LSTM(units=128, return_sequences=True, dropout=0.1, recurrent_dropout=0.1))(embedding_layer)\n",
    "dropout = Dropout(0.1)(lstm)\n",
    "\n",
    "# Dense layer for sequence labeling (softmax activation)\n",
    "output = Dense(len(relation_tags), activation='softmax')(dropout)\n",
    "\n",
    "# Build and compile the model\n",
    "model_relations = Model(inputs=input, outputs=output)\n",
    "model_relations.compile(optimizer='adam', loss='sparse_categorical_crossentropy', metrics=['accuracy'])\n",
    "\n",
    "# Model summary\n",
    "model_relations.summary()\n"
   ]
  },
  {
   "cell_type": "code",
   "execution_count": 96,
   "metadata": {},
   "outputs": [
    {
     "name": "stdout",
     "output_type": "stream",
     "text": [
      "Epoch 1/10\n"
     ]
    },
    {
     "name": "stdout",
     "output_type": "stream",
     "text": [
      "\u001b[1m563/563\u001b[0m \u001b[32m━━━━━━━━━━━━━━━━━━━━\u001b[0m\u001b[37m\u001b[0m \u001b[1m12s\u001b[0m 16ms/step - accuracy: 0.9023 - loss: 0.3237 - val_accuracy: 0.9857 - val_loss: 0.0498\n",
      "Epoch 2/10\n",
      "\u001b[1m563/563\u001b[0m \u001b[32m━━━━━━━━━━━━━━━━━━━━\u001b[0m\u001b[37m\u001b[0m \u001b[1m9s\u001b[0m 15ms/step - accuracy: 0.9861 - loss: 0.0470 - val_accuracy: 0.9880 - val_loss: 0.0361\n",
      "Epoch 3/10\n",
      "\u001b[1m563/563\u001b[0m \u001b[32m━━━━━━━━━━━━━━━━━━━━\u001b[0m\u001b[37m\u001b[0m \u001b[1m8s\u001b[0m 14ms/step - accuracy: 0.9883 - loss: 0.0351 - val_accuracy: 0.9889 - val_loss: 0.0301\n",
      "Epoch 4/10\n",
      "\u001b[1m563/563\u001b[0m \u001b[32m━━━━━━━━━━━━━━━━━━━━\u001b[0m\u001b[37m\u001b[0m \u001b[1m8s\u001b[0m 14ms/step - accuracy: 0.9895 - loss: 0.0297 - val_accuracy: 0.9892 - val_loss: 0.0276\n",
      "Epoch 5/10\n",
      "\u001b[1m563/563\u001b[0m \u001b[32m━━━━━━━━━━━━━━━━━━━━\u001b[0m\u001b[37m\u001b[0m \u001b[1m7s\u001b[0m 12ms/step - accuracy: 0.9898 - loss: 0.0270 - val_accuracy: 0.9899 - val_loss: 0.0260\n",
      "Epoch 6/10\n",
      "\u001b[1m563/563\u001b[0m \u001b[32m━━━━━━━━━━━━━━━━━━━━\u001b[0m\u001b[37m\u001b[0m \u001b[1m8s\u001b[0m 14ms/step - accuracy: 0.9899 - loss: 0.0253 - val_accuracy: 0.9895 - val_loss: 0.0240\n",
      "Epoch 7/10\n",
      "\u001b[1m563/563\u001b[0m \u001b[32m━━━━━━━━━━━━━━━━━━━━\u001b[0m\u001b[37m\u001b[0m \u001b[1m8s\u001b[0m 14ms/step - accuracy: 0.9905 - loss: 0.0236 - val_accuracy: 0.9893 - val_loss: 0.0242\n",
      "Epoch 8/10\n",
      "\u001b[1m563/563\u001b[0m \u001b[32m━━━━━━━━━━━━━━━━━━━━\u001b[0m\u001b[37m\u001b[0m \u001b[1m9s\u001b[0m 15ms/step - accuracy: 0.9904 - loss: 0.0227 - val_accuracy: 0.9900 - val_loss: 0.0235\n",
      "Epoch 9/10\n",
      "\u001b[1m563/563\u001b[0m \u001b[32m━━━━━━━━━━━━━━━━━━━━\u001b[0m\u001b[37m\u001b[0m \u001b[1m8s\u001b[0m 14ms/step - accuracy: 0.9907 - loss: 0.0216 - val_accuracy: 0.9897 - val_loss: 0.0236\n",
      "Epoch 10/10\n",
      "\u001b[1m563/563\u001b[0m \u001b[32m━━━━━━━━━━━━━━━━━━━━\u001b[0m\u001b[37m\u001b[0m \u001b[1m8s\u001b[0m 14ms/step - accuracy: 0.9905 - loss: 0.0213 - val_accuracy: 0.9897 - val_loss: 0.0227\n"
     ]
    }
   ],
   "source": [
    "# Train the model\n",
    "hist = model_relations.fit(x_train, y_train, batch_size=16, epochs=10, validation_split=0.1)\n"
   ]
  },
  {
   "cell_type": "code",
   "execution_count": 97,
   "metadata": {},
   "outputs": [
    {
     "data": {
      "image/png": "[encoded data removed]",
      "text/plain": [
       "<Figure size 1200x400 with 2 Axes>"
      ]
     },
     "metadata": {},
     "output_type": "display_data"
    }
   ],
   "source": [
    "import matplotlib.pyplot as plt\n",
    "\n",
    "# Plot training & validation accuracy values\n",
    "plt.figure(figsize=(12, 4))\n",
    "\n",
    "plt.subplot(1, 2, 1)\n",
    "plt.plot(hist.history['accuracy'])\n",
    "plt.plot(hist.history['val_accuracy'])\n",
    "plt.title('Model accuracy')\n",
    "plt.ylabel('Accuracy')\n",
    "plt.xlabel('Epoch')\n",
    "plt.legend(['Train', 'Validation'], loc='upper left')\n",
    "\n",
    "# Plot training & validation loss values\n",
    "plt.subplot(1, 2, 2)\n",
    "plt.plot(hist.history['loss'])\n",
    "plt.plot(hist.history['val_loss'])\n",
    "plt.title('Model loss')\n",
    "plt.ylabel('Loss')\n",
    "plt.xlabel('Epoch')\n",
    "plt.legend(['Train', 'Validation'], loc='upper left')\n",
    "\n",
    "plt.show()"
   ]
  },
  {
   "cell_type": "code",
   "execution_count": 49,
   "metadata": {},
   "outputs": [],
   "source": [
    "x_test = \"i want to order two medium pizzas with sausage and black olives and two medium pizzas with pepperoni and extra cheese and three large pizzas with pepperoni and sausage\""
   ]
  },
  {
   "cell_type": "code",
   "execution_count": 51,
   "metadata": {},
   "outputs": [
    {
     "data": {
      "text/plain": [
       "'two medium sausage and black olives and two medium pepperoni and extra cheese and three large pepperoni and sausage'"
      ]
     },
     "execution_count": 51,
     "metadata": {},
     "output_type": "execute_result"
    }
   ],
   "source": [
    "x_test = expnad_abb2(x_test)\n",
    "x_test = remove_stopwords(x_test)\n",
    "x_test"
   ]
  },
  {
   "cell_type": "code",
   "execution_count": 52,
   "metadata": {},
   "outputs": [],
   "source": [
    "x_test = input_tokinezer.texts_to_sequences([x_test])\n"
   ]
  },
  {
   "cell_type": "code",
   "execution_count": 53,
   "metadata": {},
   "outputs": [],
   "source": [
    "x_test = pad_sequences(x_test, maxlen=max_length, padding='post')"
   ]
  },
  {
   "cell_type": "code",
   "execution_count": 54,
   "metadata": {},
   "outputs": [
    {
     "name": "stdout",
     "output_type": "stream",
     "text": [
      "\u001b[1m1/1\u001b[0m \u001b[32m━━━━━━━━━━━━━━━━━━━━\u001b[0m\u001b[37m\u001b[0m \u001b[1m0s\u001b[0m 467ms/step\n"
     ]
    }
   ],
   "source": [
    "pred = model_relations.predict(x_test)\n",
    "pred = np.argmax(pred, axis=-1)\n",
    "\n",
    "pred = [list(relation_tags.keys())[list(relation_tags.values()).index(i)] for i in pred[0]]"
   ]
  },
  {
   "cell_type": "code",
   "execution_count": 55,
   "metadata": {},
   "outputs": [
    {
     "data": {
      "text/plain": [
       "['two medium sausage and black olives and two medium pepperoni and extra cheese and three large pepperoni and sausage <OOV> <OOV> <OOV>']"
      ]
     },
     "execution_count": 55,
     "metadata": {},
     "output_type": "execute_result"
    }
   ],
   "source": [
    "x_test = input_tokinezer.sequences_to_texts(x_test)\n",
    "x_test"
   ]
  },
  {
   "cell_type": "code",
   "execution_count": 56,
   "metadata": {},
   "outputs": [
    {
     "name": "stdout",
     "output_type": "stream",
     "text": [
      "['B-Pizza', 'I-Pizza', 'I-Pizza', 'I-Pizza', 'I-Pizza', 'I-Pizza', 'O', 'B-Pizza', 'I-Pizza', 'I-Pizza', 'I-Pizza', 'I-Pizza', 'I-Pizza', 'O', 'B-Pizza', 'I-Pizza', 'I-Pizza', 'I-Pizza', 'I-Pizza', 'O', 'O', 'O']\n"
     ]
    }
   ],
   "source": [
    "print(pred)"
   ]
  },
  {
   "cell_type": "markdown",
   "metadata": {},
   "source": [
    "# Second Model"
   ]
  },
  {
   "cell_type": "code",
   "execution_count": 30,
   "metadata": {},
   "outputs": [],
   "source": [
    "from keras.models import Sequential"
   ]
  },
  {
   "cell_type": "code",
   "execution_count": 31,
   "metadata": {},
   "outputs": [],
   "source": [
    "tags = [\n",
    "    'O',\n",
    "    'B-DRINKORDER', 'I-DRINKORDER',\n",
    "    'B-PIZZAORDER', 'I-PIZZAORDER',\n",
    "    'B-NUMBER', 'I-NUMBER',\n",
    "    'B-DRINKTYPE', 'I-DRINKTYPE',\n",
    "    'B-VOLUME', 'I-VOLUME',\n",
    "    'B-TOPPING', 'I-TOPPING',\n",
    "    'B-SIZE', 'I-SIZE',\n",
    "    'B-QUANTITY', 'I-QUANTITY',\n",
    "    'B-STYLE', 'I-STYLE',\n",
    "    'B-CONTAINER', 'I-CONTAINER',\n",
    "    'B-NOT-TOPPING', 'I-NOT-TOPPING',\n",
    "    'B-NOT-STYLE' , 'I-NOT-STYLE'\n",
    "]"
   ]
  },
  {
   "cell_type": "code",
   "execution_count": 32,
   "metadata": {},
   "outputs": [],
   "source": [
    "toppings_regex = re.compile(r'(?<=\\(TOPPING\\s)[^)]*(?=\\s)')\n",
    "number_regex = re.compile(r'(?<=\\(NUMBER\\s)[^)]*(?=\\s)')\n",
    "size_regex = re.compile(r'(?<=\\(SIZE\\s)[^)]*(?=\\s)')\n",
    "quantity_regex = re.compile(r'(?<=\\(QUANTITY\\s)[^)]*(?=\\s)')\n",
    "style_regex = re.compile(r'(?<=\\(STYLE\\s)[^)]*(?=\\s)')\n",
    "drink_type_regex = re.compile(r'(?<=\\(DRINKTYPE\\s)[^)]*(?=\\s)')\n",
    "volume_regex = re.compile(r'(?<=\\(VOLUME\\s)[^)]*(?=\\s)')\n",
    "container_type_regex = re.compile(r'(?<=\\(CONTAINERTYPE\\s)[^)]*(?=\\s)')   "
   ]
  },
  {
   "cell_type": "code",
   "execution_count": 33,
   "metadata": {},
   "outputs": [],
   "source": [
    "sizes = set()\n",
    "toppings = set()\n",
    "numbers = set()\n",
    "quantities = set()\n",
    "styles = set()\n",
    "drink_types = set()\n",
    "container_types = set()\n",
    "volumes = set()\n"
   ]
  },
  {
   "cell_type": "code",
   "execution_count": 34,
   "metadata": {},
   "outputs": [],
   "source": [
    "sizes.update([item.lower() for sublist in df_train['train.TOP'].apply(lambda x: size_regex.findall(x)) for item in sublist])\n",
    "toppings.update([item.lower() for sublist in df_train['train.TOP'].apply(lambda x: toppings_regex.findall(x)) for item in sublist])\n",
    "numbers.update([item.lower() for sublist in df_train['train.TOP'].apply(lambda x: number_regex.findall(x)) for item in sublist])\n",
    "quantities.update([item.lower() for sublist in df_train['train.TOP'].apply(lambda x: quantity_regex.findall(x)) for item in sublist])\n",
    "styles.update([item.lower() for sublist in df_train['train.TOP'].apply(lambda x: style_regex.findall(x)) for item in sublist])\n",
    "drink_types.update([item.lower() for sublist in df_train['train.TOP'].apply(lambda x: drink_type_regex.findall(x)) for item in sublist])\n",
    "container_types.update([item.lower() for sublist in df_train['train.TOP'].apply(lambda x: container_type_regex.findall(x)) for item in sublist])\n",
    "volumes.update([item.lower() for sublist in df_train['train.TOP'].apply(lambda x: volume_regex.findall(x)) for item in sublist])\n"
   ]
  },
  {
   "cell_type": "code",
   "execution_count": 35,
   "metadata": {},
   "outputs": [],
   "source": [
    "def clean_text(text):\n",
    "    text = re.sub(r\"[^\\w']\", \" \", text)  # Remove non-word characters\n",
    "    text = re.sub(r\"\\s+\", \" \", text)  # Remove multiple spaces\n",
    "    text = text.lower().strip()  # Lowercase and strip whitespace\n",
    "    return text"
   ]
  },
  {
   "cell_type": "code",
   "execution_count": 36,
   "metadata": {},
   "outputs": [],
   "source": [
    "sizes = list(sizes)\n",
    "toppings = list(toppings)\n",
    "numbers = list(numbers)\n",
    "quantities = list(quantities)\n",
    "styles = list(styles)\n",
    "drink_types = list(drink_types)\n",
    "container_types = list(container_types)\n",
    "volumes = list(volumes)"
   ]
  },
  {
   "cell_type": "code",
   "execution_count": 37,
   "metadata": {},
   "outputs": [],
   "source": [
    "sizes = [lemma(size) for size in sizes]\n",
    "toppings = [lemma(topping) for topping in toppings]\n",
    "numbers = [lemma(number) for number in numbers]\n",
    "quantities = [lemma(quantity) for quantity in quantities]\n",
    "styles = [lemma(style) for style in styles]\n",
    "drink_types = [lemma(drink_type) for drink_type in drink_types]\n",
    "container_types = [lemma(container_type) for container_type in container_types]\n",
    "volumes = [lemma(volume) for volume in volumes]\n"
   ]
  },
  {
   "cell_type": "code",
   "execution_count": 38,
   "metadata": {},
   "outputs": [],
   "source": [
    "b_toppings = set()\n",
    "i_toppings = set()\n",
    "\n",
    "for topping in toppings:\n",
    "    topping = topping.split()\n",
    "    b_toppings.add(topping[0])\n",
    "    i_toppings.update(topping[1:])\n",
    "\n",
    "b_toppings = list(b_toppings)\n",
    "i_toppings = list(i_toppings)\n"
   ]
  },
  {
   "cell_type": "code",
   "execution_count": 39,
   "metadata": {},
   "outputs": [],
   "source": [
    "b_styles = set()\n",
    "i_styles = set()\n",
    "\n",
    "for style in styles:\n",
    "    style = style.split()\n",
    "    style = [word for word in style if word not in {\"and\", \"with\",'the'}]\n",
    "    b_styles.add(style[0])\n",
    "    i_styles.update(style[1:])\n",
    "\n",
    "b_styles = list(b_styles)\n",
    "i_styles = list(i_styles)"
   ]
  },
  {
   "cell_type": "code",
   "execution_count": 40,
   "metadata": {},
   "outputs": [],
   "source": [
    "b_sizes = set()\n",
    "i_sizes = set()\n",
    "\n",
    "for size in sizes:\n",
    "    size = size.split()\n",
    "    size = [word for word in size if word not in {'-'}]\n",
    "    b_sizes.add(size[0])\n",
    "    i_sizes.update(size[1:])\n",
    "\n",
    "b_sizes = list(b_sizes)\n",
    "i_sizes = list(i_sizes)\n"
   ]
  },
  {
   "cell_type": "code",
   "execution_count": 41,
   "metadata": {},
   "outputs": [],
   "source": [
    "b_drink_types = set()\n",
    "i_drink_types = set()\n",
    "\n",
    "for drink_type in drink_types:\n",
    "    drink_type = drink_type.split()\n",
    "    b_drink_types.add(drink_type[0])\n",
    "    i_drink_types.update(drink_type[1:])\n",
    "\n",
    "b_drink_types = list(b_drink_types)\n",
    "i_drink_types = list(i_drink_types)\n"
   ]
  },
  {
   "cell_type": "code",
   "execution_count": 42,
   "metadata": {},
   "outputs": [],
   "source": [
    "i_volume = set()\n",
    "\n",
    "for volume in volumes:\n",
    "    volume = volume.split('-') \n",
    "    if len(volume) == 1:\n",
    "        volume = volume[0].split()\n",
    "    \n",
    "    i_volume.add(volume[1])\n",
    "    if len(volume) > 2:\n",
    "        i_volume.update(volume[2:])\n",
    "\n",
    "i_volume = list(i_volume)\n",
    "    \n"
   ]
  },
  {
   "cell_type": "code",
   "execution_count": 43,
   "metadata": {},
   "outputs": [],
   "source": [
    "def manual_annotation(text):\n",
    "    # Break down the text and assign tags manually\n",
    "    tokens = text.lower().split()\n",
    "    labels = ['O'] * len(tokens)\n",
    "    \n",
    "    negation = False\n",
    "    \n",
    "    \n",
    "    # Identify numbers\n",
    "    for i, token in enumerate(tokens):\n",
    "        try:\n",
    "            token = str(w2n.word_to_num(token))\n",
    "            labels[i] = 'B-NUMBER'\n",
    "        except:\n",
    "            if token == 'a' or token == 'an':\n",
    "                labels[i] = 'B-NUMBER'\n",
    "                if token.isdigit():\n",
    "                    labels[i] = 'B-NUMBER'\n",
    "    \n",
    "    # Identify volumes\n",
    "    for i, token in enumerate(tokens):\n",
    "        if token in i_volume:\n",
    "            labels[i-1] = 'B-VOLUME'\n",
    "            labels[i] = 'I-VOLUME'\n",
    "\n",
    "    # Identify styles\n",
    "    for i, token in enumerate(tokens):\n",
    "        if token in negation_words:\n",
    "            negation = True\n",
    "        if token in b_styles:\n",
    "            labels[i] = 'B-STYLE' if not negation else 'B-NOT-STYLE'\n",
    "            if i+1 < len(tokens) and tokens[i+1] in i_styles:\n",
    "                labels[i+1] = 'I-STYLE' if not negation else 'I-NOT-STYLE'\n",
    "            negation = False\n",
    "    \n",
    "    # Identify toppings\n",
    "    for i, token in enumerate(tokens):\n",
    "        if token in negation_words:\n",
    "            negation = True\n",
    "        elif token in b_toppings:\n",
    "            labels[i] = 'B-TOPPING' if not negation else 'B-NOT-TOPPING'\n",
    "            negation = False\n",
    "\n",
    "    for i, token in enumerate(tokens):\n",
    "        if token in i_toppings :\n",
    "            labels[i] = 'I-NOT-TOPPING' if labels[i-1] == 'B-NOT-TOPPING' else 'I-TOPPING' if labels[i-1] == 'B-TOPPING' else labels[i]\n",
    "    \n",
    "    # Identify sizes\n",
    "    for i, token in enumerate(tokens):\n",
    "        if token in ['sized', 'size']:\n",
    "            labels[i] = 'I-SIZE'\n",
    "            labels[i-1] = 'B-SIZE'\n",
    "        if token in b_sizes:\n",
    "            labels[i] = 'B-SIZE'\n",
    "\n",
    "        # Identify drink orders\n",
    "    for i, token in enumerate(tokens):\n",
    "        if token in b_drink_types:\n",
    "            labels[i] = 'B-DRINKTYPE'\n",
    "            if i+1 < len(tokens) and tokens[i+1] in i_drink_types:\n",
    "                labels[i+1] = 'I-DRINKTYPE'\n",
    "\n",
    "    # Identify quantities\n",
    "    for i, token in enumerate(tokens):\n",
    "        if token in quantities:\n",
    "            labels[i] = 'B-QUANTITY'\n",
    "            if i+1 < len(tokens) and tokens[i+1] in quantities:\n",
    "                labels[i+1] = 'I-QUANTITY'\n",
    "\n",
    "    # Identify containers\n",
    "    for i, token in enumerate(tokens):\n",
    "        if token in container_types:\n",
    "            labels[i] = 'B-CONTAINER'\n",
    "            if i+1 < len(tokens) and tokens[i+1] in container_types:\n",
    "                labels[i+1] = 'I-CONTAINER'\n",
    "    \n",
    "   \n",
    "\n",
    "                \n",
    "    return labels\n",
    "\n",
    "# # Example usage\n",
    "# text = \"five medium pizzas with tomato and ham with no cheese\"\n",
    "# # text = tokenize_adj_noun(text)\n",
    "# labels = manual_annotation(text)\n",
    "# print(list(zip(text.split(), labels)))\n"
   ]
  },
  {
   "cell_type": "code",
   "execution_count": 44,
   "metadata": {},
   "outputs": [],
   "source": [
    "def generate_training_data(texts):\n",
    "    labeled_texts = []\n",
    "    labeled_labels = []\n",
    "    \n",
    "    for text in texts:\n",
    "        # text = tokenize_adj_noun(text)\n",
    "        labels = manual_annotation(text)\n",
    "        labeled_texts.append(text)\n",
    "        labeled_labels.append(\" \".join(labels))\n",
    "\n",
    "    \n",
    "    return labeled_texts, labeled_labels"
   ]
  },
  {
   "cell_type": "code",
   "execution_count": 71,
   "metadata": {},
   "outputs": [],
   "source": [
    "X_train, y_train = generate_training_data(df_train['train.SRC'].apply(clean_text).apply(lemma))"
   ]
  },
  {
   "cell_type": "code",
   "execution_count": 72,
   "metadata": {},
   "outputs": [],
   "source": [
    "for i in range(len(X_train)):\n",
    "    X_train[i],y_train[i] = expand(X_train[i],y_train[i])\n",
    "    X_train[i],y_train[i]= remove_stopwords_with_labels(X_train[i],y_train[i])"
   ]
  },
  {
   "cell_type": "code",
   "execution_count": 54,
   "metadata": {},
   "outputs": [],
   "source": [
    "# fast_text_model_2 = FastText(sentences= [X_train], vector_size=50, window=5, min_count=1, workers=4, sg=1,epochs=150)"
   ]
  },
  {
   "cell_type": "code",
   "execution_count": 51,
   "metadata": {},
   "outputs": [
    {
     "data": {
      "text/plain": [
       "dict_keys([' ', 'e', 'a', 'i', 't', 'n', 'r', 'p', 'o', 'd', 'h', 'l', 'z', 's', 'c', 'w', 'u', 'm', 'f', 'g', 'b', 'k', 'v', 'y', \"'\", '0', '2', 'x', '5', '1', 'j', '6', '8', 'q', '7', '3', '4', '9'])"
      ]
     },
     "execution_count": 51,
     "metadata": {},
     "output_type": "execute_result"
    }
   ],
   "source": [
    "# fast_text_model_2.wv.key_to_index.keys()"
   ]
  },
  {
   "cell_type": "code",
   "execution_count": 73,
   "metadata": {},
   "outputs": [],
   "source": [
    "input_tokinezer_2 = Tokenizer(oov_token = \"<OOV>\")\n",
    "input_tokinezer_2.fit_on_texts(X_train)\n",
    "X_train = input_tokinezer_2.texts_to_sequences(X_train)"
   ]
  },
  {
   "cell_type": "code",
   "execution_count": 74,
   "metadata": {},
   "outputs": [],
   "source": [
    "y_train = [y.split() for y in y_train]\n",
    "y_train = [[tags.index(tag) for tag in y] for y in y_train]"
   ]
  },
  {
   "cell_type": "code",
   "execution_count": 75,
   "metadata": {},
   "outputs": [],
   "source": [
    "max_len = max([len(x) for x in X_train])"
   ]
  },
  {
   "cell_type": "code",
   "execution_count": 76,
   "metadata": {},
   "outputs": [],
   "source": [
    "y_train = pad_sequences(y_train,max_len, padding='post')\n",
    "X_train = pad_sequences(X_train,max_len, padding='post')"
   ]
  },
  {
   "cell_type": "code",
   "execution_count": null,
   "metadata": {},
   "outputs": [],
   "source": [
    "# word_index_2 = input_tokinezer_2.word_index\n",
    "# # Prepare word embeddings using FastText\n",
    "# embedding_dim_2 = fast_text_model_2.wv.vector_size  # Dimension of Word2Vec vectors\n",
    "\n",
    "# # Initialize a matrix to store word vectors\n",
    "# embedding_matrix_2 = np.zeros((len(word_index_2) + 1, embedding_dim_2))\n",
    "\n",
    "# # Fill the embedding matrix with FastText word vectors\n",
    "# for word, idx in word_index_2.items():\n",
    "#     if word in fast_text_model_2.wv.key_to_index.keys():\n",
    "#         # print(\"found\" , word)\n",
    "#         embedding_matrix_2[idx] = fast_text_model_2.wv[word]\n",
    "#     else:\n",
    "#         print(\"not found\" , word)\n",
    "#         embedding_matrix_2[idx] = np.random.uniform(-0.01, 0.01, embedding_dim_2)"
   ]
  },
  {
   "cell_type": "code",
   "execution_count": 64,
   "metadata": {},
   "outputs": [],
   "source": [
    "from tensorflow.keras.layers import Embedding,LSTM,Dense,Input,Bidirectional,Attention,Concatenate,TimeDistributed,GRU,SimpleRNN,Convolution1D,Dropout\n"
   ]
  },
  {
   "cell_type": "code",
   "execution_count": 77,
   "metadata": {},
   "outputs": [],
   "source": [
    "model = Sequential()\n",
    "model.add(Embedding(len(input_tokinezer_2.word_index)+1,100))\n",
    "model.add(Convolution1D(128, 5,padding = 'same' ,activation='relu'))\n",
    "model.add(Dropout(0.25))\n",
    "model.add(GRU(100,return_sequences=True))\n",
    "model.add(TimeDistributed(Dense(len(tags), activation='softmax')))\n",
    "model.compile('rmsprop', 'sparse_categorical_crossentropy')"
   ]
  },
  {
   "cell_type": "code",
   "execution_count": 78,
   "metadata": {},
   "outputs": [
    {
     "data": {
      "text/html": [
       "<pre style=\"white-space:pre;overflow-x:auto;line-height:normal;font-family:Menlo,'DejaVu Sans Mono',consolas,'Courier New',monospace\"><span style=\"font-weight: bold\">Model: \"sequential_3\"</span>\n",
       "</pre>\n"
      ],
      "text/plain": [
       "\u001b[1mModel: \"sequential_3\"\u001b[0m\n"
      ]
     },
     "metadata": {},
     "output_type": "display_data"
    },
    {
     "data": {
      "text/html": [
       "<pre style=\"white-space:pre;overflow-x:auto;line-height:normal;font-family:Menlo,'DejaVu Sans Mono',consolas,'Courier New',monospace\">┏━━━━━━━━━━━━━━━━━━━━━━━━━━━━━━━━━┳━━━━━━━━━━━━━━━━━━━━━━━━┳━━━━━━━━━━━━━━━┓\n",
       "┃<span style=\"font-weight: bold\"> Layer (type)                    </span>┃<span style=\"font-weight: bold\"> Output Shape           </span>┃<span style=\"font-weight: bold\">       Param # </span>┃\n",
       "┡━━━━━━━━━━━━━━━━━━━━━━━━━━━━━━━━━╇━━━━━━━━━━━━━━━━━━━━━━━━╇━━━━━━━━━━━━━━━┩\n",
       "│ embedding_3 (<span style=\"color: #0087ff; text-decoration-color: #0087ff\">Embedding</span>)         │ ?                      │   <span style=\"color: #00af00; text-decoration-color: #00af00\">0</span> (unbuilt) │\n",
       "├─────────────────────────────────┼────────────────────────┼───────────────┤\n",
       "│ conv1d_2 (<span style=\"color: #0087ff; text-decoration-color: #0087ff\">Conv1D</span>)               │ ?                      │   <span style=\"color: #00af00; text-decoration-color: #00af00\">0</span> (unbuilt) │\n",
       "├─────────────────────────────────┼────────────────────────┼───────────────┤\n",
       "│ dropout_2 (<span style=\"color: #0087ff; text-decoration-color: #0087ff\">Dropout</span>)             │ ?                      │             <span style=\"color: #00af00; text-decoration-color: #00af00\">0</span> │\n",
       "├─────────────────────────────────┼────────────────────────┼───────────────┤\n",
       "│ gru_2 (<span style=\"color: #0087ff; text-decoration-color: #0087ff\">GRU</span>)                     │ ?                      │   <span style=\"color: #00af00; text-decoration-color: #00af00\">0</span> (unbuilt) │\n",
       "├─────────────────────────────────┼────────────────────────┼───────────────┤\n",
       "│ time_distributed_2              │ ?                      │   <span style=\"color: #00af00; text-decoration-color: #00af00\">0</span> (unbuilt) │\n",
       "│ (<span style=\"color: #0087ff; text-decoration-color: #0087ff\">TimeDistributed</span>)               │                        │               │\n",
       "└─────────────────────────────────┴────────────────────────┴───────────────┘\n",
       "</pre>\n"
      ],
      "text/plain": [
       "┏━━━━━━━━━━━━━━━━━━━━━━━━━━━━━━━━━┳━━━━━━━━━━━━━━━━━━━━━━━━┳━━━━━━━━━━━━━━━┓\n",
       "┃\u001b[1m \u001b[0m\u001b[1mLayer (type)                   \u001b[0m\u001b[1m \u001b[0m┃\u001b[1m \u001b[0m\u001b[1mOutput Shape          \u001b[0m\u001b[1m \u001b[0m┃\u001b[1m \u001b[0m\u001b[1m      Param #\u001b[0m\u001b[1m \u001b[0m┃\n",
       "┡━━━━━━━━━━━━━━━━━━━━━━━━━━━━━━━━━╇━━━━━━━━━━━━━━━━━━━━━━━━╇━━━━━━━━━━━━━━━┩\n",
       "│ embedding_3 (\u001b[38;5;33mEmbedding\u001b[0m)         │ ?                      │   \u001b[38;5;34m0\u001b[0m (unbuilt) │\n",
       "├─────────────────────────────────┼────────────────────────┼───────────────┤\n",
       "│ conv1d_2 (\u001b[38;5;33mConv1D\u001b[0m)               │ ?                      │   \u001b[38;5;34m0\u001b[0m (unbuilt) │\n",
       "├─────────────────────────────────┼────────────────────────┼───────────────┤\n",
       "│ dropout_2 (\u001b[38;5;33mDropout\u001b[0m)             │ ?                      │             \u001b[38;5;34m0\u001b[0m │\n",
       "├─────────────────────────────────┼────────────────────────┼───────────────┤\n",
       "│ gru_2 (\u001b[38;5;33mGRU\u001b[0m)                     │ ?                      │   \u001b[38;5;34m0\u001b[0m (unbuilt) │\n",
       "├─────────────────────────────────┼────────────────────────┼───────────────┤\n",
       "│ time_distributed_2              │ ?                      │   \u001b[38;5;34m0\u001b[0m (unbuilt) │\n",
       "│ (\u001b[38;5;33mTimeDistributed\u001b[0m)               │                        │               │\n",
       "└─────────────────────────────────┴────────────────────────┴───────────────┘\n"
      ]
     },
     "metadata": {},
     "output_type": "display_data"
    },
    {
     "data": {
      "text/html": [
       "<pre style=\"white-space:pre;overflow-x:auto;line-height:normal;font-family:Menlo,'DejaVu Sans Mono',consolas,'Courier New',monospace\"><span style=\"font-weight: bold\"> Total params: </span><span style=\"color: #00af00; text-decoration-color: #00af00\">0</span> (0.00 B)\n",
       "</pre>\n"
      ],
      "text/plain": [
       "\u001b[1m Total params: \u001b[0m\u001b[38;5;34m0\u001b[0m (0.00 B)\n"
      ]
     },
     "metadata": {},
     "output_type": "display_data"
    },
    {
     "data": {
      "text/html": [
       "<pre style=\"white-space:pre;overflow-x:auto;line-height:normal;font-family:Menlo,'DejaVu Sans Mono',consolas,'Courier New',monospace\"><span style=\"font-weight: bold\"> Trainable params: </span><span style=\"color: #00af00; text-decoration-color: #00af00\">0</span> (0.00 B)\n",
       "</pre>\n"
      ],
      "text/plain": [
       "\u001b[1m Trainable params: \u001b[0m\u001b[38;5;34m0\u001b[0m (0.00 B)\n"
      ]
     },
     "metadata": {},
     "output_type": "display_data"
    },
    {
     "data": {
      "text/html": [
       "<pre style=\"white-space:pre;overflow-x:auto;line-height:normal;font-family:Menlo,'DejaVu Sans Mono',consolas,'Courier New',monospace\"><span style=\"font-weight: bold\"> Non-trainable params: </span><span style=\"color: #00af00; text-decoration-color: #00af00\">0</span> (0.00 B)\n",
       "</pre>\n"
      ],
      "text/plain": [
       "\u001b[1m Non-trainable params: \u001b[0m\u001b[38;5;34m0\u001b[0m (0.00 B)\n"
      ]
     },
     "metadata": {},
     "output_type": "display_data"
    }
   ],
   "source": [
    "model.summary()"
   ]
  },
  {
   "cell_type": "code",
   "execution_count": 79,
   "metadata": {},
   "outputs": [
    {
     "name": "stdout",
     "output_type": "stream",
     "text": [
      "Epoch 1/5\n"
     ]
    },
    {
     "name": "stdout",
     "output_type": "stream",
     "text": [
      "\u001b[1m63/63\u001b[0m \u001b[32m━━━━━━━━━━━━━━━━━━━━\u001b[0m\u001b[37m\u001b[0m \u001b[1m7s\u001b[0m 57ms/step - loss: 1.4027 - val_loss: 0.3598\n",
      "Epoch 2/5\n",
      "\u001b[1m63/63\u001b[0m \u001b[32m━━━━━━━━━━━━━━━━━━━━\u001b[0m\u001b[37m\u001b[0m \u001b[1m3s\u001b[0m 46ms/step - loss: 0.2698 - val_loss: 0.1024\n",
      "Epoch 3/5\n",
      "\u001b[1m63/63\u001b[0m \u001b[32m━━━━━━━━━━━━━━━━━━━━\u001b[0m\u001b[37m\u001b[0m \u001b[1m3s\u001b[0m 41ms/step - loss: 0.0889 - val_loss: 0.0454\n",
      "Epoch 4/5\n",
      "\u001b[1m63/63\u001b[0m \u001b[32m━━━━━━━━━━━━━━━━━━━━\u001b[0m\u001b[37m\u001b[0m \u001b[1m3s\u001b[0m 46ms/step - loss: 0.0433 - val_loss: 0.0282\n",
      "Epoch 5/5\n",
      "\u001b[1m63/63\u001b[0m \u001b[32m━━━━━━━━━━━━━━━━━━━━\u001b[0m\u001b[37m\u001b[0m \u001b[1m3s\u001b[0m 44ms/step - loss: 0.0284 - val_loss: 0.0216\n"
     ]
    }
   ],
   "source": [
    "hist = model.fit(X_train, y_train, batch_size=128, epochs=5, validation_split=0.2)"
   ]
  },
  {
   "cell_type": "code",
   "execution_count": 80,
   "metadata": {},
   "outputs": [
    {
     "data": {
      "image/png": "[encoded data removed]",
      "text/plain": [
       "<Figure size 1200x400 with 1 Axes>"
      ]
     },
     "metadata": {},
     "output_type": "display_data"
    }
   ],
   "source": [
    "import matplotlib.pyplot as plt\n",
    "\n",
    "# Plot training & validation accuracy values\n",
    "plt.figure(figsize=(12, 4))\n",
    "\n",
    "# plt.subplot(1, 2, 1)\n",
    "# plt.plot(hist.history['accuracy'])\n",
    "# plt.plot(hist.history['val_accuracy'])\n",
    "# plt.title('Model accuracy')\n",
    "# plt.ylabel('Accuracy')\n",
    "# plt.xlabel('Epoch')\n",
    "# plt.legend(['Train', 'Validation'], loc='upper left')\n",
    "\n",
    "# Plot training & validation loss values\n",
    "plt.subplot(1, 2, 2)\n",
    "plt.plot(hist.history['loss'])\n",
    "plt.plot(hist.history['val_loss'])\n",
    "plt.title('Model loss')\n",
    "plt.ylabel('Loss')\n",
    "plt.xlabel('Epoch')\n",
    "plt.legend(['Train', 'Validation'], loc='upper left')\n",
    "\n",
    "plt.show()"
   ]
  },
  {
   "cell_type": "code",
   "execution_count": null,
   "metadata": {},
   "outputs": [],
   "source": []
  },
  {
   "cell_type": "code",
   "execution_count": 98,
   "metadata": {},
   "outputs": [
    {
     "name": "stdout",
     "output_type": "stream",
     "text": [
      "two medium sausage and black olives and two medium pepperoni and extra cheese and three large pepperoni and sausage\n"
     ]
    }
   ],
   "source": [
    "x_test = \"i want to order two medium pizzas with sausage and black olives and two medium pizzas with pepperoni and extra cheese and three large pizzas with pepperoni and sausage\"\n",
    "x_test = clean_text(x_test)\n",
    "x_test = expnad_abb2(x_test)\n",
    "x_test = remove_stopwords(x_test)\n",
    "print(x_test)"
   ]
  },
  {
   "cell_type": "code",
   "execution_count": 101,
   "metadata": {},
   "outputs": [
    {
     "name": "stdout",
     "output_type": "stream",
     "text": [
      "\u001b[1m1/1\u001b[0m \u001b[32m━━━━━━━━━━━━━━━━━━━━\u001b[0m\u001b[37m\u001b[0m \u001b[1m0s\u001b[0m 33ms/step\n",
      "['B-Pizza', 'I-Pizza', 'I-Pizza', 'I-Pizza', 'I-Pizza', 'I-Pizza', 'O', 'B-Pizza', 'I-Pizza', 'I-Pizza', 'I-Pizza', 'I-Pizza', 'I-Pizza', 'O', 'B-Pizza', 'I-Pizza', 'I-Pizza', 'I-Pizza', 'I-Pizza', 'O', 'O', 'O']\n"
     ]
    }
   ],
   "source": [
    "x_test_relation = input_tokinezer.texts_to_sequences([x_test])\n",
    "x_test_relation = pad_sequences(x_test_relation, maxlen=max_length, padding='post')\n",
    "pred_relation = model_relations.predict(x_test_relation)\n",
    "pred_relation = np.argmax(pred_relation, axis=-1)\n",
    "pred_relation = [list(relation_tags.keys())[list(relation_tags.values()).index(i)] for i in pred_relation[0]]\n",
    "print(pred_relation)"
   ]
  },
  {
   "cell_type": "code",
   "execution_count": 102,
   "metadata": {},
   "outputs": [
    {
     "name": "stdout",
     "output_type": "stream",
     "text": [
      "\u001b[1m1/1\u001b[0m \u001b[32m━━━━━━━━━━━━━━━━━━━━\u001b[0m\u001b[37m\u001b[0m \u001b[1m0s\u001b[0m 350ms/step\n",
      "['B-NUMBER', 'B-SIZE', 'B-TOPPING', 'O', 'B-TOPPING', 'I-TOPPING', 'O', 'B-NUMBER', 'B-SIZE', 'B-TOPPING', 'O', 'B-NUMBER', 'B-TOPPING', 'O', 'B-NUMBER', 'B-SIZE', 'B-TOPPING', 'O', 'B-TOPPING', 'O', 'O']\n"
     ]
    }
   ],
   "source": [
    "x_test_entity = input_tokinezer_2.texts_to_sequences([x_test])\n",
    "x_test_entity = pad_sequences(x_test_entity, maxlen=max_len, padding='post')\n",
    "\n",
    "pred_entity = model.predict(x_test_entity)\n",
    "pred_entity = np.argmax(pred_entity, axis=-1)\n",
    "pred_entity = [tags[i] for i in pred_entity[0]]\n",
    "print(pred_entity)"
   ]
  },
  {
   "cell_type": "code",
   "execution_count": 105,
   "metadata": {},
   "outputs": [
    {
     "data": {
      "text/plain": [
       "{'ORDER': {'PIZZAORDER': [{'NUMBER': 'two',\n",
       "    'SIZE': 'medium',\n",
       "    'STYLE': None,\n",
       "    'AllTopping': [{'NOT': False, 'Quantity': None, 'Topping': 'sausage'},\n",
       "     {'NOT': False, 'Quantity': None, 'Topping': 'black'}]},\n",
       "   {'NUMBER': 'extra',\n",
       "    'SIZE': 'medium',\n",
       "    'STYLE': None,\n",
       "    'AllTopping': [{'NOT': False, 'Quantity': None, 'Topping': 'pepperoni'},\n",
       "     {'NOT': False, 'Quantity': None, 'Topping': 'cheese'}]}],\n",
       "  'DRINKORDER': []}}"
      ]
     },
     "execution_count": 105,
     "metadata": {},
     "output_type": "execute_result"
    }
   ],
   "source": [
    "import re\n",
    "from collections import defaultdict\n",
    "\n",
    "def parse_order(input_text, model1_preds, model2_preds):\n",
    "    tokens = input_text.split()\n",
    "\n",
    "    # Combine predictions with tokens\n",
    "    combined = [\n",
    "        {\"token\": token, \"model1\": m1, \"model2\": m2}\n",
    "        for token, m1, m2 in zip(tokens, model1_preds, model2_preds)\n",
    "    ]\n",
    "\n",
    "    orders = []\n",
    "    current_order = None\n",
    "\n",
    "    for i, item in enumerate(combined):\n",
    "        token, model1, model2 = item[\"token\"], item[\"model1\"], item[\"model2\"]\n",
    "\n",
    "        if model1 == \"B-Pizza\":\n",
    "            # Start a new order\n",
    "            # if current_order:\n",
    "            #     orders.append(current_order)\n",
    "            if current_order is not None:\n",
    "                orders.append(current_order)\n",
    "                \n",
    "            current_order = {\n",
    "                \"NUMBER\": None,\n",
    "                \"SIZE\": None,\n",
    "                \"STYLE\": None,\n",
    "                \"AllTopping\": []\n",
    "            }\n",
    "            if model2 == \"B-NUMBER\":\n",
    "                current_order[\"NUMBER\"] = token\n",
    "\n",
    "            if model2 == \"B-SIZE\":\n",
    "                current_order[\"SIZE\"] = token\n",
    "            if model2 == \"B-TOPPING\":\n",
    "                topping = {\n",
    "                    \"NOT\": False,\n",
    "                    \"Quantity\": None,\n",
    "                    \"Topping\": token\n",
    "                }\n",
    "                current_order[\"AllTopping\"].append(topping)\n",
    "\n",
    "            if model2 == \"B-STYLE\":\n",
    "                current_order[\"STYLE\"] = token\n",
    "    \n",
    "        else: \n",
    "\n",
    "            if model2 == \"B-NUMBER\":\n",
    "                current_order[\"NUMBER\"] = token\n",
    "\n",
    "            if model2 == \"B-SIZE\":\n",
    "                current_order[\"SIZE\"] = token\n",
    "            if model2 == \"B-TOPPING\":\n",
    "                topping = {\n",
    "                    \"NOT\": False,\n",
    "                    \"Quantity\": None,\n",
    "                    \"Topping\": token\n",
    "                }\n",
    "                current_order[\"AllTopping\"].append(topping)\n",
    "\n",
    "            if model2 == \"B-STYLE\":\n",
    "                current_order[\"STYLE\"] = token\n",
    "\n",
    "  \n",
    "\n",
    "    # Construct final output\n",
    "    output = {\"ORDER\": {\"PIZZAORDER\": orders, \"DRINKORDER\": []}}\n",
    "    return output\n",
    "\n",
    "# Example input\n",
    "input_text = \"two medium sausage and black olives and two medium pepperoni and extra cheese and three large pepperoni and sausage\"\n",
    "model1_preds = ['B-Pizza', 'I-Pizza', 'I-Pizza', 'I-Pizza', 'I-Pizza', 'I-Pizza', 'O', 'B-Pizza', 'I-Pizza', 'I-Pizza', 'I-Pizza', 'I-Pizza', 'I-Pizza', 'O', 'B-Pizza', 'I-Pizza', 'I-Pizza', 'I-Pizza', 'I-Pizza', 'O', 'O', 'O']\n",
    "model2_preds = ['B-NUMBER', 'B-SIZE', 'B-TOPPING', 'O', 'B-TOPPING', 'I-TOPPING', 'O', 'B-NUMBER', 'B-SIZE', 'B-TOPPING', 'O', 'B-NUMBER', 'B-TOPPING', 'O', 'B-NUMBER', 'B-SIZE', 'B-TOPPING', 'O', 'B-TOPPING', 'O', 'O']\n",
    "\n",
    "# Parse\n",
    "output = parse_order(input_text, model1_preds, model2_preds)\n",
    "output"
   ]
  },
  {
   "cell_type": "code",
   "execution_count": null,
   "metadata": {},
   "outputs": [],
   "source": []
  }
 ],
 "metadata": {
  "kernelspec": {
   "display_name": "Python 3",
   "language": "python",
   "name": "python3"
  },
  "language_info": {
   "codemirror_mode": {
    "name": "ipython",
    "version": 3
   },
   "file_extension": ".py",
   "mimetype": "text/x-python",
   "name": "python",
   "nbconvert_exporter": "python",
   "pygments_lexer": "ipython3",
   "version": "3.11.5"
  }
 },
 "nbformat": 4,
 "nbformat_minor": 2
}
