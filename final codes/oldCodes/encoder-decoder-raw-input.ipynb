{
  "nbformat": 4,
  "nbformat_minor": 0,
  "metadata": {
    "colab": {
      "provenance": [],
      "gpuType": "T4"
    },
    "kernelspec": {
      "name": "python3",
      "display_name": "Python 3"
    },
    "language_info": {
      "name": "python"
    },
    "accelerator": "GPU"
  },
  "cells": [
    {
      "cell_type": "code",
      "source": [
        "! pip install opendatasets"
      ],
      "metadata": {
        "colab": {
          "base_uri": "https://localhost:8080/"
        },
        "id": "4xT12KAV1-Na",
        "outputId": "dac70439-07c7-446f-c156-94d290e6124e"
      },
      "execution_count": 3,
      "outputs": [
        {
          "output_type": "stream",
          "name": "stdout",
          "text": [
            "Collecting opendatasets\n",
            "  Downloading opendatasets-0.1.22-py3-none-any.whl.metadata (9.2 kB)\n",
            "Requirement already satisfied: tqdm in /usr/local/lib/python3.10/dist-packages (from opendatasets) (4.66.6)\n",
            "Requirement already satisfied: kaggle in /usr/local/lib/python3.10/dist-packages (from opendatasets) (1.6.17)\n",
            "Requirement already satisfied: click in /usr/local/lib/python3.10/dist-packages (from opendatasets) (8.1.7)\n",
            "Requirement already satisfied: six>=1.10 in /usr/local/lib/python3.10/dist-packages (from kaggle->opendatasets) (1.16.0)\n",
            "Requirement already satisfied: certifi>=2023.7.22 in /usr/local/lib/python3.10/dist-packages (from kaggle->opendatasets) (2024.8.30)\n",
            "Requirement already satisfied: python-dateutil in /usr/local/lib/python3.10/dist-packages (from kaggle->opendatasets) (2.8.2)\n",
            "Requirement already satisfied: requests in /usr/local/lib/python3.10/dist-packages (from kaggle->opendatasets) (2.32.3)\n",
            "Requirement already satisfied: python-slugify in /usr/local/lib/python3.10/dist-packages (from kaggle->opendatasets) (8.0.4)\n",
            "Requirement already satisfied: urllib3 in /usr/local/lib/python3.10/dist-packages (from kaggle->opendatasets) (2.2.3)\n",
            "Requirement already satisfied: bleach in /usr/local/lib/python3.10/dist-packages (from kaggle->opendatasets) (6.2.0)\n",
            "Requirement already satisfied: webencodings in /usr/local/lib/python3.10/dist-packages (from bleach->kaggle->opendatasets) (0.5.1)\n",
            "Requirement already satisfied: text-unidecode>=1.3 in /usr/local/lib/python3.10/dist-packages (from python-slugify->kaggle->opendatasets) (1.3)\n",
            "Requirement already satisfied: charset-normalizer<4,>=2 in /usr/local/lib/python3.10/dist-packages (from requests->kaggle->opendatasets) (3.4.0)\n",
            "Requirement already satisfied: idna<4,>=2.5 in /usr/local/lib/python3.10/dist-packages (from requests->kaggle->opendatasets) (3.10)\n",
            "Downloading opendatasets-0.1.22-py3-none-any.whl (15 kB)\n",
            "Installing collected packages: opendatasets\n",
            "Successfully installed opendatasets-0.1.22\n"
          ]
        }
      ]
    },
    {
      "cell_type": "code",
      "source": [
        "import opendatasets as od\n",
        "import pandas\n",
        "\n",
        "od.download( \"https://www.kaggle.com/datasets/ahmedsamyibrahim/pizza-dataset\")"
      ],
      "metadata": {
        "colab": {
          "base_uri": "https://localhost:8080/"
        },
        "id": "0jH_mnpF199C",
        "outputId": "1516e0ff-0965-481e-d481-3849438eb7c7"
      },
      "execution_count": 4,
      "outputs": [
        {
          "output_type": "stream",
          "name": "stdout",
          "text": [
            "Please provide your Kaggle credentials to download this dataset. Learn more: http://bit.ly/kaggle-creds\n",
            "Your Kaggle username: yaramahrous\n",
            "Your Kaggle Key: ··········\n",
            "Dataset URL: https://www.kaggle.com/datasets/ahmedsamyibrahim/pizza-dataset\n",
            "Downloading pizza-dataset.zip to ./pizza-dataset\n"
          ]
        },
        {
          "output_type": "stream",
          "name": "stderr",
          "text": [
            "100%|██████████| 104M/104M [00:01<00:00, 90.9MB/s] \n"
          ]
        },
        {
          "output_type": "stream",
          "name": "stdout",
          "text": [
            "\n"
          ]
        }
      ]
    },
    {
      "cell_type": "code",
      "execution_count": 1,
      "metadata": {
        "id": "UU0NYQfhx31d"
      },
      "outputs": [],
      "source": [
        "import pandas as pd\n",
        "import tensorflow as tf\n",
        "from tensorflow.keras.layers import Embedding, LSTM, Dense, Bidirectional\n",
        "from tensorflow.keras.models import Model\n",
        "from tensorflow.keras.preprocessing.text import Tokenizer\n",
        "from tensorflow.keras.utils import pad_sequences"
      ]
    },
    {
      "cell_type": "code",
      "source": [
        "df = pd.read_json(\"pizza-dataset/PIZZA_train.json\", lines=True)\n",
        "df = df.sample(1000000)"
      ],
      "metadata": {
        "id": "uumoBmYGx-vK"
      },
      "execution_count": 5,
      "outputs": []
    },
    {
      "cell_type": "code",
      "source": [
        "# Extract source (SRC) and target (EXR) fields\n",
        "src_texts = df[\"train.SRC\"].tolist()\n",
        "tgt_texts = [\"<sos> \" + text + \" <eos>\" for text in df[\"train.EXR\"].tolist()]  # Add start and end tokens\n",
        "\n",
        "# Tokenizers\n",
        "src_tokenizer = Tokenizer(filters=\"\")\n",
        "tgt_tokenizer = Tokenizer(filters=\"\")\n",
        "\n",
        "src_tokenizer.fit_on_texts(src_texts)\n",
        "tgt_tokenizer.fit_on_texts(tgt_texts)\n",
        "\n",
        "# Vocabulary sizes\n",
        "src_vocab_size = len(src_tokenizer.word_index) + 1\n",
        "tgt_vocab_size = len(tgt_tokenizer.word_index) + 1\n",
        "\n",
        "# Tokenize and pad sequences\n",
        "src_sequences = src_tokenizer.texts_to_sequences(src_texts)\n",
        "tgt_sequences = tgt_tokenizer.texts_to_sequences(tgt_texts)\n",
        "\n",
        "max_src_len = max(len(seq) for seq in src_sequences)\n",
        "max_tgt_len = max(len(seq) for seq in tgt_sequences)\n",
        "\n",
        "src_sequences = pad_sequences(src_sequences, maxlen=max_src_len, padding=\"post\")\n",
        "tgt_sequences = pad_sequences(tgt_sequences, maxlen=max_tgt_len, padding=\"post\")\n",
        "\n",
        "# Dataset Preparation\n",
        "BATCH_SIZE = 64\n",
        "BUFFER_SIZE = 10000\n",
        "\n",
        "dataset = tf.data.Dataset.from_tensor_slices((src_sequences, tgt_sequences))\n",
        "dataset = dataset.shuffle(BUFFER_SIZE).batch(BATCH_SIZE, drop_remainder=True)\n",
        "\n",
        "# Model Parameters\n",
        "EMBED_SIZE = 128\n",
        "HIDDEN_SIZE = 256\n",
        "\n",
        "# Encoder\n",
        "class Encoder(Model):\n",
        "    def __init__(self, vocab_size, embed_size, hidden_size, **kwargs):\n",
        "        super(Encoder, self).__init__(**kwargs)\n",
        "        self.embedding = tf.keras.layers.Embedding(vocab_size, embed_size, trainable=True)\n",
        "        self.lstm = tf.keras.layers.Bidirectional(\n",
        "            tf.keras.layers.LSTM(hidden_size, return_sequences=True, return_state=True)\n",
        "        )\n",
        "\n",
        "    def call(self, x):\n",
        "        x = self.embedding(x)\n",
        "        outputs, forward_h, forward_c, backward_h, backward_c = self.lstm(x)\n",
        "        state_h = tf.concat([forward_h, backward_h], axis=-1)\n",
        "        state_c = tf.concat([forward_c, backward_c], axis=-1)\n",
        "        return outputs, state_h, state_c\n",
        "\n",
        "    def get_config(self):\n",
        "        config = super(Encoder, self).get_config()\n",
        "        config.update({\n",
        "            \"vocab_size\": self.embedding.input_dim,\n",
        "            \"embed_size\": self.embedding.output_dim,\n",
        "            \"hidden_size\": self.lstm.forward_layer.units,\n",
        "        })\n",
        "        return config\n",
        "\n",
        "    @classmethod\n",
        "    def from_config(cls, config):\n",
        "        return cls(**config)\n",
        "\n",
        "# Attention Layer\n",
        "class Attention(tf.keras.layers.Layer):\n",
        "    def __init__(self, hidden_size):\n",
        "        super(Attention, self).__init__()\n",
        "        self.W1 = Dense(hidden_size)\n",
        "        self.W2 = Dense(hidden_size)\n",
        "        self.V = Dense(1)\n",
        "\n",
        "    def call(self, encoder_outputs, hidden):\n",
        "        hidden_with_time_axis = tf.expand_dims(hidden, 1)\n",
        "        score = self.V(tf.nn.tanh(self.W1(encoder_outputs) + self.W2(hidden_with_time_axis)))\n",
        "        attention_weights = tf.nn.softmax(score, axis=1)\n",
        "        context_vector = attention_weights * encoder_outputs\n",
        "        context_vector = tf.reduce_sum(context_vector, axis=1)\n",
        "        return context_vector, attention_weights\n",
        "\n",
        "# Decoder\n",
        "class Decoder(Model):\n",
        "    def __init__(self, vocab_size, embed_size, hidden_size, **kwargs):\n",
        "        super(Decoder, self).__init__(**kwargs)\n",
        "        self.embedding = Embedding(vocab_size, embed_size, trainable=True)\n",
        "        self.lstm = LSTM(hidden_size * 2, return_sequences=True, return_state=True)\n",
        "        self.fc = Dense(vocab_size)\n",
        "        self.attention = Attention(hidden_size)\n",
        "\n",
        "    def call(self, x, encoder_outputs, hidden, cell):\n",
        "        context_vector, attention_weights = self.attention(encoder_outputs, hidden)\n",
        "        x = self.embedding(x)\n",
        "        x = tf.concat([tf.expand_dims(context_vector, 1), x], axis=-1)\n",
        "        outputs, state_h, state_c = self.lstm(x, initial_state=[hidden, cell])\n",
        "        logits = self.fc(outputs)\n",
        "        return logits, state_h, state_c, attention_weights\n",
        "\n",
        "\n",
        "    def get_config(self):\n",
        "        config = super(Decoder, self).get_config()\n",
        "        config.update({\n",
        "            \"vocab_size\": self.embedding.input_dim,\n",
        "            \"embed_size\": self.embedding.output_dim,\n",
        "            \"hidden_size\": self.lstm.units // 2,  # Divide by 2 because of bidirectional\n",
        "        })\n",
        "        return config\n",
        "\n",
        "    @classmethod\n",
        "    def from_config(cls, config):\n",
        "        return cls(**config)\n",
        "\n",
        "# Define the model\n",
        "encoder = Encoder(src_vocab_size, EMBED_SIZE, HIDDEN_SIZE)\n",
        "decoder = Decoder(tgt_vocab_size, EMBED_SIZE, HIDDEN_SIZE)\n",
        "\n",
        "# Loss function\n",
        "loss_object = tf.keras.losses.SparseCategoricalCrossentropy(from_logits=True, reduction='none')\n",
        "\n",
        "def loss_function(real, pred):\n",
        "    # Squeeze the predictions to remove the extra dimension\n",
        "    pred = tf.squeeze(pred, axis=1)\n",
        "    loss = loss_object(real, pred)\n",
        "    mask = tf.math.logical_not(tf.math.equal(real, 0))\n",
        "    mask = tf.cast(mask, dtype=loss.dtype)\n",
        "    loss *= mask\n",
        "    return tf.reduce_mean(loss)\n",
        "\n",
        "# Optimizer\n",
        "optimizer = tf.keras.optimizers.Adam()\n",
        "\n"
      ],
      "metadata": {
        "id": "k8Zgx7DFyB7j"
      },
      "execution_count": 10,
      "outputs": []
    },
    {
      "cell_type": "code",
      "source": [
        "from tensorflow.keras.models import load_model\n",
        "\n",
        "\n",
        "class Seq2SeqModel(tf.keras.Model):\n",
        "    def __init__(self, encoder, decoder, **kwargs):\n",
        "        super(Seq2SeqModel, self).__init__(**kwargs)\n",
        "        self.encoder = encoder\n",
        "        self.decoder = decoder\n",
        "\n",
        "    def get_config(self):\n",
        "        config = super(Seq2SeqModel, self).get_config()\n",
        "        config.update({\n",
        "            'encoder': self.encoder,\n",
        "            'decoder': self.decoder,\n",
        "        })\n",
        "        return config\n",
        "\n",
        "    @classmethod\n",
        "    def from_config(cls, config):\n",
        "        return cls(**config)\n",
        "\n",
        "\n",
        "    def call(self, inputs):\n",
        "        src, tgt = inputs\n",
        "        encoder_outputs, state_h, state_c = self.encoder(src)\n",
        "        logits, _, _, _ = self.decoder(tgt, encoder_outputs, state_h, state_c)\n",
        "        return logits\n",
        "\n",
        "seq2seq_model = Seq2SeqModel(encoder, decoder)\n",
        "seq2seq_model.save(\"seq2seq_model.keras\")\n",
        "\n",
        "\n",
        "loaded_model = load_model(\"seq2seq_model.keras\", custom_objects={\n",
        "    \"Seq2SeqModel\": Seq2SeqModel,\n",
        "    \"Encoder\": Encoder,\n",
        "    \"Decoder\": Decoder,\n",
        "    \"Attention\": Attention\n",
        "})\n"
      ],
      "metadata": {
        "id": "PINz4iGEwxIo",
        "outputId": "b39ab400-4a11-4e82-d083-00afdba09872",
        "colab": {
          "base_uri": "https://localhost:8080/"
        }
      },
      "execution_count": 12,
      "outputs": [
        {
          "output_type": "stream",
          "name": "stderr",
          "text": [
            "/usr/local/lib/python3.10/dist-packages/keras/src/saving/saving_api.py:107: UserWarning: You are saving a model that has not yet been built. It might not contain any weights yet. Consider building the model first by calling it on some data.\n",
            "  return saving_lib.save_model(model, filepath)\n"
          ]
        }
      ]
    },
    {
      "cell_type": "code",
      "source": [
        "# Training step\n",
        "@tf.function\n",
        "def train_step(src, tgt):\n",
        "    loss = 0\n",
        "    with tf.GradientTape() as tape:\n",
        "        encoder_outputs, enc_hidden, enc_cell = encoder(src)\n",
        "        dec_hidden, dec_cell = enc_hidden, enc_cell\n",
        "        dec_input = tf.expand_dims([tgt_tokenizer.word_index[\"<sos>\"]] * BATCH_SIZE, 1)\n",
        "\n",
        "        for t in range(1, tgt.shape[1]):\n",
        "            predictions, dec_hidden, dec_cell, _ = decoder(dec_input, encoder_outputs, dec_hidden, dec_cell)\n",
        "            loss += loss_function(tgt[:, t], predictions)\n",
        "            dec_input = tf.expand_dims(tgt[:, t], 1)\n",
        "\n",
        "    batch_loss = loss / int(tgt.shape[1])\n",
        "    variables = encoder.trainable_variables + decoder.trainable_variables\n",
        "    gradients = tape.gradient(loss, variables)\n",
        "    optimizer.apply_gradients(zip(gradients, variables))\n",
        "    return batch_loss\n",
        "# Training loop\n",
        "EPOCHS = 5\n",
        "\n",
        "for epoch in range(EPOCHS):\n",
        "    total_loss = 0\n",
        "\n",
        "    for (batch, (src, tgt)) in enumerate(dataset):\n",
        "        batch_loss = train_step(src, tgt)\n",
        "        total_loss += batch_loss\n",
        "\n",
        "    print(f\"Epoch {epoch+1}/{EPOCHS}, Loss: {total_loss.numpy():.4f}\")"
      ],
      "metadata": {
        "id": "L8oLxrOQyFNy"
      },
      "execution_count": null,
      "outputs": []
    },
    {
      "cell_type": "code",
      "source": [
        "def translate(sentence, encoder, decoder, src_tokenizer, tgt_tokenizer, max_tgt_len):\n",
        "    # Tokenize and pad the input\n",
        "    input_sequence = src_tokenizer.texts_to_sequences([sentence])\n",
        "    input_sequence = pad_sequences(input_sequence, maxlen=max_src_len, padding=\"post\")\n",
        "\n",
        "    # Encode the input sequence\n",
        "    encoder_outputs, enc_hidden, enc_cell = encoder(tf.convert_to_tensor(input_sequence))\n",
        "\n",
        "    # Initialize the decoder\n",
        "    dec_input = tf.expand_dims([tgt_tokenizer.word_index[\"<sos>\"]], 0)\n",
        "    dec_hidden, dec_cell = enc_hidden, enc_cell\n",
        "\n",
        "    result_tokens = []\n",
        "\n",
        "    for _ in range(max_tgt_len):\n",
        "        predictions, dec_hidden, dec_cell, _ = decoder(dec_input, encoder_outputs, dec_hidden, dec_cell)\n",
        "        predicted_id = tf.argmax(predictions[0, 0]).numpy()\n",
        "\n",
        "        if predicted_id == tgt_tokenizer.word_index[\"<eos>\"]:\n",
        "            break\n",
        "\n",
        "        if predicted_id in tgt_tokenizer.index_word:  # Ensure valid token\n",
        "            result_tokens.append(tgt_tokenizer.index_word[predicted_id])\n",
        "        else:\n",
        "            result_tokens.append(\"<unk>\")  # Handle unknown tokens\n",
        "\n",
        "        dec_input = tf.expand_dims([predicted_id], 0)\n",
        "\n",
        "    # Join tokens to form the final output\n",
        "    predicted_sentence = \" \".join(result_tokens)\n",
        "    return predicted_sentence\n"
      ],
      "metadata": {
        "id": "xjYuSWSlyHbD"
      },
      "execution_count": null,
      "outputs": []
    },
    {
      "cell_type": "code",
      "source": [
        "input_sentence = \"i'd like to get a small pepperoni and tuna pizza and i don't want it on thin crust\"\n",
        "\n",
        "# Translate the input\n",
        "predicted_output = translate(input_sentence, encoder, decoder, src_tokenizer, tgt_tokenizer, max_tgt_len)\n",
        "print(\"Input Sentence:\", input_sentence)\n",
        "print(\"Predicted Output:\", predicted_output)"
      ],
      "metadata": {
        "colab": {
          "base_uri": "https://localhost:8080/"
        },
        "id": "u607uCFKyLZj",
        "outputId": "2267efe0-2789-49da-9291-15e0fef3face"
      },
      "execution_count": null,
      "outputs": [
        {
          "output_type": "stream",
          "name": "stdout",
          "text": [
            "Input Sentence: i'd like to get a small pepperoni and tuna pizza and i don't want it on thin crust\n",
            "Predicted Output: (order (pizzaorder (number 1 ) (size small ) (topping pepperoni ) (topping tuna ) (topping tuna ) (style thin_crust ) ) )\n"
          ]
        }
      ]
    },
    {
      "cell_type": "code",
      "source": [
        "df_dev = pd.read_json(\"pizza-dataset/PIZZA_dev.json\", lines=True)\n"
      ],
      "metadata": {
        "id": "anZ0JPnSyNGb"
      },
      "execution_count": null,
      "outputs": []
    },
    {
      "cell_type": "code",
      "source": [
        "predictions = []\n",
        "\n",
        "for i in range(100):\n",
        "    predicted_output = translate(df_dev[\"dev.SRC\"].loc[i], encoder, decoder, src_tokenizer, tgt_tokenizer, max_tgt_len)\n",
        "    predictions.append(predicted_output)"
      ],
      "metadata": {
        "id": "RzwL8R4FyOp0"
      },
      "execution_count": null,
      "outputs": []
    },
    {
      "cell_type": "code",
      "source": [
        "ground_truths = []\n",
        "for i in range(100):\n",
        "    ground_truths.append(df_dev[\"dev.EXR\"].loc[i].lower())"
      ],
      "metadata": {
        "id": "r0GLQsKsyQUs"
      },
      "execution_count": null,
      "outputs": []
    },
    {
      "cell_type": "code",
      "source": [
        "for i in range(100):\n",
        "  print(f\"Expected : {ground_truths[i]}\")\n",
        "  print(f\"Predicted : {predictions[i]}\")"
      ],
      "metadata": {
        "colab": {
          "base_uri": "https://localhost:8080/"
        },
        "id": "oTE8Ut_hySVj",
        "outputId": "b8995806-88ae-4d02-8a43-c2b553ba0b45"
      },
      "execution_count": null,
      "outputs": [
        {
          "output_type": "stream",
          "name": "stdout",
          "text": [
            "(order (pizzaorder (number 1 ) (size medium ) (topping onions ) (topping tuna ) (topping ham ) ) )\n",
            "(order (pizzaorder (number 1 ) (size medium ) (topping ham ) (topping onions ) (topping tuna ) ) )\n"
          ]
        }
      ]
    },
    {
      "cell_type": "code",
      "source": [
        "for i in range(100):\n",
        "  print(f\"Expected : {ground_truths[i]}\")\n",
        "  print(f\"Predicted : {predictions[i]}\")"
      ],
      "metadata": {
        "colab": {
          "base_uri": "https://localhost:8080/"
        },
        "id": "A_DIN1t6KP2r",
        "outputId": "92658a8c-e2c5-4324-cb7c-d373eb14eb9c"
      },
      "execution_count": null,
      "outputs": [
        {
          "output_type": "stream",
          "name": "stdout",
          "text": [
            "Expected : (order (pizzaorder (number 2 ) (size medium ) (complex_topping (quantity extra ) (topping cheese ) ) (topping pepperoni ) ) (pizzaorder (number 2 ) (size medium ) (topping olives ) (topping sausage ) ) (pizzaorder (number 3 ) (size large ) (topping pepperoni ) (topping sausage ) ) )\n",
            "Predicted : (order (pizzaorder (number 3 ) (size large ) (topping pepperoni ) (topping sausage ) ) (pizzaorder (number 2 ) (size medium ) (topping sausage ) (topping tuna ) ) (pizzaorder (number 2 ) (size medium ) (topping sausage ) (topping olives ) ) )\n",
            "Expected : (order (pizzaorder (number 5 ) (size medium ) (topping ham ) (topping tomatoes ) ) )\n",
            "Predicted : (order (pizzaorder (number 5 ) (size medium ) (topping tomatoes ) (topping ham ) ) )\n",
            "Expected : (order (pizzaorder (number 1 ) (size large ) (style vegetarian ) (complex_topping (quantity extra ) (topping banana_peppers ) ) ) )\n",
            "Predicted : (order (pizzaorder (number 1 ) (size large ) (style vegetarian ) (complex_topping (quantity extra ) (topping banana_peppers ) ) ) )\n",
            "Expected : (order (pizzaorder (number 1 ) (size large ) (topping onions ) (topping peppers ) ) )\n",
            "Predicted : (order (pizzaorder (number 1 ) (size large ) (topping onions ) (topping peppers ) ) )\n",
            "Expected : (order (pizzaorder (not (topping olives ) ) (number 1 ) (topping ham ) (topping pesto ) ) )\n",
            "Predicted : (order (pizzaorder (number 1 ) (topping pesto ) (topping ham ) (not (style thin_crust ) ) ) )\n",
            "Expected : (order (drinkorder (drinktype coke ) (number 6 ) (size large ) ) (pizzaorder (number 1 ) (size large ) (topping bacon ) (topping ham ) (topping olives ) (topping onions ) ) (pizzaorder (number 1 ) (size medium ) (topping onions ) (topping sausage ) ) )\n",
            "Predicted : (order (drinkorder (number 6 ) (drinktype seven_up ) ) (pizzaorder (number 1 ) (size large ) (topping ham ) (topping bacon ) (topping onions ) ) (pizzaorder (number 1 ) (size large ) (topping ham ) (topping bacon ) (topping onions ) ) )\n",
            "Expected : (order (pizzaorder (not (topping pineapple ) ) (number 1 ) (size medium ) (style thin_crust ) (topping tuna ) ) )\n",
            "Predicted : (order (pizzaorder (number 1 ) (style thin_crust ) (topping tuna ) (not (topping pineapple ) ) ) )\n",
            "Expected : (order (pizzaorder (not (topping bacon ) ) (number 1 ) (topping peppers ) (topping pesto ) ) )\n",
            "Predicted : (order (pizzaorder (number 1 ) (topping pesto ) (topping peppers ) (not (style thin_crust ) ) ) )\n",
            "Expected : (order (pizzaorder (number 5 ) (topping onions ) (topping peppers ) (topping pesto ) ) )\n",
            "Predicted : (order (pizzaorder (number 5 ) (topping peppers ) (topping pesto ) (topping onions ) ) )\n",
            "Expected : (order (pizzaorder (number 2 ) (topping bacon ) (topping peppers ) (topping pesto ) ) )\n",
            "Predicted : (order (pizzaorder (number 2 ) (topping peppers ) (topping bacon ) ) )\n",
            "Expected : (order (pizzaorder (number 1 ) (size large ) (complex_topping (quantity extra ) (topping cheese ) ) (topping onions ) (topping pepperoni ) ) )\n",
            "Predicted : (order (pizzaorder (number 1 ) (size large ) (topping onions ) (topping pepperoni ) (complex_topping (quantity extra ) (topping cheese ) ) ) )\n",
            "Expected : (order (pizzaorder (number 1 ) (size medium ) (topping ham ) (topping onions ) (topping tuna ) ) )\n",
            "Predicted : (order (pizzaorder (number 1 ) (size medium ) (topping onions ) (topping tuna ) ) )\n",
            "Expected : (order (pizzaorder (number 1 ) (size medium ) (topping mushrooms ) (topping olives ) ) )\n",
            "Predicted : (order (pizzaorder (number 1 ) (size medium ) (topping mushrooms ) (topping olives ) ) )\n",
            "Expected : (order (pizzaorder (not (topping pepperoni ) ) (number 1 ) (size small ) (topping bacon ) (topping olives ) ) )\n",
            "Predicted : (order (pizzaorder (number 1 ) (size small ) (topping bacon ) (topping olives ) (not (style thin_crust ) ) ) )\n",
            "Expected : (order (pizzaorder (not (topping pineapple ) ) (number 1 ) (size small ) (topping mushrooms ) (topping peppers ) ) )\n",
            "Predicted : (order (pizzaorder (number 1 ) (size small ) (topping peppers ) (topping mushrooms ) (not (style thin_crust ) ) ) )\n",
            "Expected : (order (pizzaorder (number 6 ) (size medium ) (topping pickles ) (topping tomatoes ) ) )\n",
            "Predicted : (order (pizzaorder (number 6 ) (size medium ) (topping tomatoes ) (topping pickles ) ) )\n",
            "Expected : (order (drinkorder (drinktype ice_tea ) (number 1 ) (size small ) ) (pizzaorder (number 1 ) (size medium ) (topping ham ) (topping pineapple ) ) )\n",
            "Predicted : (order (drinkorder (number 1 ) (size small ) (drinktype ice_tea ) ) (pizzaorder (number 1 ) (size medium ) (topping ham ) (topping pineapple ) ) )\n",
            "Expected : (order (pizzaorder (not (topping onions ) ) (number 2 ) (size medium ) (topping mushrooms ) (topping peppers ) ) )\n",
            "Predicted : (order (pizzaorder (number 2 ) (size medium ) (topping peppers ) (topping mushrooms ) ) )\n",
            "Expected : (order (pizzaorder (not (topping mushrooms ) ) (number 1 ) (size medium ) (topping olives ) (topping onions ) ) )\n",
            "Predicted : (order (pizzaorder (number 1 ) (size medium ) (topping onions ) (not (topping mushrooms ) ) ) )\n",
            "Expected : (order (pizzaorder (not (topping olives ) ) (number 2 ) (size large ) (style thin_crust ) (topping onions ) ) )\n",
            "Predicted : (order (pizzaorder (number 2 ) (size large ) (topping onions ) (not (topping olives ) ) ) )\n",
            "Expected : (order (pizzaorder (number 1 ) (topping ham ) (topping onions ) (topping tuna ) ) )\n",
            "Predicted : (order (pizzaorder (number 1 ) (topping onions ) (topping ham ) (topping tuna ) ) )\n",
            "Expected : (order (pizzaorder (not (topping ham ) ) (number 1 ) (size medium ) (style thin_crust ) (topping pineapple ) ) )\n",
            "Predicted : (order (pizzaorder (number 1 ) (size medium ) (topping pineapple ) (not (topping ham ) ) ) )\n",
            "Expected : (order (pizzaorder (number 1 ) (size large ) (complex_topping (quantity extra ) (topping cheese ) ) (complex_topping (quantity extra ) (topping sauce ) ) (topping bacon ) (topping beef ) (topping ham ) (topping pepperoni ) (topping sausage ) ) )\n",
            "Predicted : (order (pizzaorder (number 1 ) (size large ) (topping ham ) (topping beef ) (complex_topping (quantity extra ) (topping sauce ) ) ) )\n",
            "Expected : (order (pizzaorder (not (topping pesto ) ) (number 1 ) (style thin_crust ) (topping sausage ) ) )\n",
            "Predicted : (order (pizzaorder (number 1 ) (style thin_crust ) (topping sausage ) ) )\n",
            "Expected : (order (drinkorder (drinktype coke ) (number 4 ) (size medium ) ) (pizzaorder (number 1 ) (size large ) (style meat_lover ) ) )\n",
            "Predicted : (order (drinkorder (number 4 ) (size medium ) (drinktype coke ) ) (pizzaorder (number 1 ) (size large ) (style meat_lover ) ) )\n",
            "Expected : (order (pizzaorder (number 1 ) (size large ) (topping bacon ) (topping mushrooms ) (topping peppers ) ) )\n",
            "Predicted : (order (pizzaorder (number 1 ) (size large ) (topping mushrooms ) (topping bacon ) ) )\n",
            "Expected : (order (pizzaorder (number 5 ) (size medium ) (topping anchovies ) (topping parsley ) ) )\n",
            "Predicted : (order (pizzaorder (number 5 ) (size medium ) (topping parsley ) (topping anchovies ) ) )\n",
            "Expected : (order (pizzaorder (number 1 ) (topping cheese ) ) (pizzaorder (number 4 ) (size large ) ) )\n",
            "Predicted : (order (pizzaorder (number 1 ) (topping cheese ) ) (pizzaorder (number 4 ) (size large ) ) )\n",
            "Expected : (order (drinkorder (drinktype dr_pepper ) (number 2 ) ) (drinkorder (drinktype pepsi ) (number 3 ) ) (drinkorder (drinktype sprite ) (number 1 ) ) )\n",
            "Predicted : (order (drinkorder (number 1 ) (drinktype sprite ) ) (drinkorder (number 2 ) (drinktype dr_pepper ) ) (drinkorder (number 2 ) (drinktype dr_pepper ) ) )\n",
            "Expected : (order (pizzaorder (not (topping ham ) ) (number 1 ) (size small ) (complex_topping (quantity extra ) (topping cheese ) ) (topping chicken ) ) )\n",
            "Predicted : (order (pizzaorder (number 1 ) (size small ) (style combination ) (complex_topping (quantity extra ) (topping ham ) ) ) )\n",
            "Expected : (order (pizzaorder (not (topping bacon ) ) (number 1 ) (complex_topping (quantity extra ) (topping cheese ) ) (topping sausage ) ) )\n",
            "Predicted : (order (pizzaorder (number 1 ) (topping sausage ) (complex_topping (quantity extra ) (topping bacon ) ) ) )\n",
            "Expected : (order (pizzaorder (not (topping peppers ) ) (number 1 ) (size large ) (topping onions ) (topping tuna ) ) )\n",
            "Predicted : (order (pizzaorder (number 1 ) (size large ) (topping tuna ) (topping onions ) (not (style thin_crust ) ) ) )\n",
            "Expected : (order (pizzaorder (not (topping bacon ) ) (number 1 ) (size large ) (complex_topping (quantity extra ) (topping cheese ) ) (topping pineapple ) ) )\n",
            "Predicted : (order (pizzaorder (number 1 ) (size large ) (topping pineapple ) (complex_topping (quantity extra ) (topping bacon ) ) ) )\n",
            "Expected : (order (pizzaorder (number 1 ) (size large ) (complex_topping (quantity extra ) (topping cheese ) ) (topping olives ) (topping tuna ) ) )\n",
            "Predicted : (order (pizzaorder (number 1 ) (size large ) (topping tuna ) (topping olives ) (complex_topping (quantity extra ) (topping cheese ) ) ) )\n",
            "Expected : (order (drinkorder (drinktype coke ) (number 4 ) (size large ) ) (pizzaorder (number 1 ) (size large ) (style combination ) ) (pizzaorder (number 1 ) (size medium ) (topping onions ) (topping pepperoni ) ) )\n",
            "Predicted : (order (drinkorder (number 4 ) (size large ) (drinktype coke ) ) (pizzaorder (number 1 ) (size large ) (style combination ) (topping pepperoni ) (topping onions ) ) )\n",
            "Expected : (order (pizzaorder (not (topping pesto ) ) (number 1 ) (size small ) (complex_topping (quantity extra ) (topping cheese ) ) (topping ham ) ) )\n",
            "Predicted : (order (pizzaorder (number 1 ) (size small ) (complex_topping (quantity extra ) (topping cheese ) ) (topping pesto ) ) )\n",
            "Expected : (order (pizzaorder (not (topping pineapple ) ) (number 1 ) (style thin_crust ) (topping olives ) ) )\n",
            "Predicted : (order (pizzaorder (number 1 ) (not (topping pineapple ) ) (topping olives ) (style thin_crust ) ) )\n",
            "Expected : (order (pizzaorder (number 5 ) (size medium ) (topping carrots ) (topping olives ) ) )\n",
            "Predicted : (order (pizzaorder (number 5 ) (size medium ) (topping carrots ) (topping olives ) ) )\n",
            "Expected : (order (pizzaorder (number 1 ) (topping chicken ) (topping ham ) (topping pepperoni ) ) )\n",
            "Predicted : (order (pizzaorder (number 1 ) (topping chicken ) (topping ham ) (topping pepperoni ) ) )\n",
            "Expected : (order (drinkorder (drinktype coke ) (number 1 ) ) (drinkorder (drinktype fanta ) (number 5 ) (size large ) ) (drinkorder (drinktype pepsi ) (number 2 ) ) )\n",
            "Predicted : (order (drinkorder (number 1 ) (drinktype coke ) ) (drinkorder (number 2 ) (size large ) (drinktype fanta ) ) )\n",
            "Expected : (order (pizzaorder (not (topping peppers ) ) (number 1 ) (size small ) (complex_topping (quantity extra ) (topping cheese ) ) (topping tuna ) ) )\n",
            "Predicted : (order (pizzaorder (number 1 ) (size small ) (style mediterranean ) (complex_topping (quantity extra ) (topping cheese ) ) (topping peppers ) ) )\n",
            "Expected : (order (pizzaorder (number 2 ) ) )\n",
            "Predicted : (order (pizzaorder (number 2 ) ) )\n",
            "Expected : (order (pizzaorder (number 1 ) (size large ) (topping bacon ) (topping sausage ) ) (pizzaorder (number 2 ) (size small ) (topping cheese ) ) )\n",
            "Predicted : (order (pizzaorder (number 1 ) (size large ) (topping sausage ) (topping bacon ) ) )\n",
            "Expected : (order (pizzaorder (number 1 ) (size medium ) (topping bacon ) (topping onions ) (topping tuna ) ) )\n",
            "Predicted : (order (pizzaorder (number 1 ) (size medium ) (topping bacon ) (topping tuna ) (topping onions ) ) )\n",
            "Expected : (order (pizzaorder (number 1 ) (size medium ) (style thin_crust ) (topping chicken ) (topping sausage ) ) )\n",
            "Predicted : (order (pizzaorder (number 1 ) (size medium ) (style thin_crust ) (topping tuna ) (topping chicken ) ) )\n",
            "Expected : (order (pizzaorder (not (topping peppers ) ) (number 1 ) (size small ) (style thin_crust ) (topping ham ) ) )\n",
            "Predicted : (order (pizzaorder (number 1 ) (size small ) (style thin_crust ) (not (topping chicken ) ) ) )\n",
            "Expected : (order (pizzaorder (number 1 ) (size large ) (complex_topping (quantity extra ) (topping cheese ) ) (topping ham ) (topping onions ) ) )\n",
            "Predicted : (order (pizzaorder (number 1 ) (size large ) (topping onions ) (complex_topping (quantity extra ) (topping salami ) ) ) )\n",
            "Expected : (order (pizzaorder (not (topping tuna ) ) (number 1 ) (size small ) (topping ham ) (topping pepperoni ) ) )\n",
            "Predicted : (order (pizzaorder (number 1 ) (size small ) (topping ham ) (topping pepperoni ) (not (style thin_crust ) ) ) )\n",
            "Expected : (order (pizzaorder (not (topping mushrooms ) ) (number 1 ) (size large ) (style thin_crust ) (topping peppers ) ) )\n",
            "Predicted : (order (pizzaorder (number 1 ) (size large ) (style thin_crust ) (topping peppers ) (not (topping mushrooms ) ) ) )\n",
            "Expected : (order (drinkorder (drinktype cherry_coke ) (number 4 ) (size large ) ) (pizzaorder (number 2 ) (size large ) (topping mushrooms ) (topping pepperoni ) ) )\n",
            "Predicted : (order (drinkorder (number 4 ) (size large ) (drinktype cherry_coke ) ) (pizzaorder (number 2 ) (size large ) (topping pepperoni ) (topping mushrooms ) ) )\n",
            "Expected : (order (pizzaorder (number 1 ) (size small ) (style thin_crust ) (topping ham ) (topping peppers ) ) )\n",
            "Predicted : (order (pizzaorder (number 1 ) (size small ) (style thin_crust ) (topping ham ) (topping peppers ) ) )\n",
            "Expected : (order (pizzaorder (not (topping pepperoni ) ) (number 1 ) (size large ) (topping mushrooms ) (topping pesto ) ) )\n",
            "Predicted : (order (pizzaorder (number 1 ) (size large ) (topping mushrooms ) (topping pesto ) (not (style thin_crust ) ) ) )\n",
            "Expected : (order (pizzaorder (not (topping sausage ) ) (number 1 ) (size medium ) (topping chicken ) (topping mushrooms ) ) )\n",
            "Predicted : (order (pizzaorder (number 1 ) (size medium ) (topping mushrooms ) (topping chicken ) (not (style thin_crust ) ) ) )\n",
            "Expected : (order (pizzaorder (not (topping ham ) ) (number 1 ) (size large ) (topping onions ) (topping peppers ) ) )\n",
            "Predicted : (order (pizzaorder (number 1 ) (size large ) (topping onions ) (not (topping ham ) ) ) )\n",
            "Expected : (order (pizzaorder (number 1 ) (topping bacon ) (topping mushrooms ) (topping sausage ) ) )\n",
            "Predicted : (order (pizzaorder (number 1 ) (topping bacon ) (topping sausage ) (topping mushrooms ) ) )\n",
            "Expected : (order (pizzaorder (not (topping pesto ) ) (number 1 ) (size small ) (complex_topping (quantity extra ) (topping cheese ) ) (topping ham ) ) )\n",
            "Predicted : (order (pizzaorder (number 1 ) (size small ) (topping ham ) (complex_topping (quantity extra ) (topping pesto ) ) ) )\n",
            "Expected : (order (pizzaorder (not (topping ham ) ) (number 2 ) (size medium ) (topping peppers ) (topping pineapple ) ) )\n",
            "Predicted : (order (pizzaorder (number 2 ) (size medium ) (not (topping ham ) ) (topping pineapple ) ) )\n",
            "Expected : (order (pizzaorder (number 1 ) (size medium ) (style thin_crust ) (topping chicken ) (topping sausage ) ) )\n",
            "Predicted : (order (pizzaorder (number 1 ) (size medium ) (topping sausage ) (topping chicken ) (style thin_crust ) ) )\n",
            "Expected : (order (pizzaorder (not (topping bacon ) ) (number 1 ) (size large ) (complex_topping (quantity extra ) (topping cheese ) ) (topping pineapple ) ) )\n",
            "Predicted : (order (pizzaorder (number 1 ) (size large ) (style hawaiian ) (complex_topping (quantity extra ) (topping cheese ) ) ) )\n",
            "Expected : (order (pizzaorder (not (topping tuna ) ) (number 1 ) (size large ) (topping olives ) (topping peppers ) ) )\n",
            "Predicted : (order (pizzaorder (number 1 ) (size large ) (topping peppers ) (not (topping tuna ) ) ) )\n",
            "Expected : (order (pizzaorder (not (topping bacon ) ) (number 1 ) (complex_topping (quantity extra ) (topping cheese ) ) (topping sausage ) ) )\n",
            "Predicted : (order (pizzaorder (number 1 ) (topping sausage ) (topping peppers ) (complex_topping (quantity extra ) (topping bacon ) ) ) )\n",
            "Expected : (order (pizzaorder (not (topping chicken ) ) (number 1 ) (size large ) (topping ham ) (topping tuna ) ) )\n",
            "Predicted : (order (pizzaorder (number 1 ) (size large ) (topping tuna ) (topping ham ) (not (style thin_crust ) ) ) )\n",
            "Expected : (order (pizzaorder (number 1 ) (topping onions ) (topping pepperoni ) (topping sausage ) ) )\n",
            "Predicted : (order (pizzaorder (number 1 ) (topping onions ) (topping pepperoni ) (topping ) ) )\n",
            "Expected : (order (pizzaorder (not (topping bacon ) ) (number 1 ) (size large ) (topping mushrooms ) (topping tuna ) ) )\n",
            "Predicted : (order (pizzaorder (number 1 ) (size large ) (topping tuna ) (topping mushrooms ) (topping bacon ) ) )\n",
            "Expected : (order (pizzaorder (number 1 ) (size medium ) (complex_topping (quantity extra ) (topping cheese ) ) (topping ham ) (topping pesto ) ) )\n",
            "Predicted : (order (pizzaorder (number 1 ) (size medium ) (topping ham ) (topping cheese ) (topping pesto ) ) )\n",
            "Expected : (order (pizzaorder (number 5 ) (size medium ) (topping feta_cheese ) (topping peppers ) ) )\n",
            "Predicted : (order (pizzaorder (number 5 ) (size medium ) (topping peppers ) (topping feta_cheese ) ) )\n",
            "Expected : (order (pizzaorder (number 1 ) (topping feta_cheese ) ) )\n",
            "Predicted : (order (pizzaorder (number 1 ) (topping feta_cheese ) ) )\n",
            "Expected : (order (pizzaorder (number 1 ) (size small ) (topping peppers ) (topping pineapple ) (topping sausage ) ) )\n",
            "Predicted : (order (pizzaorder (number 1 ) (size small ) (topping peppers ) (topping sausage ) (topping pineapple ) ) )\n",
            "Expected : (order (pizzaorder (not (topping pesto ) ) (number 1 ) (size small ) (topping mushrooms ) (topping onions ) ) )\n",
            "Predicted : (order (pizzaorder (number 1 ) (size small ) (topping onions ) (topping mushrooms ) ) )\n",
            "Expected : (order (drinkorder (drinktype pepsi ) (number 4 ) (size large ) ) (pizzaorder (number 1 ) (size large ) (style combination ) ) (pizzaorder (number 1 ) (size medium ) (topping italian_sausage ) ) (pizzaorder (number 1 ) (size small ) (topping beef ) (topping mushrooms ) ) )\n",
            "Predicted : (order (drinkorder (number 4 ) (size large ) (drinktype pepsi ) ) (pizzaorder (number 1 ) (size medium ) (topping italian_sausage ) (topping red_pepper_flakes ) ) )\n",
            "Expected : (order (pizzaorder (not (topping onions ) ) (number 1 ) (size small ) (topping mushrooms ) (topping peppers ) ) )\n",
            "Predicted : (order (pizzaorder (number 1 ) (size small ) (topping mushrooms ) (topping peppers ) (not (style thin_crust ) ) ) )\n",
            "Expected : (order (pizzaorder (not (topping peppers ) ) (number 1 ) (size large ) (topping onions ) (topping tuna ) ) )\n",
            "Predicted : (order (pizzaorder (number 1 ) (size large ) (topping tuna ) (topping onions ) (not (topping peppers ) ) ) )\n",
            "Expected : (order (pizzaorder (number 1 ) ) )\n",
            "Predicted : (order (pizzaorder (number 1 ) ) )\n",
            "Expected : (order (pizzaorder (not (topping pineapple ) ) (number 1 ) (size medium ) (style thin_crust ) (topping tuna ) ) )\n",
            "Predicted : (order (pizzaorder (number 1 ) (size medium ) (style thin_crust ) (not (topping pineapple ) ) ) )\n",
            "Expected : (order (pizzaorder (number 1 ) (size large ) (style stuffed_crust ) (topping cheese ) ) (pizzaorder (number 1 ) (size large ) (style thin_crust ) (topping cheese ) ) )\n",
            "Predicted : (order (pizzaorder (number 1 ) (size large ) (style thin_crust ) ) )\n",
            "Expected : (order (pizzaorder (not (topping tuna ) ) (number 1 ) (size medium ) (complex_topping (quantity extra ) (topping cheese ) ) (topping pineapple ) ) )\n",
            "Predicted : (order (pizzaorder (number 1 ) (size medium ) (style keto_crust ) (complex_topping (quantity extra ) (topping tuna ) ) ) )\n",
            "Expected : (order (pizzaorder (number 1 ) (size medium ) (topping bacon ) (topping onions ) (topping tuna ) ) )\n",
            "Predicted : (order (pizzaorder (number 1 ) (size medium ) (topping bacon ) (topping tuna ) (topping onions ) ) )\n",
            "Expected : (order (pizzaorder (not (topping peppers ) ) (number 1 ) (size large ) (topping ham ) (topping onions ) ) )\n",
            "Predicted : (order (pizzaorder (number 1 ) (size large ) (topping onions ) (topping ham ) (not (style thin_crust ) ) ) )\n",
            "Expected : (order (pizzaorder (number 2 ) (size medium ) (topping garlic_powder ) (topping meatballs ) (topping tomatoes ) ) )\n",
            "Predicted : (order (pizzaorder (number 2 ) (size medium ) (topping garlic_powder ) (topping tomatoes ) (topping meatballs ) ) )\n",
            "Expected : (order (pizzaorder (number 1 ) (size medium ) (topping ham ) (topping onions ) (topping tuna ) ) )\n",
            "Predicted : (order (pizzaorder (number 1 ) (size medium ) (topping onions ) (topping tuna ) (topping ham ) ) )\n",
            "Expected : (order (pizzaorder (number 1 ) (size small ) (style thin_crust ) (topping pesto ) (topping sausage ) ) )\n",
            "Predicted : (order (pizzaorder (number 1 ) (size small ) (topping sausage ) (topping pesto ) ) )\n",
            "Expected : (order (pizzaorder (not (topping bacon ) ) (number 1 ) (size medium ) (topping ham ) (topping sausage ) ) )\n",
            "Predicted : (order (pizzaorder (number 1 ) (size medium ) (topping ham ) (topping bacon ) ) )\n",
            "Expected : (order (pizzaorder (number 1 ) (topping olives ) (topping pineapple ) (topping sausage ) ) )\n",
            "Predicted : (order (pizzaorder (number 1 ) (topping sausage ) (topping olives ) (topping pineapple ) ) )\n",
            "Expected : (order (pizzaorder (number 3 ) (size large ) (topping mushrooms ) ) )\n",
            "Predicted : (order (pizzaorder (number 3 ) (size large ) (topping mushrooms ) ) )\n",
            "Expected : (order (pizzaorder (not (topping peppers ) ) (number 1 ) (style thin_crust ) (topping tuna ) ) )\n",
            "Predicted : (order (pizzaorder (number 1 ) (topping tuna ) (not (topping peppers ) ) ) )\n",
            "Expected : (order (pizzaorder (number 1 ) (size large ) (complex_topping (quantity extra ) (topping cheese ) ) (topping ham ) (topping onions ) ) )\n",
            "Predicted : (order (pizzaorder (number 1 ) (size large ) (topping onions ) (complex_topping (quantity extra ) (topping ham ) ) ) )\n",
            "Expected : (order (pizzaorder (not (topping pineapple ) ) (number 1 ) (size small ) (topping mushrooms ) (topping peppers ) ) )\n",
            "Predicted : (order (pizzaorder (number 1 ) (size small ) (topping peppers ) (topping mushrooms ) (not (style thin_crust ) ) ) )\n",
            "Expected : (order (pizzaorder (number 1 ) (size medium ) (topping mushrooms ) (topping pesto ) (topping spinach ) ) )\n",
            "Predicted : (order (pizzaorder (number 1 ) (size medium ) (topping mushrooms ) (topping spinach ) (topping pesto ) ) )\n",
            "Expected : (order (drinkorder (drinktype coke ) (number 1 ) ) (drinkorder (drinktype diet_sprite ) (number 5 ) (size medium ) ) (drinkorder (drinktype pepsi ) (number 3 ) ) )\n",
            "Predicted : (order (drinkorder (number 1 ) (drinktype coke ) ) (drinkorder (number 3 ) (size medium ) (drinktype diet_sprite ) ) )\n",
            "Expected : (order (drinkorder (drinktype coke ) (number 1 ) (size large ) ) (drinkorder (drinktype sprite ) (number 1 ) (size large ) ) (pizzaorder (number 1 ) (size large ) (complex_topping (quantity extra ) (topping cheese ) ) (topping beef ) (topping green_peppers ) ) )\n",
            "Predicted : (order (drinkorder (number 1 ) (size large ) (drinktype sprite ) ) (pizzaorder (number 1 ) (size large ) (topping beef ) (topping green_peppers ) ) )\n",
            "Expected : (order (pizzaorder (number 1 ) (size small ) (topping ham ) (topping onions ) (topping pineapple ) ) )\n",
            "Predicted : (order (pizzaorder (number 1 ) (size small ) (topping onions ) (topping ham ) (topping pineapple ) ) )\n",
            "Expected : (order (pizzaorder (not (topping ham ) ) (number 1 ) (size large ) (topping chicken ) (topping olives ) ) )\n",
            "Predicted : (order (pizzaorder (number 1 ) (size large ) (topping olives ) (topping chicken ) (not (style thin_crust ) ) ) )\n",
            "Expected : (order (pizzaorder (number 3 ) (size large ) (topping basil ) (topping garlic_powder ) (topping spinach ) ) )\n",
            "Predicted : (order (pizzaorder (number 3 ) (size large ) (topping spinach ) (topping basil ) (topping garlic_powder ) ) )\n",
            "Expected : (order (pizzaorder (number 1 ) (size small ) (topping bacon ) (topping salami ) ) )\n",
            "Predicted : (order (pizzaorder (number 1 ) (size small ) (topping salami ) (topping bacon ) ) )\n",
            "Expected : (order (pizzaorder (not (topping pesto ) ) (number 1 ) (size small ) ) )\n",
            "Predicted : (order (pizzaorder (number 1 ) (size small ) (not (topping pesto ) ) ) )\n",
            "Expected : (order (pizzaorder (number 1 ) (size medium ) (topping peppers ) (topping sausage ) ) )\n",
            "Predicted : (order (pizzaorder (number 1 ) (size medium ) (topping sausage ) (topping peppers ) ) )\n",
            "Expected : (order (pizzaorder (not (topping ham ) ) (number 1 ) (style thin_crust ) (topping pineapple ) ) )\n",
            "Predicted : (order (pizzaorder (number 1 ) (style thin_crust ) (topping sauce ) (topping pineapple ) (not (style thin_crust ) ) ) )\n",
            "Expected : (order (drinkorder (drinktype sprite ) (number 2 ) (size large ) ) (pizzaorder (number 1 ) (size large ) (topping pepperoni ) ) (pizzaorder (number 2 ) (size small ) (topping cheese ) ) )\n",
            "Predicted : (order (drinkorder (number 2 ) (size large ) (drinktype sprite ) ) (pizzaorder (number 2 ) (size large ) (topping pepperoni ) ) )\n",
            "Expected : (order (pizzaorder (number 1 ) (size medium ) (complex_topping (quantity extra ) (topping cheese ) ) (topping mushrooms ) (topping tuna ) ) )\n",
            "Predicted : (order (pizzaorder (number 1 ) (size medium ) (topping mushrooms ) (complex_topping (quantity extra ) (topping cheese ) ) ) )\n",
            "Expected : (order (drinkorder (drinktype ice_tea ) (number 1 ) (size large ) ) (pizzaorder (number 1 ) (size small ) (complex_topping (quantity extra ) (topping cheese ) ) (topping mushrooms ) (topping sausage ) ) )\n",
            "Predicted : (order (drinkorder (number 1 ) (size large ) (drinktype ice_tea ) ) (pizzaorder (number 1 ) (size small ) (topping sausage ) (topping mushrooms ) (complex_topping (quantity extra ) (topping cheese ) ) ) )\n"
          ]
        }
      ]
    }
  ]
}