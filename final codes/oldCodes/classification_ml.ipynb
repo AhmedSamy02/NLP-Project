{
 "cells": [
  {
   "cell_type": "code",
   "execution_count": 1,
   "metadata": {},
   "outputs": [],
   "source": [
    "import numpy as np\n",
    "import pandas as pd\n",
    "import re\n",
    "import tensorflow as tf\n",
    "from enum import Enum\n",
    "\n",
    "from sklearn.feature_extraction.text import TfidfVectorizer\n",
    "from sklearn.linear_model import LogisticRegression\n",
    "from sklearn.metrics import classification_report\n",
    "from sklearn.svm import SVC\n",
    "from sklearn.ensemble import RandomForestClassifier\n",
    "from sklearn.neural_network import MLPClassifier\n",
    "\n",
    "\n",
    "\n",
    "pd.set_option(\"display.max_columns\", None)\n",
    "np.random.seed(42)\n",
    "tf.random.set_seed(42)"
   ]
  },
  {
   "cell_type": "code",
   "execution_count": 2,
   "metadata": {},
   "outputs": [],
   "source": [
    "CONTRACTIONS = {\n",
    "    \"n't\": \"not\",\n",
    "    \"'s\": \"is\",\n",
    "    \"'re\": \"are\",\n",
    "    \"'m\": \"am\",\n",
    "    \"'ll\": \"will\",\n",
    "    \"'ve\": \"have\",\n",
    "    \"'d\": \"would\",\n",
    "    \"'em\": \"them\",\n",
    "    \"'all\": \"all\",\n",
    "    \"'cause\": \"because\",\n",
    "    \"'clock\": \"oclock\",\n",
    "    \"'tis\": \"it is\",\n",
    "    \"'twas\": \"it was\",\n",
    "    \"'tween\": \"between\",\n",
    "    \"'twere\": \"it were\",\n",
    "    \"'twould\": \"it would\",\n",
    "    \"'twixt\": \"betwixt\",\n",
    "    \"'twill\": \"it will\",\n",
    "    \"'til\": \"until\",\n",
    "    \"'bout\": \"about\",\n",
    "    \"'cept\": \"except\",\n",
    "    \"'cos\": \"because\",\n",
    "    \"'fore\": \"before\",\n",
    "    \"'round\": \"around\",\n",
    "    \"'n'\": \"and\",\n",
    "    \"'neath\": \"beneath\",\n",
    "    \"'nother\": \"another\",\n",
    "    \"'nuff\": \"enough\",\n",
    "}\n",
    "def expnad_abb2(text):\n",
    "\n",
    "    pattern = re.compile(\n",
    "        r\"(\" + \"|\".join(re.escape(key) for key in CONTRACTIONS.keys()) + r\")\"\n",
    "    )\n",
    "    expanded_text = pattern.sub(lambda x: \" \" + CONTRACTIONS[x.group()], text)\n",
    "    return expanded_text\n"
   ]
  },
  {
   "cell_type": "code",
   "execution_count": 3,
   "metadata": {},
   "outputs": [
    {
     "name": "stdout",
     "output_type": "stream",
     "text": [
      "['PIE', 'WITH', 'AND']\n"
     ]
    }
   ],
   "source": [
    "text = '(ORDER (PIZZAORDER (SIZE party size ) pie with (TOPPING american cheese ) and (COMPLEX_TOPPING (QUANTITY a little bit of ) (TOPPING peppperoni ) ) ) )'\n",
    "def get_none_match(text):\n",
    "    order_regex = re.compile(r'(?<=ORDER\\s)[^(]*(?=\\s\\()')\n",
    "    pizzaorder_regex = re.compile(r'(?<=PIZZAORDER\\s)[^(]*(?=\\s\\()')\n",
    "    drinkorder_regex = re.compile(r'(?<=DRINKORDER\\s)[^(]*(?=\\s\\()')\n",
    "    between_parentheses_regex = re.compile(r'(?<=\\)\\s)[^()]+(?=\\s\\()')\n",
    "    uncleaned_none_match = re.findall(order_regex, text)\n",
    "    uncleaned_none_match.extend(re.findall(pizzaorder_regex, text))\n",
    "    uncleaned_none_match.extend(re.findall(drinkorder_regex, text))\n",
    "    uncleaned_none_match.extend(re.findall(between_parentheses_regex, text))\n",
    "    none_match=[]\n",
    "    for sentence in uncleaned_none_match:\n",
    "        sen = expnad_abb2(sentence).upper()\n",
    "        none_match.extend(sen.split())\n",
    "    return none_match\n",
    "print(get_none_match(text))"
   ]
  },
  {
   "cell_type": "code",
   "execution_count": 9,
   "metadata": {},
   "outputs": [],
   "source": [
    "dataset_dir = \"E:/Collage/NLP/Project/NLP-Project/dataset/\"\n",
    "\n",
    "class Label(Enum):\n",
    "    TOPPING = 0\n",
    "    NUMBER = 1\n",
    "    SIZE = 2\n",
    "    QUANTITY = 3\n",
    "    STYLE = 4\n",
    "    DRINKTYPE = 5\n",
    "    CONTAINERTYPE = 6\n",
    "    NONE = 7"
   ]
  },
  {
   "cell_type": "code",
   "execution_count": 10,
   "metadata": {},
   "outputs": [],
   "source": [
    "df_train = pd.read_json(dataset_dir + \"PIZZA_train.json\", lines=True)\n",
    "df_dev = pd.read_json(dataset_dir + \"PIZZA_dev.json\", lines=True)"
   ]
  },
  {
   "cell_type": "code",
   "execution_count": 11,
   "metadata": {},
   "outputs": [],
   "source": [
    "train_top = df_train[\"train.TOP\"]\n",
    "train_exr = df_train[\"train.EXR\"]\n",
    "\n",
    "dev_top = df_dev[\"dev.TOP\"]\n",
    "dev_exr = df_dev[\"dev.EXR\"]"
   ]
  },
  {
   "cell_type": "code",
   "execution_count": 12,
   "metadata": {},
   "outputs": [],
   "source": [
    "#Why dict? 1- To keep the order of the data 2- To ensure unique values\n",
    "train_data = {}\n",
    "dev_data = {}"
   ]
  },
  {
   "cell_type": "code",
   "execution_count": 13,
   "metadata": {},
   "outputs": [],
   "source": [
    "toppings_regex = re.compile(r'(?<=\\(TOPPING\\s)[^)]*(?=\\s)')\n",
    "number_regex = re.compile(r'(?<=\\(NUMBER\\s)[^)]*(?=\\s)')\n",
    "size_regex = re.compile(r'(?<=\\(SIZE\\s)[^)]*(?=\\s)')\n",
    "quantity_regex = re.compile(r'(?<=\\(QUANTITY\\s)[^)]*(?=\\s)')\n",
    "style_regex = re.compile(r'(?<=\\(STYLE\\s)[^)]*(?=\\s)')\n",
    "drink_type_regex = re.compile(r'(?<=\\(DRINKTYPE\\s)[^)]*(?=\\s)')\n",
    "container_type_regex = re.compile(r'(?<=\\(CONTAINERTYPE\\s)[^)]*(?=\\s)')   "
   ]
  },
  {
   "cell_type": "code",
   "execution_count": 14,
   "metadata": {},
   "outputs": [],
   "source": [
    "def apply_regex(regex, text):\n",
    "    match = re.findall(regex, text)\n",
    "    return match"
   ]
  },
  {
   "cell_type": "code",
   "execution_count": 15,
   "metadata": {},
   "outputs": [],
   "source": [
    "for i in range(len(train_top)):\n",
    "    l = get_none_match( train_top.loc[i])\n",
    "    train_data.update({e : Label.NONE.value for e in l})\n",
    "    \n",
    "for i in range(len(dev_top)):\n",
    "    l = get_none_match( dev_top.loc[i])\n",
    "    dev_data.update({e : Label.NONE.value for e in l})\n"
   ]
  },
  {
   "cell_type": "code",
   "execution_count": 16,
   "metadata": {},
   "outputs": [],
   "source": [
    "for i in range(len(train_top)):\n",
    "    l = apply_regex(toppings_regex, train_top.loc[i])\n",
    "    train_data.update({e.upper() : Label.TOPPING.value for e in l})\n",
    "    l = apply_regex(toppings_regex, train_exr.loc[i])\n",
    "    train_data.update({e.upper() : Label.TOPPING.value for e in l})\n",
    "    \n",
    "for i in range(len(dev_top)):\n",
    "    l = apply_regex(toppings_regex, dev_top.loc[i])\n",
    "    dev_data.update({e.upper() : Label.TOPPING.value for e in l})\n",
    "    l = apply_regex(toppings_regex, dev_exr.loc[i])\n",
    "    dev_data.update({e.upper() : Label.TOPPING.value for e in l})"
   ]
  },
  {
   "cell_type": "code",
   "execution_count": 17,
   "metadata": {},
   "outputs": [],
   "source": [
    "for i in range(len(train_top)):\n",
    "    l = apply_regex(number_regex, train_top.loc[i])\n",
    "    train_data.update({e.upper() : Label.NUMBER.value for e in l})\n",
    "    l = apply_regex(number_regex, train_exr.loc[i])\n",
    "    train_data.update({e.upper() : Label.NUMBER.value for e in l})\n",
    "\n",
    "for i in range(len(dev_top)):\n",
    "    l = apply_regex(number_regex, dev_top.loc[i])\n",
    "    dev_data.update({e.upper() : Label.NUMBER.value for e in l})\n",
    "    l = apply_regex(number_regex, dev_exr.loc[i])\n",
    "    dev_data.update({e.upper() : Label.NUMBER.value for e in l})\n"
   ]
  },
  {
   "cell_type": "code",
   "execution_count": 18,
   "metadata": {},
   "outputs": [],
   "source": [
    "for i in range(len(train_top)):\n",
    "    l = apply_regex(quantity_regex, train_top.loc[i])\n",
    "    train_data.update({e.upper() : Label.QUANTITY.value for e in l})\n",
    "    l = apply_regex(quantity_regex, train_exr.loc[i])\n",
    "    train_data.update({e.upper() : Label.QUANTITY.value for e in l})\n",
    "\n",
    "\n",
    "for i in range(len(dev_top)):\n",
    "    l = apply_regex(quantity_regex, dev_top.loc[i])\n",
    "    dev_data.update({e.upper() : Label.QUANTITY.value for e in l})\n",
    "    l = apply_regex(quantity_regex, dev_exr.loc[i])\n",
    "    dev_data.update({e.upper() : Label.QUANTITY.value for e in l})\n"
   ]
  },
  {
   "cell_type": "code",
   "execution_count": 19,
   "metadata": {},
   "outputs": [],
   "source": [
    "for i in range(len(train_top)):\n",
    "    l = apply_regex(size_regex, train_top.loc[i])\n",
    "    train_data.update({e.upper() : Label.SIZE.value for e in l})\n",
    "    l = apply_regex(size_regex, train_exr.loc[i])\n",
    "    train_data.update({e.upper() : Label.SIZE.value for e in l})\n",
    "\n",
    "\n",
    "for i in range(len(dev_top)):\n",
    "    l = apply_regex(size_regex, dev_top.loc[i])\n",
    "    dev_data.update({e.upper() : Label.SIZE.value for e in l})\n",
    "    l = apply_regex(size_regex, dev_exr.loc[i])\n",
    "    dev_data.update({e.upper() : Label.SIZE.value for e in l})"
   ]
  },
  {
   "cell_type": "code",
   "execution_count": 20,
   "metadata": {},
   "outputs": [],
   "source": [
    "for i in range(len(train_top)):\n",
    "    l = apply_regex(drink_type_regex, train_top.loc[i])\n",
    "    train_data.update({e.upper() : Label.DRINKTYPE.value for e in l})\n",
    "    l = apply_regex(drink_type_regex, train_exr.loc[i])\n",
    "    train_data.update({e.upper() : Label.DRINKTYPE.value for e in l})\n",
    "\n",
    "for i in range(len(dev_top)):\n",
    "    l = apply_regex(drink_type_regex, dev_top.loc[i])\n",
    "    dev_data.update({e.upper() : Label.DRINKTYPE.value for e in l})\n",
    "    l = apply_regex(drink_type_regex, dev_exr.loc[i])\n",
    "    dev_data.update({e.upper() : Label.DRINKTYPE.value for e in l})"
   ]
  },
  {
   "cell_type": "code",
   "execution_count": 21,
   "metadata": {},
   "outputs": [],
   "source": [
    "for i in range(len(train_top)):\n",
    "    l = apply_regex(style_regex, train_top.loc[i])\n",
    "    train_data.update({e.upper() : Label.STYLE.value for e in l})\n",
    "    l = apply_regex(style_regex, train_exr.loc[i])\n",
    "    train_data.update({e.upper() : Label.STYLE.value for e in l})\n",
    "\n",
    "for i in range(len(dev_top)):\n",
    "    l = apply_regex(style_regex, dev_top.loc[i])\n",
    "    dev_data.update({e.upper() : Label.STYLE.value for e in l})\n",
    "    l = apply_regex(style_regex, dev_exr.loc[i])\n",
    "    dev_data.update({e.upper() : Label.STYLE.value for e in l})"
   ]
  },
  {
   "cell_type": "code",
   "execution_count": 22,
   "metadata": {},
   "outputs": [],
   "source": [
    "for i in range(len(train_top)):\n",
    "    l = apply_regex(container_type_regex, train_top.loc[i])\n",
    "    train_data.update({e.upper() : Label.CONTAINERTYPE.value for e in l})\n",
    "    l = apply_regex(container_type_regex, train_exr.loc[i])\n",
    "    train_data.update({e.upper() : Label.CONTAINERTYPE.value for e in l})\n",
    "\n",
    "for i in range(len(dev_top)):\n",
    "    l = apply_regex(container_type_regex, dev_top.loc[i])\n",
    "    dev_data.update({e.upper() : Label.CONTAINERTYPE.value for e in l})\n",
    "    l = apply_regex(container_type_regex, dev_exr.loc[i])\n",
    "    dev_data.update({e.upper() : Label.CONTAINERTYPE.value for e in l})"
   ]
  },
  {
   "cell_type": "code",
   "execution_count": 23,
   "metadata": {},
   "outputs": [
    {
     "data": {
      "text/plain": [
       "(453, 265)"
      ]
     },
     "execution_count": 23,
     "metadata": {},
     "output_type": "execute_result"
    }
   ],
   "source": [
    "#Actually it's small :))\n",
    "\n",
    "len(train_data), len(dev_data)"
   ]
  },
  {
   "cell_type": "code",
   "execution_count": 24,
   "metadata": {},
   "outputs": [],
   "source": [
    "train_data_df = pd.DataFrame(train_data.items(), columns=[\"word\", \"label\"])\n",
    "dev_data_df = pd.DataFrame(dev_data.items(), columns=[\"word\", \"label\"])\n",
    "\n",
    "X_train, X_test, y_train, y_test = train_data_df[\"word\"], dev_data_df[\"word\"], train_data_df[\"label\"], dev_data_df[\"label\"]\n"
   ]
  },
  {
   "cell_type": "code",
   "execution_count": 25,
   "metadata": {},
   "outputs": [],
   "source": [
    "import math\n",
    "from collections import Counter\n",
    "from nltk.util import bigrams\n",
    "from nltk.collocations import BigramCollocationFinder, BigramAssocMeasures\n",
    "\n",
    "def pmi_find(corpus):\n",
    "    # Step 2: Calculate Frequencies\n",
    "    word_freq = Counter(corpus)\n",
    "    bigram_freq = Counter(bigrams(corpus))\n",
    "\n",
    "    # Step 3: Calculate Probabilities\n",
    "    total_words = len(corpus)\n",
    "    p_word = {word: freq / total_words for word, freq in word_freq.items()}\n",
    "\n",
    "    total_bigrams = total_words - 1\n",
    "    p_bigram = {bigram: (freq+1) / (word_freq[bigram[0]] * word_freq[bigram[1]]+len(train_data.values())) for bigram, freq in bigram_freq.items()}\n",
    "\n",
    "    # Step 4: Calculate PMI for all Bigrams\n",
    "    bigram_finder = BigramCollocationFinder.from_words(corpus)\n",
    "    all_pmi_scores = {bigram: bigram_finder.score_ngram(BigramAssocMeasures.pmi, bigram[0], bigram[1]) for bigram in p_bigram}\n",
    "    return all_pmi_scores\n"
   ]
  },
  {
   "cell_type": "code",
   "execution_count": 26,
   "metadata": {},
   "outputs": [
    {
     "name": "stdout",
     "output_type": "stream",
     "text": [
      "{('CAN', 'I'): 8.823367240046235, ('I', 'HAVE'): 8.823367240046235, ('HAVE', 'PIE'): 8.823367240046235, ('PIE', 'WITH'): 8.823367240046235, ('WITH', 'AND'): 8.823367240046235, ('AND', 'WOULD'): 8.823367240046235, ('WOULD', 'LIKE'): 8.823367240046235, ('LIKE', 'WANT'): 8.823367240046235, ('WANT', 'PIZZA'): 8.823367240046235, ('PIZZA', 'WITHOUT'): 8.823367240046235, ('WITHOUT', 'ANY'): 8.823367240046235, ('ANY', 'NEED'): 8.823367240046235, ('NEED', 'NO'): 8.823367240046235, ('NO', 'PIZZAS'): 8.823367240046235, ('PIZZAS', 'AVOID'): 8.823367240046235, ('AVOID', 'HOLD'): 8.823367240046235, ('HOLD', 'THE'): 8.823367240046235, ('THE', 'PIES'): 8.823367240046235, ('PIES', 'HATE'): 8.823367240046235, ('HATE', 'OF'): 8.823367240046235, ('OF', 'ALSO'): 8.823367240046235, ('ALSO', 'BBQ PULLED PORK'): 8.823367240046235, ('BBQ PULLED PORK', 'BBQ_PULLED_PORK'): 8.823367240046235, ('BBQ_PULLED_PORK', 'GREEN PEPPER'): 8.823367240046235, ('GREEN PEPPER', 'PEPERONNI'): 8.823367240046235, ('PEPERONNI', 'GREEN_PEPPERS'): 8.823367240046235, ('GREEN_PEPPERS', 'PEPPERONI'): 8.823367240046235, ('PEPPERONI', 'AMERICAN CHEESE'): 8.823367240046235, ('AMERICAN CHEESE', 'MUSHROOM'): 8.823367240046235, ('MUSHROOM', 'AMERICAN_CHEESE'): 8.823367240046235, ('AMERICAN_CHEESE', 'MUSHROOMS'): 8.823367240046235, ('MUSHROOMS', 'ARTICHOKE'): 8.823367240046235, ('ARTICHOKE', 'ARTICHOKES'): 8.823367240046235, ('ARTICHOKES', 'BANANA PEPPER'): 8.823367240046235, ('BANANA PEPPER', 'PEPPPERONIS'): 8.823367240046235, ('PEPPPERONIS', 'LOW FAT CHEESE'): 8.823367240046235, ('LOW FAT CHEESE', 'BANANA_PEPPERS'): 8.823367240046235, ('BANANA_PEPPERS', 'LOW_FAT_CHEESE'): 8.823367240046235, ('LOW_FAT_CHEESE', 'FRIED ONIONS'): 8.823367240046235, ('FRIED ONIONS', 'FRIED_ONIONS'): 8.823367240046235, ('FRIED_ONIONS', 'GREEN OLIVE'): 8.823367240046235, ('GREEN OLIVE', 'PESTO SAUCE'): 8.823367240046235, ('PESTO SAUCE', 'GREEN_OLIVES'): 8.823367240046235, ('GREEN_OLIVES', 'PESTO'): 8.823367240046235, ('PESTO', 'PEPERONIS'): 8.823367240046235, ('PEPERONIS', 'YELLOW PEPPER'): 8.823367240046235, ('YELLOW PEPPER', 'YELLOW_PEPPERS'): 8.823367240046235, ('YELLOW_PEPPERS', 'MEATBALL'): 8.823367240046235, ('MEATBALL', 'MEATBALLS'): 8.823367240046235, ('MEATBALLS', 'BEAN'): 8.823367240046235, ('BEAN', 'BEANS'): 8.823367240046235, ('BEANS', 'PECORINO CHEESE'): 8.823367240046235, ('PECORINO CHEESE', 'PECORINO_CHEESE'): 8.823367240046235, ('PECORINO_CHEESE', 'BALSAMIC GLAZE'): 8.823367240046235, ('BALSAMIC GLAZE', 'BLACK OLIVE'): 8.823367240046235, ('BLACK OLIVE', 'BALSAMIC_GLAZE'): 8.823367240046235, ('BALSAMIC_GLAZE', 'OLIVES'): 8.823367240046235, ('OLIVES', 'CHICKEN'): 8.823367240046235, ('CHICKEN', 'MOZZARELLA'): 8.823367240046235, ('MOZZARELLA', 'SAUCE'): 8.823367240046235, ('SAUCE', 'MOZZARELLA_CHEESE'): 8.823367240046235, ('MOZZARELLA_CHEESE', 'ITALIAN SAUSAGE'): 8.823367240046235, ('ITALIAN SAUSAGE', 'ITALIAN_SAUSAGE'): 8.823367240046235, ('ITALIAN_SAUSAGE', 'GREEN OLIVES'): 8.823367240046235, ('GREEN OLIVES', 'PESTOS'): 8.823367240046235, ('PESTOS', 'ALFREDO CHICKEN'): 8.823367240046235, ('ALFREDO CHICKEN', 'ALFREDO_CHICKEN'): 8.823367240046235, ('ALFREDO_CHICKEN', 'CHEESEBURGER'): 8.823367240046235, ('CHEESEBURGER', 'SPICED SAUSAGE'): 8.823367240046235, ('SPICED SAUSAGE', 'SPICED_SAUSAGE'): 8.823367240046235, ('SPICED_SAUSAGE', 'CARAMELIZED RED ONIONS'): 8.823367240046235, ('CARAMELIZED RED ONIONS', 'CARAMELIZED_ONIONS'): 8.823367240046235, ('CARAMELIZED_ONIONS', 'APPLE WOOD BACON'): 8.823367240046235, ('APPLE WOOD BACON', 'BACON'): 8.823367240046235, ('BACON', 'CHORRIZO'): 8.823367240046235, ('CHORRIZO', 'CHORIZO'): 8.823367240046235, ('CHORIZO', 'VEGAN PEPPERONI'): 8.823367240046235, ('VEGAN PEPPERONI', 'VEGAN_PEPPERONI'): 8.823367240046235, ('VEGAN_PEPPERONI', 'CHEESE'): 8.823367240046235, ('CHEESE', 'PEPERRONI'): 8.823367240046235, ('PEPERRONI', 'YELLOW PEPPERS'): 8.823367240046235, ('YELLOW PEPPERS', 'OLIVE'): 8.823367240046235, ('OLIVE', 'BASIL'): 8.823367240046235, ('BASIL', 'FETA CHEESE'): 8.823367240046235, ('FETA CHEESE', 'FETA_CHEESE'): 8.823367240046235, ('FETA_CHEESE', 'CUMIN'): 8.823367240046235, ('CUMIN', 'PICKLES'): 8.823367240046235, ('PICKLES', 'PEPERRONNI'): 8.823367240046235, ('PEPERRONNI', 'ANCHOVIES'): 8.823367240046235, ('ANCHOVIES', 'GREEN PEPPERS'): 8.823367240046235, ('GREEN PEPPERS', 'BUFFALO CHICKEN'): 8.823367240046235, ('BUFFALO CHICKEN', 'BUFFALO_CHICKEN'): 8.823367240046235, ('BUFFALO_CHICKEN', 'PEPPPERONI'): 8.823367240046235, ('PEPPPERONI', 'HOT PEPPERS'): 8.823367240046235, ('HOT PEPPERS', 'HOT_PEPPERS'): 8.823367240046235, ('HOT_PEPPERS', 'CARROT'): 8.823367240046235, ('CARROT', 'CARROTS'): 8.823367240046235, ('CARROTS', 'DRIED PEPPERS'): 8.823367240046235, ('DRIED PEPPERS', 'DRIED_PEPPERS'): 8.823367240046235, ('DRIED_PEPPERS', 'BANANA PEPPERS'): 8.823367240046235, ('BANANA PEPPERS', 'PEPERONI'): 8.823367240046235, ('PEPERONI', 'ONIONS'): 8.823367240046235, ('ONIONS', 'PARMESAN CHEESE'): 8.823367240046235, ('PARMESAN CHEESE', 'PARMESAN_CHEESE'): 8.823367240046235, ('PARMESAN_CHEESE', 'GARLIC POWDER'): 8.823367240046235, ('GARLIC POWDER', 'GARLIC_POWDER'): 8.823367240046235, ('GARLIC_POWDER', 'HOT PEPPER'): 8.823367240046235, ('HOT PEPPER', 'BROCCOLI'): 8.823367240046235, ('BROCCOLI', 'GRILLED CHICKEN'): 8.823367240046235, ('GRILLED CHICKEN', 'GRILLED_CHICKEN'): 8.823367240046235, ('GRILLED_CHICKEN', 'BUFFALO MOZARELLA'): 8.823367240046235, ('BUFFALO MOZARELLA', 'BUFFALO_MOZZARELLA'): 8.823367240046235, ('BUFFALO_MOZZARELLA', 'PECORINO'): 8.823367240046235, ('PECORINO', 'ARUGULA'): 8.823367240046235, ('ARUGULA', 'GRILLED PINEAPPLE'): 8.823367240046235, ('GRILLED PINEAPPLE', 'GRILLED_PINEAPPLE'): 8.823367240046235, ('GRILLED_PINEAPPLE', 'KALAMATA OLIVE'): 8.823367240046235, ('KALAMATA OLIVE', 'KALAMATA_OLIVES'): 8.823367240046235, ('KALAMATA_OLIVES', 'GARLIC'): 8.823367240046235, ('GARLIC', 'BEEF'): 8.823367240046235, ('BEEF', 'BBQ SAUCE'): 8.823367240046235, ('BBQ SAUCE', 'BBQ_SAUCE'): 8.823367240046235, ('BBQ_SAUCE', 'BACONS'): 8.823367240046235, ('BACONS', 'BALZAMIC GLAZE'): 8.823367240046235, ('BALZAMIC GLAZE', 'CARAMELIZED ONIONS'): 8.823367240046235, ('CARAMELIZED ONIONS', 'PINEAPPLE'): 8.823367240046235, ('PINEAPPLE', 'PEPPERONIS'): 8.823367240046235, ('PEPPERONIS', 'TOMATO'): 8.823367240046235, ('TOMATO', 'TOMATOES'): 8.823367240046235, ('TOMATOES', 'APPLEWOOD BACON'): 8.823367240046235, ('APPLEWOOD BACON', 'HAM'): 8.823367240046235, ('HAM', 'BARBECUE CHICKEN'): 8.823367240046235, ('BARBECUE CHICKEN', 'BBQ_CHICKEN'): 8.823367240046235, ('BBQ_CHICKEN', 'CHEDDAR CHEESE'): 8.823367240046235, ('CHEDDAR CHEESE', 'CHEDDAR_CHEESE'): 8.823367240046235, ('CHEDDAR_CHEESE', 'ONION'): 8.823367240046235, ('ONION', 'RED PEPPER FLAKES'): 8.823367240046235, ('RED PEPPER FLAKES', 'RED_PEPPER_FLAKES'): 8.823367240046235, ('RED_PEPPER_FLAKES', 'WHITE ONIONS'): 8.823367240046235, ('WHITE ONIONS', 'WHITE_ONIONS'): 8.823367240046235, ('WHITE_ONIONS', 'ANCHOVY'): 8.823367240046235, ('ANCHOVY', 'BAY LEAVES'): 8.823367240046235, ('BAY LEAVES', 'BAY_LEAVES'): 8.823367240046235, ('BAY_LEAVES', 'CHICKENS'): 8.823367240046235, ('CHICKENS', 'BUFFALO SAUCE'): 8.823367240046235, ('BUFFALO SAUCE', 'BUFFALO_SAUCE'): 8.823367240046235, ('BUFFALO_SAUCE', 'ROASTED RED PEPPER'): 8.823367240046235, ('ROASTED RED PEPPER', 'ROASTED_RED_PEPPERS'): 8.823367240046235, ('ROASTED_RED_PEPPERS', 'LETTUCE'): 8.823367240046235, ('LETTUCE', 'SALAMI'): 8.823367240046235, ('SALAMI', 'PICKLE'): 8.823367240046235, ('PICKLE', 'BBQ CHICKEN'): 8.823367240046235, ('BBQ CHICKEN', 'BUFFALO MOZZARELLA'): 8.823367240046235, ('BUFFALO MOZZARELLA', 'HAMS'): 8.823367240046235, ('HAMS', 'ROASTED GREEN PEPPERS'): 8.823367240046235, ('ROASTED GREEN PEPPERS', 'ROASTED_GREEN_PEPPERS'): 8.823367240046235, ('ROASTED_GREEN_PEPPERS', 'BARBECUE SAUCE'): 8.823367240046235, ('BARBECUE SAUCE', 'FRIED ONION'): 8.823367240046235, ('FRIED ONION', 'CARAMELIZED RED ONION'): 8.823367240046235, ('CARAMELIZED RED ONION', 'KALAMATA OLIVES'): 8.823367240046235, ('KALAMATA OLIVES', 'BROCOLI'): 8.823367240046235, ('BROCOLI', 'DRIED TOMATOES'): 8.823367240046235, ('DRIED TOMATOES', 'DRIED_TOMATOES'): 8.823367240046235, ('DRIED_TOMATOES', 'OREGANO'): 8.823367240046235, ('OREGANO', 'SAUSAGE'): 8.823367240046235, ('SAUSAGE', 'RANCH SAUCE'): 8.823367240046235, ('RANCH SAUCE', 'RANCH_SAUCE'): 8.823367240046235, ('RANCH_SAUCE', 'ROASTED CHICKEN'): 8.823367240046235, ('ROASTED CHICKEN', 'ROASTED_CHICKEN'): 8.823367240046235, ('ROASTED_CHICKEN', 'PEA'): 8.823367240046235, ('PEA', 'PEAS'): 8.823367240046235, ('PEAS', 'GROUND BEEF'): 8.823367240046235, ('GROUND BEEF', 'FETA'): 8.823367240046235, ('FETA', 'ROASTED TOMATOES'): 8.823367240046235, ('ROASTED TOMATOES', 'ROASTED_TOMATOES'): 8.823367240046235, ('ROASTED_TOMATOES', 'CARAMELIZED ONION'): 8.823367240046235, ('CARAMELIZED ONION', 'DRIED PEPPER'): 8.823367240046235, ('DRIED PEPPER', 'CHERRY TOMATOES'): 8.823367240046235, ('CHERRY TOMATOES', 'CHERRY_TOMATOES'): 8.823367240046235, ('CHERRY_TOMATOES', 'ROASTED GREEN PEPPER'): 8.823367240046235, ('ROASTED GREEN PEPPER', 'JALAPENO PEPPER'): 8.823367240046235, ('JALAPENO PEPPER', 'JALAPENO_PEPPERS'): 8.823367240046235, ('JALAPENO_PEPPERS', 'BARBECUE PULLED PORK'): 8.823367240046235, ('BARBECUE PULLED PORK', 'PINEAPPLES'): 8.823367240046235, ('PINEAPPLES', 'TOMATO SAUCE'): 8.823367240046235, ('TOMATO SAUCE', 'TOMATO_SAUCE'): 8.823367240046235, ('TOMATO_SAUCE', 'ROASTED RED PEPPERS'): 8.823367240046235, ('ROASTED RED PEPPERS', 'SPICY RED SAUCE'): 8.823367240046235, ('SPICY RED SAUCE', 'SPICY_RED_SAUCE'): 8.823367240046235, ('SPICY_RED_SAUCE', 'TUNA'): 8.823367240046235, ('TUNA', 'PARMESAN'): 8.823367240046235, ('PARMESAN', 'SHRIMPS'): 8.823367240046235, ('SHRIMPS', 'PEPPER'): 8.823367240046235, ('PEPPER', 'PEPPERS'): 8.823367240046235, ('PEPPERS', 'RED ONION'): 8.823367240046235, ('RED ONION', 'RED_ONIONS'): 8.823367240046235, ('RED_ONIONS', 'JALAPENOS'): 8.823367240046235, ('JALAPENOS', 'DRIED TOMATO'): 8.823367240046235, ('DRIED TOMATO', 'PARSLEY'): 8.823367240046235, ('PARSLEY', 'ROSEMARY'): 8.823367240046235, ('ROSEMARY', 'RICOTTA'): 8.823367240046235, ('RICOTTA', 'RICOTTA_CHEESE'): 8.823367240046235, ('RICOTTA_CHEESE', 'CHERRY TOMATO'): 8.823367240046235, ('CHERRY TOMATO', 'ROASTED GARLIC'): 8.823367240046235, ('ROASTED GARLIC', 'ROASTED_GARLIC'): 8.823367240046235, ('ROASTED_GARLIC', 'BLACK OLIVES'): 8.823367240046235, ('BLACK OLIVES', 'SPINACH'): 8.823367240046235, ('SPINACH', 'PINEAPLE'): 8.823367240046235, ('PINEAPLE', 'OLIVE OIL'): 8.823367240046235, ('OLIVE OIL', 'OLIVE_OIL'): 8.823367240046235, ('OLIVE_OIL', 'RED PEPPER'): 8.823367240046235, ('RED PEPPER', 'RED_PEPPERS'): 8.823367240046235, ('RED_PEPPERS', 'ROASTED PEPPER'): 8.823367240046235, ('ROASTED PEPPER', 'ROASTED_PEPPERS'): 8.823367240046235, ('ROASTED_PEPPERS', 'SHRIMP'): 8.823367240046235, ('SHRIMP', 'PINEAPLES'): 8.823367240046235, ('PINEAPLES', 'RED PEPPERS'): 8.823367240046235, ('RED PEPPERS', 'RED PEPPER FLAKE'): 8.823367240046235, ('RED PEPPER FLAKE', 'ROASTED TOMATO'): 8.823367240046235, ('ROASTED TOMATO', 'WHITE ONION'): 8.823367240046235, ('WHITE ONION', 'RICOTTA CHEESE'): 8.823367240046235, ('RICOTTA CHEESE', 'JALAPENO'): 8.823367240046235, ('JALAPENO', 'JALAPENO PEPPERS'): 8.823367240046235, ('JALAPENO PEPPERS', 'ROASTED PEPPERS'): 8.823367240046235, ('ROASTED PEPPERS', 'RED ONIONS'): 8.823367240046235, ('RED ONIONS', 'MOZARELLA CHEESE'): 8.823367240046235, ('MOZARELLA CHEESE', 'SAUSAGES'): 8.823367240046235, ('SAUSAGES', 'MOZZARELLA CHEESE'): 8.823367240046235, ('MOZZARELLA CHEESE', 'MOZARELLA'): 8.823367240046235, ('MOZARELLA', 'TUNAS'): 8.823367240046235, ('TUNAS', 'A'): 8.823367240046235, ('A', '1'): 8.823367240046235, ('1', 'ONE'): 8.823367240046235, ('ONE', 'TWO'): 8.823367240046235, ('TWO', '2'): 8.823367240046235, ('2', 'THREE'): 8.823367240046235, ('THREE', '3'): 8.823367240046235, ('3', 'FOUR'): 8.823367240046235, ('FOUR', '4'): 8.823367240046235, ('4', 'FIVE'): 8.823367240046235, ('FIVE', '5'): 8.823367240046235, ('5', 'NINE'): 8.823367240046235, ('NINE', '9'): 8.823367240046235, ('9', 'SIX'): 8.823367240046235, ('SIX', '13'): 8.823367240046235, ('13', '6'): 8.823367240046235, ('6', '12'): 8.823367240046235, ('12', 'TEN'): 8.823367240046235, ('TEN', '10'): 8.823367240046235, ('10', '14'): 8.823367240046235, ('14', 'ELEVEN'): 8.823367240046235, ('ELEVEN', '11'): 8.823367240046235, ('11', 'SEVEN'): 8.823367240046235, ('SEVEN', '7'): 8.823367240046235, ('7', 'AN'): 8.823367240046235, ('AN', 'TWELVE'): 8.823367240046235, ('TWELVE', 'FIFTEEN'): 8.823367240046235, ('FIFTEEN', '15'): 8.823367240046235, ('15', 'EIGHT'): 8.823367240046235, ('EIGHT', '8'): 8.823367240046235, ('8', 'THIRTEEN'): 8.823367240046235, ('THIRTEEN', 'FOURTEEN'): 8.823367240046235, ('FOURTEEN', 'ONLY ONE'): 8.823367240046235, ('ONLY ONE', 'JUST ONE'): 8.823367240046235, ('JUST ONE', 'EXTRA'): 8.823367240046235, ('EXTRA', 'A LITTLE BIT OF'): 8.823367240046235, ('A LITTLE BIT OF', 'LIGHT'): 8.823367240046235, ('LIGHT', 'A LOT OF'): 8.823367240046235, ('A LOT OF', 'NOT MUCH'): 8.823367240046235, ('NOT MUCH', 'A LITTLE'): 8.823367240046235, ('A LITTLE', 'JUST A BIT'): 8.823367240046235, ('JUST A BIT', 'JUST A LITTLE'): 8.823367240046235, ('JUST A LITTLE', 'ONLY A LITTLE'): 8.823367240046235, ('ONLY A LITTLE', 'LOTS OF'): 8.823367240046235, ('LOTS OF', 'JUST A TINY BIT OF'): 8.823367240046235, ('JUST A TINY BIT OF', 'NOT MANY'): 8.823367240046235, ('NOT MANY', 'LARGE'): 8.823367240046235, ('LARGE', 'PARTY SIZE'): 8.823367240046235, ('PARTY SIZE', 'PARTY_SIZE'): 8.823367240046235, ('PARTY_SIZE', 'PERSONAL SIZED'): 8.823367240046235, ('PERSONAL SIZED', 'PERSONAL_SIZE'): 8.823367240046235, ('PERSONAL_SIZE', 'REGULAR'): 8.823367240046235, ('REGULAR', 'REGULARSIZE'): 8.823367240046235, ('REGULARSIZE', 'PARTY SIZED'): 8.823367240046235, ('PARTY SIZED', 'PARTY - SIZED'): 8.823367240046235, ('PARTY - SIZED', 'LUNCH - SIZED'): 8.823367240046235, ('LUNCH - SIZED', 'LUNCH_SIZE'): 8.823367240046235, ('LUNCH_SIZE', 'LUNCH SIZE'): 8.823367240046235, ('LUNCH SIZE', 'PERSONAL'): 8.823367240046235, ('PERSONAL', 'PARTY - SIZE'): 8.823367240046235, ('PARTY - SIZE', 'PERSONAL SIZE'): 8.823367240046235, ('PERSONAL SIZE', 'MEDIUM'): 8.823367240046235, ('MEDIUM', 'SMALL'): 8.823367240046235, ('SMALL', 'LUNCH SIZED'): 8.823367240046235, ('LUNCH SIZED', 'PERSONAL - SIZED'): 8.823367240046235, ('PERSONAL - SIZED', 'LUNCH - SIZE'): 8.823367240046235, ('LUNCH - SIZE', 'PERSONAL - SIZE'): 8.823367240046235, ('PERSONAL - SIZE', 'EXTRA LARGE'): 8.823367240046235, ('EXTRA LARGE', 'EXTRA_LARGE'): 8.823367240046235, ('EXTRA_LARGE', 'ICE TEAS'): 8.823367240046235, ('ICE TEAS', 'ICE_TEA'): 8.823367240046235, ('ICE_TEA', '7 UPS'): 8.823367240046235, ('7 UPS', 'SEVEN_UP'): 8.823367240046235, ('SEVEN_UP', 'ICED TEAS'): 8.823367240046235, ('ICED TEAS', 'COKE'): 8.823367240046235, ('COKE', 'MOUNTAIN DEWS'): 8.823367240046235, ('MOUNTAIN DEWS', 'MOUNTAIN_DEW'): 8.823367240046235, ('MOUNTAIN_DEW', 'LEMON ICE TEA'): 8.823367240046235, ('LEMON ICE TEA', 'LEMON_ICE_TEA'): 8.823367240046235, ('LEMON_ICE_TEA', 'DOCTOR PEPPERS'): 8.823367240046235, ('DOCTOR PEPPERS', 'DR_PEPPER'): 8.823367240046235, ('DR_PEPPER', 'SPRITE'): 8.823367240046235, ('SPRITE', 'DIET ICE TEAS'): 8.823367240046235, ('DIET ICE TEAS', 'DIET_ICE_TEA'): 8.823367240046235, ('DIET_ICE_TEA', 'COFFEES'): 8.823367240046235, ('COFFEES', 'COFFEE'): 8.823367240046235, ('COFFEE', 'PEPSI'): 8.823367240046235, ('PEPSI', 'PELLEGRINO'): 8.823367240046235, ('PELLEGRINO', 'PELLEGRINO_SPARKLING_WATER'): 8.823367240046235, ('PELLEGRINO_SPARKLING_WATER', 'SAN PELLEGRINO'): 8.823367240046235, ('SAN PELLEGRINO', 'DIET COKE'): 8.823367240046235, ('DIET COKE', 'DIET_COKE'): 8.823367240046235, ('DIET_COKE', 'DR PEPER'): 8.823367240046235, ('DR PEPER', 'PINEAPPLE SODA'): 8.823367240046235, ('PINEAPPLE SODA', 'PINEAPPLE_SODA'): 8.823367240046235, ('PINEAPPLE_SODA', 'CHERRY COKE'): 8.823367240046235, ('CHERRY COKE', 'CHERRY_COKE'): 8.823367240046235, ('CHERRY_COKE', 'COKES'): 8.823367240046235, ('COKES', 'FANTA'): 8.823367240046235, ('FANTA', 'LEMON ICE TEAS'): 8.823367240046235, ('LEMON ICE TEAS', 'CHERRY PEPSI'): 8.823367240046235, ('CHERRY PEPSI', 'CHERRY_PEPSI'): 8.823367240046235, ('CHERRY_PEPSI', 'DOCTOR PEPER'): 8.823367240046235, ('DOCTOR PEPER', '7 UP'): 8.823367240046235, ('7 UP', 'SPRITES'): 8.823367240046235, ('SPRITES', 'FANTAS'): 8.823367240046235, ('FANTAS', 'DIET ICE TEA'): 8.823367240046235, ('DIET ICE TEA', 'DOCTOR PEPPER'): 8.823367240046235, ('DOCTOR PEPPER', 'COKE ZEROS'): 8.823367240046235, ('COKE ZEROS', 'COKE_ZERO'): 8.823367240046235, ('COKE_ZERO', 'ICE TEA'): 8.823367240046235, ('ICE TEA', 'DIET PEPSIS'): 8.823367240046235, ('DIET PEPSIS', 'DIET_PEPSI'): 8.823367240046235, ('DIET_PEPSI', 'LEMON ICED TEAS'): 8.823367240046235, ('LEMON ICED TEAS', 'DOCTOR PEPERS'): 8.823367240046235, ('DOCTOR PEPERS', 'LEMON ICED TEA'): 8.823367240046235, ('LEMON ICED TEA', 'DIET PEPSI'): 8.823367240046235, ('DIET PEPSI', 'ICED TEA'): 8.823367240046235, ('ICED TEA', 'DIET SPRITE'): 8.823367240046235, ('DIET SPRITE', 'DIET_SPRITE'): 8.823367240046235, ('DIET_SPRITE', 'MOUNTAIN DEW'): 8.823367240046235, ('MOUNTAIN DEW', 'COKE ZERO'): 8.823367240046235, ('COKE ZERO', 'PERRIERS'): 8.823367240046235, ('PERRIERS', 'PERRIER_SPARKLING_WATER'): 8.823367240046235, ('PERRIER_SPARKLING_WATER', 'PERRIER'): 8.823367240046235, ('PERRIER', 'DIET COKES'): 8.823367240046235, ('DIET COKES', 'WATER'): 8.823367240046235, ('WATER', 'PINEAPPLE SODAS'): 8.823367240046235, ('PINEAPPLE SODAS', 'CHERRY COKES'): 8.823367240046235, ('CHERRY COKES', 'SAN PELLEGRINOS'): 8.823367240046235, ('SAN PELLEGRINOS', 'DR PEPERS'): 8.823367240046235, ('DR PEPERS', 'SEVEN UPS'): 8.823367240046235, ('SEVEN UPS', 'GINGER ALE'): 8.823367240046235, ('GINGER ALE', 'GINGER_ALE'): 8.823367240046235, ('GINGER_ALE', 'GINGER ALES'): 8.823367240046235, ('GINGER ALES', 'WATERS'): 8.823367240046235, ('WATERS', 'CHERRY PEPSIS'): 8.823367240046235, ('CHERRY PEPSIS', 'DIET SPRITES'): 8.823367240046235, ('DIET SPRITES', 'PELLEGRINOS'): 8.823367240046235, ('PELLEGRINOS', 'COKE ZEROES'): 8.823367240046235, ('COKE ZEROES', 'DR PEPPER'): 8.823367240046235, ('DR PEPPER', 'SEVEN UP'): 8.823367240046235, ('SEVEN UP', 'DR PEPPERS'): 8.823367240046235, ('DR PEPPERS', 'PEPSIS'): 8.823367240046235, ('PEPSIS', 'DIET ICED TEAS'): 8.823367240046235, ('DIET ICED TEAS', 'DIET ICED TEA'): 8.823367240046235, ('DIET ICED TEA', 'VEGETARIAN'): 8.823367240046235, ('VEGETARIAN', 'STUFFED CRUST'): 8.823367240046235, ('STUFFED CRUST', 'STUFFED_CRUST'): 8.823367240046235, ('STUFFED_CRUST', 'HIGH RISE DOUGH'): 8.823367240046235, ('HIGH RISE DOUGH', 'THICK_CRUST'): 8.823367240046235, ('THICK_CRUST', 'BIG MEAT'): 8.823367240046235, ('BIG MEAT', 'MEAT_LOVER'): 8.823367240046235, ('MEAT_LOVER', 'COMBINATION'): 8.823367240046235, ('COMBINATION', 'MEDITERRANEAN'): 8.823367240046235, ('MEDITERRANEAN', 'MEATLOVER'): 8.823367240046235, ('MEATLOVER', 'ALL MEAT'): 8.823367240046235, ('ALL MEAT', 'GLUTEN-FREE CRUST'): 8.823367240046235, ('GLUTEN-FREE CRUST', 'GLUTEN_FREE_CRUST'): 8.823367240046235, ('GLUTEN_FREE_CRUST', 'DEEPDISH'): 8.823367240046235, ('DEEPDISH', 'DEEP_DISH'): 8.823367240046235, ('DEEP_DISH', 'GLUTEN-FREE CRUSTS'): 8.823367240046235, ('GLUTEN-FREE CRUSTS', 'MEATLOVERS'): 8.823367240046235, ('MEATLOVERS', 'EVERYTHING'): 8.823367240046235, ('EVERYTHING', 'ALL_TOPPINGS'): 8.823367240046235, ('ALL_TOPPINGS', 'THICK CRUST'): 8.823367240046235, ('THICK CRUST', 'STUFFED CRUSTS'): 8.823367240046235, ('STUFFED CRUSTS', 'NEW YORK STYLE'): 8.823367240046235, ('NEW YORK STYLE', 'NEW_YORK_STYLE'): 8.823367240046235, ('NEW_YORK_STYLE', 'VEGAN'): 8.823367240046235, ('VEGAN', 'EVERY MEAT'): 8.823367240046235, ('EVERY MEAT', 'BIG NEW YORKER'): 8.823367240046235, ('BIG NEW YORKER', 'MARGHERITA'): 8.823367240046235, ('MARGHERITA', 'CAULIFLOWER CRUSTS'): 8.823367240046235, ('CAULIFLOWER CRUSTS', 'CAULIFLOWER_CRUST'): 8.823367240046235, ('CAULIFLOWER_CRUST', 'GLUTEN FREE CRUSTS'): 8.823367240046235, ('GLUTEN FREE CRUSTS', 'VEGGIE'): 8.823367240046235, ('VEGGIE', 'ALL CHEESE'): 8.823367240046235, ('ALL CHEESE', 'CHEESE_LOVER'): 8.823367240046235, ('CHEESE_LOVER', 'NEAPOLITAN'): 8.823367240046235, ('NEAPOLITAN', 'SOURDOUGH CRUSTS'): 8.823367240046235, ('SOURDOUGH CRUSTS', 'SOURDOUGH_CRUST'): 8.823367240046235, ('SOURDOUGH_CRUST', 'MARGARITA'): 8.823367240046235, ('MARGARITA', 'ALL THE VEGETABLES'): 8.823367240046235, ('ALL THE VEGETABLES', 'ALL_VEGETABLES'): 8.823367240046235, ('ALL_VEGETABLES', 'MEAT LOVERS'): 8.823367240046235, ('MEAT LOVERS', 'WITH THE WORKS'): 8.823367240046235, ('WITH THE WORKS', 'CHICAGO STYLE'): 8.823367240046235, ('CHICAGO STYLE', 'CHICAGO_STYLE'): 8.823367240046235, ('CHICAGO_STYLE', 'HAWAIIAN'): 8.823367240046235, ('HAWAIIAN', 'GLUTEN FREE CRUST'): 8.823367240046235, ('GLUTEN FREE CRUST', 'THIN CRUST'): 8.823367240046235, ('THIN CRUST', 'THIN_CRUST'): 8.823367240046235, ('THIN_CRUST', 'THICK CRUSTS'): 8.823367240046235, ('THICK CRUSTS', 'SUPREME'): 8.823367240046235, ('SUPREME', 'ALL VEGGIES'): 8.823367240046235, ('ALL VEGGIES', 'NAPOLITANA'): 8.823367240046235, ('NAPOLITANA', 'SOURDOUGH CRUST'): 8.823367240046235, ('SOURDOUGH CRUST', 'ALL THE CHEESE'): 8.823367240046235, ('ALL THE CHEESE', 'KETO CRUSTS'): 8.823367240046235, ('KETO CRUSTS', 'KETO_CRUST'): 8.823367240046235, ('KETO_CRUST', 'MEXICAN'): 8.823367240046235, ('MEXICAN', 'THIN CRUSTS'): 8.823367240046235, ('THIN CRUSTS', 'CHEESE LOVERS'): 8.823367240046235, ('CHEESE LOVERS', 'CAULIFLOWER CRUST'): 8.823367240046235, ('CAULIFLOWER CRUST', 'MEAT LOVER'): 8.823367240046235, ('MEAT LOVER', 'CHEESE LOVER'): 8.823367240046235, ('CHEESE LOVER', 'EVERY TOPPING'): 8.823367240046235, ('EVERY TOPPING', 'KETO CRUST'): 8.823367240046235, ('KETO CRUST', 'DEEP DISH'): 8.823367240046235, ('DEEP DISH', 'ALL THE TOPPINGS'): 8.823367240046235, ('ALL THE TOPPINGS', 'CHICAGO'): 8.823367240046235, ('CHICAGO', 'NAPOLITAN'): 8.823367240046235, ('NAPOLITAN', 'PAN'): 8.823367240046235, ('PAN', 'MED'): 8.823367240046235, ('MED', 'IN CANS'): 8.823367240046235, ('IN CANS', 'IN BOTTLES'): 8.823367240046235, ('IN BOTTLES', 'BOTTLE'): 8.823367240046235, ('BOTTLE', 'CANS'): 8.823367240046235, ('CANS', 'BOTTLES'): 8.823367240046235, ('BOTTLES', 'IN A CAN'): 8.823367240046235, ('IN A CAN', 'IN A BOTTLE'): 8.823367240046235}\n"
     ]
    }
   ],
   "source": [
    "new_train_data = [e for e in train_data.keys()]\n",
    "\n",
    "pmi = pmi_find(new_train_data)\n",
    "print(pmi)"
   ]
  },
  {
   "cell_type": "code",
   "execution_count": 27,
   "metadata": {},
   "outputs": [],
   "source": [
    "train_data_df = pd.DataFrame(train_data.items(), columns=[\"word\", \"label\"])\n",
    "dev_data_df = pd.DataFrame(dev_data.items(), columns=[\"word\", \"label\"])\n",
    "\n",
    "X_train, X_test, y_train, y_test = train_data_df[\"word\"], dev_data_df[\"word\"], train_data_df[\"label\"], dev_data_df[\"label\"]"
   ]
  },
  {
   "cell_type": "code",
   "execution_count": null,
   "metadata": {},
   "outputs": [],
   "source": [
    "pmi_train = pmi_find()"
   ]
  },
  {
   "cell_type": "code",
   "execution_count": 28,
   "metadata": {},
   "outputs": [],
   "source": [
    "vectorizer = TfidfVectorizer()\n",
    "X_train_tfidf = vectorizer.fit_transform(X_train)\n",
    "X_test_tfidf = vectorizer.transform(X_test)"
   ]
  },
  {
   "cell_type": "code",
   "execution_count": 29,
   "metadata": {},
   "outputs": [
    {
     "name": "stdout",
     "output_type": "stream",
     "text": [
      "              precision    recall  f1-score   support\n",
      "\n",
      "           0       0.38      0.98      0.55        63\n",
      "           1       0.92      0.55      0.69        20\n",
      "           2       0.80      0.89      0.84         9\n",
      "           3       0.50      0.60      0.55         5\n",
      "           4       0.78      1.00      0.88        18\n",
      "           5       0.97      0.97      0.97        30\n",
      "           6       0.75      1.00      0.86         3\n",
      "           7       1.00      0.15      0.27       117\n",
      "\n",
      "    accuracy                           0.57       265\n",
      "   macro avg       0.76      0.77      0.70       265\n",
      "weighted avg       0.81      0.57      0.52       265\n",
      "\n"
     ]
    }
   ],
   "source": [
    "# We need to balance the classes as with the current dataset the model will be biased towards the majority class --> TOPPING\n",
    "# When I tried to train the model without balancing the classes, the model was predicting only TOPPING :)\n",
    " \n",
    "classifier_lr = LogisticRegression(class_weight='balanced', random_state=42)\n",
    "\n",
    "classifier_lr.fit(X_train_tfidf, y_train)\n",
    "predictions = classifier_lr.predict(X_test_tfidf)\n",
    "print(classification_report(y_test, predictions))\n"
   ]
  },
  {
   "cell_type": "code",
   "execution_count": 37,
   "metadata": {},
   "outputs": [
    {
     "name": "stdout",
     "output_type": "stream",
     "text": [
      "              precision    recall  f1-score   support\n",
      "\n",
      "           0       0.95      0.98      0.97        63\n",
      "           1       0.18      1.00      0.30        20\n",
      "           2       0.80      0.89      0.84         9\n",
      "           3       0.50      0.40      0.44         5\n",
      "           4       0.86      1.00      0.92        18\n",
      "           5       1.00      0.97      0.98        30\n",
      "           6       0.75      1.00      0.86         3\n",
      "           7       0.95      0.16      0.28       117\n",
      "\n",
      "    accuracy                           0.61       265\n",
      "   macro avg       0.75      0.80      0.70       265\n",
      "weighted avg       0.88      0.61      0.60       265\n",
      "\n"
     ]
    }
   ],
   "source": [
    "classifier_svm = SVC(class_weight='balanced', random_state=42)\n",
    "classifier_svm.fit(X_train_tfidf, y_train)\n",
    "predictions = classifier_svm.predict(X_test_tfidf)\n",
    "print(classification_report(y_test, predictions))\n"
   ]
  },
  {
   "cell_type": "code",
   "execution_count": 38,
   "metadata": {},
   "outputs": [
    {
     "name": "stdout",
     "output_type": "stream",
     "text": [
      "              precision    recall  f1-score   support\n",
      "\n",
      "           0       1.00      0.98      0.99        63\n",
      "           1       0.18      1.00      0.30        20\n",
      "           2       0.80      0.89      0.84         9\n",
      "           3       0.50      0.40      0.44         5\n",
      "           4       0.78      1.00      0.88        18\n",
      "           5       1.00      0.97      0.98        30\n",
      "           6       0.75      1.00      0.86         3\n",
      "           7       0.95      0.16      0.28       117\n",
      "\n",
      "    accuracy                           0.61       265\n",
      "   macro avg       0.74      0.80      0.70       265\n",
      "weighted avg       0.88      0.61      0.60       265\n",
      "\n"
     ]
    }
   ],
   "source": [
    "classifier_mlp = MLPClassifier(hidden_layer_sizes=(100,), max_iter=300,random_state=42)\n",
    "classifier_mlp.fit(X_train_tfidf, y_train)\n",
    "predictions = classifier_mlp.predict(X_test_tfidf)\n",
    "print(classification_report(y_test, predictions))\n"
   ]
  },
  {
   "cell_type": "code",
   "execution_count": 39,
   "metadata": {},
   "outputs": [
    {
     "name": "stdout",
     "output_type": "stream",
     "text": [
      "              precision    recall  f1-score   support\n",
      "\n",
      "           0       1.00      0.98      0.99        63\n",
      "           1       0.17      1.00      0.29        20\n",
      "           2       0.80      0.89      0.84         9\n",
      "           3       1.00      0.40      0.57         5\n",
      "           4       0.90      1.00      0.95        18\n",
      "           5       1.00      0.97      0.98        30\n",
      "           6       0.75      1.00      0.86         3\n",
      "           7       0.95      0.16      0.28       117\n",
      "\n",
      "    accuracy                           0.61       265\n",
      "   macro avg       0.82      0.80      0.72       265\n",
      "weighted avg       0.90      0.61      0.60       265\n",
      "\n"
     ]
    }
   ],
   "source": [
    "classifier_rf = RandomForestClassifier(class_weight='balanced',random_state=42)\n",
    "classifier_rf.fit(X_train_tfidf, y_train)\n",
    "predictions = classifier_rf.predict(X_test_tfidf)\n",
    "print(classification_report(y_test, predictions))"
   ]
  },
  {
   "cell_type": "markdown",
   "metadata": {},
   "source": [
    "    TOPPING = 0\n",
    "    NUMBER = 1\n",
    "    SIZE = 2\n",
    "    QUANTITY = 3\n",
    "    STYLE = 4\n",
    "    DRINKTYPE = 5\n",
    "    CONTAINERTYPE = 6\n",
    "    NONE = 7"
   ]
  },
  {
   "cell_type": "code",
   "execution_count": null,
   "metadata": {},
   "outputs": [
    {
     "name": "stdout",
     "output_type": "stream",
     "text": [
      "[7 1 1 1 2 2 0]\n"
     ]
    }
   ],
   "source": [
    "text = 'want to eat one party size balsamic glaze'.upper()\n",
    "text  =  text.split()\n",
    "vectorizer.transform(text)\n",
    "print(classifier_svm.predict( vectorizer.transform(text)))"
   ]
  }
 ],
 "metadata": {
  "kernelspec": {
   "display_name": "Python 3",
   "language": "python",
   "name": "python3"
  },
  "language_info": {
   "codemirror_mode": {
    "name": "ipython",
    "version": 3
   },
   "file_extension": ".py",
   "mimetype": "text/x-python",
   "name": "python",
   "nbconvert_exporter": "python",
   "pygments_lexer": "ipython3",
   "version": "3.11.5"
  }
 },
 "nbformat": 4,
 "nbformat_minor": 2
}
