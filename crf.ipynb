{
 "cells": [
  {
   "cell_type": "code",
   "execution_count": 258,
   "metadata": {},
   "outputs": [],
   "source": [
    "from gensim.models import Word2Vec,FastText\n",
    "import numpy as np\n",
    "import pandas as pd\n",
    "import tensorflow as tf\n",
    "import nltk\n",
    "from nltk.tokenize import word_tokenize,sent_tokenize\n",
    "from nltk import pos_tag\n",
    "from nltk.corpus import stopwords\n",
    "from tensorflow import keras\n",
    "import re\n",
    "from nltk.stem import WordNetLemmatizer\n",
    "\n",
    "\n",
    "from tensorflow.keras.optimizers import Adam\n",
    "from tensorflow.keras.preprocessing.text import Tokenizer\n",
    "from tensorflow.keras.preprocessing.sequence import pad_sequences\n",
    "from tensorflow.keras.models import Model\n",
    "from tensorflow.keras.layers import Embedding,LSTM,Dense,Input,Bidirectional,Attention,Concatenate,TimeDistributed,GRU,SimpleRNN,Convolution1D,Dropout\n",
    "\n",
    "pd.set_option(\"display.max_columns\", None)\n",
    "np.random.seed(42)\n",
    "tf.random.set_seed(42)\n"
   ]
  },
  {
   "cell_type": "code",
   "execution_count": 218,
   "metadata": {},
   "outputs": [],
   "source": [
    "main_train = pd.read_json(\"dataset/PIZZA_train.json\", lines=True,)\n",
    "df_dev = pd.read_json(\"dataset/PIZZA_dev.json\", lines=True,)"
   ]
  },
  {
   "cell_type": "code",
   "execution_count": 219,
   "metadata": {},
   "outputs": [],
   "source": [
    "df_train = main_train.sample(100000)"
   ]
  },
  {
   "cell_type": "code",
   "execution_count": 220,
   "metadata": {},
   "outputs": [],
   "source": [
    "pizza = {\"pizza\", \"pizzas\", \"pie\", \"pies\"}"
   ]
  },
  {
   "cell_type": "code",
   "execution_count": 221,
   "metadata": {},
   "outputs": [],
   "source": [
    "word_to_num = {\n",
    "    \"zero\": 0, \"one\": 1, \"two\": 2, \"three\": 3, \"four\": 4, \n",
    "    \"five\": 5, \"six\": 6, \"seven\": 7, \"eight\": 8, \"nine\": 9,\n",
    "    \"ten\": 10, \"eleven\": 11, \"twelve\": 12, \"thirteen\": 13,\n",
    "    \"fourteen\": 14, \"fifteen\": 15, \"sixteen\": 16, \"seventeen\": 17,\n",
    "    \"eighteen\": 18, \"nineteen\": 19, \"twenty\": 20,\n",
    "    \"thirty\": 30, \"forty\": 40, \"fifty\": 50, \"sixty\": 60,\n",
    "    \"seventy\": 70, \"eighty\": 80, \"ninety\": 90,\n",
    "    \"hundred\": 100\n",
    "}\n",
    "\n",
    "\n",
    "def words_to_number(word):\n",
    "    word = word.lower().strip()\n",
    "    \n",
    "    # Handle simple numbers directly\n",
    "    if word in word_to_num:\n",
    "        return word_to_num[word]\n",
    "    \n",
    "    # Handle composite numbers (e.g., twenty-one)\n",
    "    if \"-\" in word:\n",
    "        parts = word.split(\"-\")\n",
    "        return sum(word_to_num[part] for part in parts)\n",
    "    \n",
    "    # Handle \"hundred\" cases (e.g., one hundred twenty-three)\n",
    "    if \"hundred\" in word:\n",
    "        parts = word.split(\"hundred\")\n",
    "        hundreds = word_to_num[parts[0].strip()] * 100\n",
    "        if parts[1].strip():  # If there's something after \"hundred\"\n",
    "            return hundreds + words_to_number(parts[1].strip())\n",
    "        return hundreds\n",
    "    \n",
    "    return None  # Return None if the input is not a valid number word\n",
    "\n",
    "def standardize_numbers(sentence):\n",
    "    # Tokenize the sentence\n",
    "    tokens = sentence.split()\n",
    "    \n",
    "    # Replace number words with digits\n",
    "    standardized_tokens = [\n",
    "        str(words_to_number(token)) if words_to_number(token) is not None else token\n",
    "        for token in tokens\n",
    "    ]\n",
    "    \n",
    "    return \" \".join(standardized_tokens)\n",
    "\n"
   ]
  },
  {
   "cell_type": "code",
   "execution_count": 222,
   "metadata": {},
   "outputs": [],
   "source": [
    "def clean_text(text):\n",
    "    text = re.sub(r\"[^\\w']\", \" \", text)  # Remove non-word characters\n",
    "    text = re.sub(r\"\\s+\", \" \", text)  # Remove multiple spaces\n",
    "    text = text.lower().strip()  # Lowercase and strip whitespace\n",
    "    return text"
   ]
  },
  {
   "cell_type": "code",
   "execution_count": 223,
   "metadata": {},
   "outputs": [],
   "source": [
    "lemmatizer = WordNetLemmatizer()\n",
    "\n",
    "def lemma(text):\n",
    "    text = text.split()\n",
    "    text = [lemmatizer.lemmatize(word) for word in text]\n",
    "    return \" \".join(text)"
   ]
  },
  {
   "cell_type": "code",
   "execution_count": 224,
   "metadata": {},
   "outputs": [],
   "source": [
    "CONTRACTIONS = {\n",
    "    \"n't\": \"not\",\n",
    "    \"'s\": \"is\",\n",
    "    \"'re\": \"are\",\n",
    "    \"'m\": \"am\",\n",
    "    \"'ll\": \"will\",\n",
    "    \"'ve\": \"have\",\n",
    "    \"'d\": \"would\",\n",
    "    \"'em\": \"them\",\n",
    "    \"'all\": \"all\",\n",
    "    \"'cause\": \"because\",\n",
    "    \"'clock\": \"oclock\",\n",
    "    \"'tis\": \"it is\",\n",
    "    \"'twas\": \"it was\",\n",
    "    \"'tween\": \"between\",\n",
    "    \"'twere\": \"it were\",\n",
    "    \"'twould\": \"it would\",\n",
    "    \"'twixt\": \"betwixt\",\n",
    "    \"'twill\": \"it will\",\n",
    "    \"'til\": \"until\",\n",
    "    \"'bout\": \"about\",\n",
    "    \"'cept\": \"except\",\n",
    "    \"'cos\": \"because\",\n",
    "    \"'fore\": \"before\",\n",
    "    \"'round\": \"around\",\n",
    "    \"'n'\": \"and\",\n",
    "    \"'neath\": \"beneath\",\n",
    "    \"'nother\": \"another\",\n",
    "    \"'nuff\": \"enough\",\n",
    "}\n",
    "def expnad_abb2(text):\n",
    "\n",
    "    pattern = re.compile(\n",
    "        r\"(\" + \"|\".join(re.escape(key) for key in CONTRACTIONS.keys()) + r\")\"\n",
    "    )\n",
    "    expanded_text = pattern.sub(lambda x: \" \" + CONTRACTIONS[x.group()], text)\n",
    "    return expanded_text\n"
   ]
  },
  {
   "cell_type": "code",
   "execution_count": 225,
   "metadata": {},
   "outputs": [],
   "source": [
    "negation_words = {\n",
    "    \"no\",\n",
    "    \"not\",\n",
    "    \"none\",\n",
    "    \"never\",\n",
    "    \"without\",\n",
    "    \"avoid\",\n",
    "    \"neither\",\n",
    "    \"nor\",\n",
    "    \"hate\",\n",
    "    \"hold\",\n",
    "    \"lack\",\n",
    "    \"any\",\n",
    "    \"nothing\"\n",
    "}\n",
    "pizza = {\"pizza\", \"pizzas\", \"pie\", \"pies\"}\n",
    "\n",
    "stop_negation_words = {\"and\", \"but\"}\n",
    "stop_words = set(stopwords.words(\"english\"))\n",
    "stop_words = stop_words - negation_words - stop_negation_words - {'all'}\n",
    "stop_words.update({\"would\", \"like\", \"get\", \"want\"})\n",
    "stop_words.update(pizza)\n",
    "\n",
    "\n",
    "def remove_stopwords(text):\n",
    "    words = text.split()\n",
    "    filtered_words = [word for word in words if word.lower() not in stop_words]\n",
    "    return \" \".join(filtered_words)"
   ]
  },
  {
   "cell_type": "code",
   "execution_count": 226,
   "metadata": {},
   "outputs": [],
   "source": [
    "toppings_regex = re.compile(r'(?<=\\(TOPPING\\s)[^)]*(?=\\s)')\n",
    "number_regex = re.compile(r'(?<=\\(NUMBER\\s)[^)]*(?=\\s)')\n",
    "size_regex = re.compile(r'(?<=\\(SIZE\\s)[^)]*(?=\\s)')\n",
    "quantity_regex = re.compile(r'(?<=\\(QUANTITY\\s)[^)]*(?=\\s)')\n",
    "style_regex = re.compile(r'(?<=\\(STYLE\\s)[^)]*(?=\\s)')\n",
    "drink_type_regex = re.compile(r'(?<=\\(DRINKTYPE\\s)[^)]*(?=\\s)')\n",
    "volume_regex = re.compile(r'(?<=\\(VOLUME\\s)[^)]*(?=\\s)')\n",
    "container_type_regex = re.compile(r'(?<=\\(CONTAINERTYPE\\s)[^)]*(?=\\s)')   "
   ]
  },
  {
   "cell_type": "code",
   "execution_count": 227,
   "metadata": {},
   "outputs": [],
   "source": [
    "sizes = set()\n",
    "toppings = set()\n",
    "numbers = set()\n",
    "quantities = set()\n",
    "styles = set()\n",
    "drink_types = set()\n",
    "container_types = set()\n",
    "volumes = set()\n"
   ]
  },
  {
   "cell_type": "code",
   "execution_count": 228,
   "metadata": {},
   "outputs": [],
   "source": [
    "# sizes.update([item.lower() for sublist in df_train['train.EXR'].apply(lambda x: size_regex.findall(x)) for item in sublist])\n",
    "# toppings.update([item.lower() for sublist in df_train['train.EXR'].apply(lambda x: toppings_regex.findall(x)) for item in sublist])\n",
    "# numbers.update([item.lower() for sublist in df_train['train.EXR'].apply(lambda x: number_regex.findall(x)) for item in sublist])\n",
    "# quantities.update([item.lower() for sublist in df_train['train.EXR'].apply(lambda x: quantity_regex.findall(x)) for item in sublist])\n",
    "# styles.update([item.lower() for sublist in df_train['train.EXR'].apply(lambda x: style_regex.findall(x)) for item in sublist])\n",
    "# drink_types.update([item.lower() for sublist in df_train['train.EXR'].apply(lambda x: drink_type_regex.findall(x)) for item in sublist])\n",
    "# container_types.update([item.lower() for sublist in df_train['train.EXR'].apply(lambda x: container_type_regex.findall(x)) for item in sublist])\n",
    "# volumes.update([item.lower() for sublist in df_train['train.EXR'].apply(lambda x: volume_regex.findall(x)) for item in sublist])"
   ]
  },
  {
   "cell_type": "code",
   "execution_count": 229,
   "metadata": {},
   "outputs": [],
   "source": [
    "sizes.update([item.lower() for sublist in df_train['train.TOP'].apply(lambda x: size_regex.findall(x)) for item in sublist])\n",
    "toppings.update([item.lower() for sublist in df_train['train.TOP'].apply(lambda x: toppings_regex.findall(x)) for item in sublist])\n",
    "numbers.update([item.lower() for sublist in df_train['train.TOP'].apply(lambda x: number_regex.findall(x)) for item in sublist])\n",
    "quantities.update([item.lower() for sublist in df_train['train.TOP'].apply(lambda x: quantity_regex.findall(x)) for item in sublist])\n",
    "styles.update([item.lower() for sublist in df_train['train.TOP'].apply(lambda x: style_regex.findall(x)) for item in sublist])\n",
    "drink_types.update([item.lower() for sublist in df_train['train.TOP'].apply(lambda x: drink_type_regex.findall(x)) for item in sublist])\n",
    "container_types.update([item.lower() for sublist in df_train['train.TOP'].apply(lambda x: container_type_regex.findall(x)) for item in sublist])\n",
    "volumes.update([item.lower() for sublist in df_train['train.TOP'].apply(lambda x: volume_regex.findall(x)) for item in sublist])\n"
   ]
  },
  {
   "cell_type": "code",
   "execution_count": 230,
   "metadata": {},
   "outputs": [],
   "source": [
    "def clean_text(text):\n",
    "    text = re.sub(r\"[^\\w']\", \" \", text)  # Remove non-word characters\n",
    "    text = re.sub(r\"\\s+\", \" \", text)  # Remove multiple spaces\n",
    "    text = text.lower().strip()  # Lowercase and strip whitespace\n",
    "    return text"
   ]
  },
  {
   "cell_type": "code",
   "execution_count": 231,
   "metadata": {},
   "outputs": [],
   "source": [
    "lemmatizer = WordNetLemmatizer()\n",
    "\n",
    "def lemma(text):\n",
    "    text = text.split()\n",
    "    text = [lemmatizer.lemmatize(word) for word in text]\n",
    "    return \" \".join(text)"
   ]
  },
  {
   "cell_type": "code",
   "execution_count": 232,
   "metadata": {},
   "outputs": [],
   "source": [
    "sizes = list(sizes)\n",
    "toppings = list(toppings)\n",
    "numbers = list(numbers)\n",
    "quantities = list(quantities)\n",
    "styles = list(styles)\n",
    "drink_types = list(drink_types)\n",
    "container_types = list(container_types)\n",
    "volumes = list(volumes)"
   ]
  },
  {
   "cell_type": "code",
   "execution_count": 233,
   "metadata": {},
   "outputs": [],
   "source": [
    "sizes = [lemma(size) for size in sizes]\n",
    "toppings = [lemma(topping) for topping in toppings]\n",
    "numbers = [lemma(number) for number in numbers]\n",
    "quantities = [lemma(quantity) for quantity in quantities]\n",
    "styles = [lemma(style) for style in styles]\n",
    "drink_types = [lemma(drink_type) for drink_type in drink_types]\n",
    "container_types = [lemma(container_type) for container_type in container_types]\n",
    "volumes = [lemma(volume) for volume in volumes]\n"
   ]
  },
  {
   "cell_type": "code",
   "execution_count": 234,
   "metadata": {},
   "outputs": [],
   "source": [
    "b_toppings = set()\n",
    "i_toppings = set()\n",
    "\n",
    "for topping in toppings:\n",
    "    topping = topping.split()\n",
    "    b_toppings.add(topping[0])\n",
    "    i_toppings.update(topping[1:])\n",
    "\n",
    "b_toppings = list(b_toppings)\n",
    "i_toppings = list(i_toppings)\n"
   ]
  },
  {
   "cell_type": "code",
   "execution_count": 235,
   "metadata": {},
   "outputs": [],
   "source": [
    "b_styles = set()\n",
    "i_styles = set()\n",
    "\n",
    "for style in styles:\n",
    "    style = style.split()\n",
    "    style = [word for word in style if word not in {\"and\", \"with\",'the'}]\n",
    "    b_styles.add(style[0])\n",
    "    i_styles.update(style[1:])\n",
    "\n",
    "b_styles = list(b_styles)\n",
    "i_styles = list(i_styles)"
   ]
  },
  {
   "cell_type": "code",
   "execution_count": 236,
   "metadata": {},
   "outputs": [],
   "source": [
    "b_sizes = set()\n",
    "i_sizes = set()\n",
    "\n",
    "for size in sizes:\n",
    "    size = size.split()\n",
    "    size = [word for word in size if word not in {'-'}]\n",
    "    b_sizes.add(size[0])\n",
    "    i_sizes.update(size[1:])\n",
    "\n",
    "b_sizes = list(b_sizes)\n",
    "i_sizes = list(i_sizes)\n"
   ]
  },
  {
   "cell_type": "code",
   "execution_count": 237,
   "metadata": {},
   "outputs": [],
   "source": [
    "b_drink_types = set()\n",
    "i_drink_types = set()\n",
    "\n",
    "for drink_type in drink_types:\n",
    "    drink_type = drink_type.split()\n",
    "    b_drink_types.add(drink_type[0])\n",
    "    i_drink_types.update(drink_type[1:])\n",
    "\n",
    "b_drink_types = list(b_drink_types)\n",
    "i_drink_types = list(i_drink_types)\n"
   ]
  },
  {
   "cell_type": "code",
   "execution_count": 238,
   "metadata": {},
   "outputs": [],
   "source": [
    "i_volume = set()\n",
    "\n",
    "for volume in volumes:\n",
    "    volume = volume.split('-') \n",
    "    if len(volume) == 1:\n",
    "        volume = volume[0].split()\n",
    "    \n",
    "    i_volume.add(volume[1])\n",
    "    if len(volume) > 2:\n",
    "        i_volume.update(volume[2:])\n",
    "\n",
    "i_volume = list(i_volume)\n",
    "    \n"
   ]
  },
  {
   "cell_type": "code",
   "execution_count": 239,
   "metadata": {},
   "outputs": [],
   "source": [
    "def tokenize_adj_noun(text):\n",
    "    # Tokenize text into words\n",
    "    words = word_tokenize(text)\n",
    "    \n",
    "    # Perform POS tagging\n",
    "    pos_tags = pos_tag(words)\n",
    "    \n",
    "    tokens = []\n",
    "    skip_next = False\n",
    "    \n",
    "    for i in range(len(pos_tags) - 1):\n",
    "        if skip_next:\n",
    "            skip_next = False\n",
    "            continue\n",
    "        \n",
    "        word, tag = pos_tags[i]\n",
    "        next_word, next_tag = pos_tags[i + 1]\n",
    "\n",
    "        if next_word in pizza :\n",
    "            tokens.append(word)\n",
    "            continue\n",
    "        \n",
    "        # If current word is an adjective and the next is a noun, combine them\n",
    "        if (word not in ['extra' , 'pineapple'] and tag in ['JJ', 'JJR', 'JJS'] or word == 'all') and next_tag in ['NN', 'NNS', 'NNP', 'NNPS']:\n",
    "            tokens.append(f\"{word}_{next_word}\")\n",
    "            skip_next = True\n",
    "        elif (word == 'seven' and next_word in ['up' , 'ups']):\n",
    "            tokens.append(f\"{word}_{next_word}\")\n",
    "            skip_next = True\n",
    "        else:\n",
    "            tokens.append(word)\n",
    "    \n",
    "    # Add the last word if it wasn't part of an adj+noun pair\n",
    "    if not skip_next:\n",
    "        tokens.append(pos_tags[-1][0])\n",
    "    \n",
    "    return \" \".join(tokens)\n",
    "\n",
    "\n",
    "# tokenize_adj_noun(\"i 'd like a pizza with roasted garlic roasted tomato and yellow peppers hold the thin crust\")\n"
   ]
  },
  {
   "cell_type": "code",
   "execution_count": 240,
   "metadata": {},
   "outputs": [
    {
     "name": "stdout",
     "output_type": "stream",
     "text": [
      "[('five', 'B-NUMBER'), ('medium', 'B-SIZE'), ('pizzas', 'O'), ('with', 'O'), ('tomato', 'B-TOPPING'), ('and', 'O'), ('ham', 'B-TOPPING'), ('with', 'O'), ('no', 'O'), ('cheese', 'B-NOT-TOPPING')]\n"
     ]
    }
   ],
   "source": [
    "def manual_annotation(text):\n",
    "    # Break down the text and assign tags manually\n",
    "    tokens = text.lower().split()\n",
    "    labels = ['O'] * len(tokens)\n",
    "    \n",
    "    negation = False\n",
    "    \n",
    "    \n",
    "    # Identify numbers\n",
    "    for i, token in enumerate(tokens):\n",
    "        if token in word_to_num or token.isdigit():\n",
    "            labels[i] = 'B-NUMBER'\n",
    "    \n",
    "    # Identify volumes\n",
    "    for i, token in enumerate(tokens):\n",
    "        if token in i_volume:\n",
    "            labels[i-1] = 'B-VOLUME'\n",
    "            labels[i] = 'I-VOLUME'\n",
    "\n",
    "    # Identify styles\n",
    "    for i, token in enumerate(tokens):\n",
    "        if token in negation_words:\n",
    "            negation = True\n",
    "        if token in b_styles:\n",
    "            labels[i] = 'B-STYLE' if not negation else 'B-NOT-STYLE'\n",
    "            if i+1 < len(tokens) and tokens[i+1] in i_styles:\n",
    "                labels[i+1] = 'I-STYLE' if not negation else 'I-NOT-STYLE'\n",
    "            negation = False\n",
    "    \n",
    "    # Identify toppings\n",
    "    for i, token in enumerate(tokens):\n",
    "        if token in negation_words:\n",
    "            negation = True\n",
    "        elif token in b_toppings:\n",
    "            labels[i] = 'B-TOPPING' if not negation else 'B-NOT-TOPPING'\n",
    "            negation = False\n",
    "\n",
    "    for i, token in enumerate(tokens):\n",
    "        if token in i_toppings :\n",
    "            labels[i] = 'I-NOT-TOPPING' if labels[i-1] == 'B-NOT-TOPPING' else 'I-TOPPING' if labels[i-1] == 'B-TOPPING' else labels[i]\n",
    "    \n",
    "    # Identify sizes\n",
    "    for i, token in enumerate(tokens):\n",
    "        if token in ['sized', 'size']:\n",
    "            labels[i] = 'I-SIZE'\n",
    "            labels[i-1] = 'B-SIZE'\n",
    "        if token in b_sizes:\n",
    "            labels[i] = 'B-SIZE'\n",
    "\n",
    "        # Identify drink orders\n",
    "    for i, token in enumerate(tokens):\n",
    "        if token in b_drink_types:\n",
    "            labels[i] = 'B-DRINKTYPE'\n",
    "            if i+1 < len(tokens) and tokens[i+1] in i_drink_types:\n",
    "                labels[i+1] = 'I-DRINKTYPE'\n",
    "\n",
    "    # Identify quantities\n",
    "    for i, token in enumerate(tokens):\n",
    "        if token in quantities:\n",
    "            labels[i] = 'B-QUANTITY'\n",
    "            if i+1 < len(tokens) and tokens[i+1] in quantities:\n",
    "                labels[i+1] = 'I-QUANTITY'\n",
    "\n",
    "    # Identify containers\n",
    "    for i, token in enumerate(tokens):\n",
    "        if token in container_types:\n",
    "            labels[i] = 'B-CONTAINER'\n",
    "            if i+1 < len(tokens) and tokens[i+1] in container_types:\n",
    "                labels[i+1] = 'I-CONTAINER'\n",
    "    \n",
    "   \n",
    "\n",
    "                \n",
    "    return labels\n",
    "\n",
    "# Example usage\n",
    "text = \"five medium pizzas with tomato and ham with no cheese\"\n",
    "# text = tokenize_adj_noun(text)\n",
    "labels = manual_annotation(text)\n",
    "print(list(zip(text.split(), labels)))\n"
   ]
  },
  {
   "cell_type": "code",
   "execution_count": 270,
   "metadata": {},
   "outputs": [],
   "source": [
    "def generate_training_data(texts):\n",
    "    labeled_texts = []\n",
    "    labeled_labels = []\n",
    "    \n",
    "    for text in texts:\n",
    "        # text = tokenize_adj_noun(text)\n",
    "        labels = manual_annotation(text)\n",
    "        labeled_texts.append(text)\n",
    "        labeled_labels.append(\" \".join(labels))\n",
    "\n",
    "    \n",
    "    return labeled_texts, labeled_labels\n",
    "# Prepare multiple training examples\n",
    "# training_texts = [\n",
    "#     \"balsamic glaze and a sprite and three eight ounce fantas and three sprites\",\n",
    "#     \"two pepperoni pizzas and one margherita with olive oil\",\n",
    "#     \"three cokes and a small pizza with mushrooms\"\n",
    "# ]\n",
    "\n",
    "# Generate training data\n",
    "\n",
    "\n",
    "X_train, y_train = generate_training_data(df_train['train.SRC'].apply(clean_text).apply(lemma))"
   ]
  },
  {
   "cell_type": "code",
   "execution_count": 242,
   "metadata": {},
   "outputs": [],
   "source": [
    "df_train_crf = pd.DataFrame({'data': X_train, 'labels': y_train})"
   ]
  },
  {
   "cell_type": "code",
   "execution_count": 271,
   "metadata": {},
   "outputs": [],
   "source": [
    "tags = [\n",
    "    'O',\n",
    "    'B-DRINKORDER', 'I-DRINKORDER',\n",
    "    'B-PIZZAORDER', 'I-PIZZAORDER',\n",
    "    'B-NUMBER', 'I-NUMBER',\n",
    "    'B-DRINKTYPE', 'I-DRINKTYPE',\n",
    "    'B-VOLUME', 'I-VOLUME',\n",
    "    'B-TOPPING', 'I-TOPPING',\n",
    "    'B-SIZE', 'I-SIZE',\n",
    "    'B-QUANTITY', 'I-QUANTITY',\n",
    "    'B-STYLE', 'I-STYLE',\n",
    "    'B-CONTAINER', 'I-CONTAINER',\n",
    "    'B-NOT-TOPPING', 'I-NOT-TOPPING',\n",
    "    'B-NOT-STYLE' , 'I-NOT-STYLE'\n",
    "]"
   ]
  },
  {
   "cell_type": "code",
   "execution_count": 272,
   "metadata": {},
   "outputs": [],
   "source": [
    "input_tokinezer = Tokenizer(oov_token = \"<OOV>\")\n",
    "input_tokinezer.fit_on_texts(X_train)\n",
    "X_train = input_tokinezer.texts_to_sequences(X_train)"
   ]
  },
  {
   "cell_type": "code",
   "execution_count": 273,
   "metadata": {},
   "outputs": [],
   "source": [
    "y_train = [y.split() for y in y_train]\n",
    "y_train = [[tags.index(tag) for tag in y] for y in y_train]"
   ]
  },
  {
   "cell_type": "code",
   "execution_count": 274,
   "metadata": {},
   "outputs": [],
   "source": [
    "max_len = max([len(x) for x in X_train])"
   ]
  },
  {
   "cell_type": "code",
   "execution_count": 275,
   "metadata": {},
   "outputs": [],
   "source": [
    "y_train = pad_sequences(y_train,max_len, padding='post')\n",
    "X_train = pad_sequences(X_train,max_len, padding='post')"
   ]
  },
  {
   "cell_type": "code",
   "execution_count": 276,
   "metadata": {},
   "outputs": [],
   "source": [
    "from keras.models import Sequential"
   ]
  },
  {
   "cell_type": "code",
   "execution_count": 281,
   "metadata": {},
   "outputs": [],
   "source": [
    "model = Sequential()\n",
    "model.add(Embedding(len(input_tokinezer.word_index)+1,100))\n",
    "model.add(Convolution1D(128, 5,padding = 'same' ,activation='relu'))\n",
    "model.add(Dropout(0.25))\n",
    "model.add(GRU(100,return_sequences=True))\n",
    "model.add(TimeDistributed(Dense(len(tags), activation='softmax')))\n",
    "model.compile('rmsprop', 'sparse_categorical_crossentropy')"
   ]
  },
  {
   "cell_type": "code",
   "execution_count": 282,
   "metadata": {},
   "outputs": [
    {
     "name": "stdout",
     "output_type": "stream",
     "text": [
      "Model: \"sequential_6\"\n",
      "_________________________________________________________________\n",
      " Layer (type)                Output Shape              Param #   \n",
      "=================================================================\n",
      " embedding_14 (Embedding)    (None, None, 100)         25700     \n",
      "                                                                 \n",
      " conv1d_4 (Conv1D)           (None, None, 128)         64128     \n",
      "                                                                 \n",
      " dropout_3 (Dropout)         (None, None, 128)         0         \n",
      "                                                                 \n",
      " gru_3 (GRU)                 (None, None, 100)         69000     \n",
      "                                                                 \n",
      " time_distributed_4 (TimeDi  (None, None, 25)          2525      \n",
      " stributed)                                                      \n",
      "                                                                 \n",
      "=================================================================\n",
      "Total params: 161353 (630.29 KB)\n",
      "Trainable params: 161353 (630.29 KB)\n",
      "Non-trainable params: 0 (0.00 Byte)\n",
      "_________________________________________________________________\n"
     ]
    }
   ],
   "source": [
    "model.summary()"
   ]
  },
  {
   "cell_type": "code",
   "execution_count": 284,
   "metadata": {},
   "outputs": [
    {
     "name": "stdout",
     "output_type": "stream",
     "text": [
      "Epoch 1/5\n",
      "625/625 [==============================] - 41s 66ms/step - loss: 0.0110 - val_loss: 0.0082\n",
      "Epoch 2/5\n",
      "625/625 [==============================] - 35s 55ms/step - loss: 0.0084 - val_loss: 0.0075\n",
      "Epoch 3/5\n",
      "625/625 [==============================] - 34s 55ms/step - loss: 0.0077 - val_loss: 0.0073\n",
      "Epoch 4/5\n",
      "625/625 [==============================] - 35s 55ms/step - loss: 0.0074 - val_loss: 0.0070\n",
      "Epoch 5/5\n",
      "625/625 [==============================] - 35s 56ms/step - loss: 0.0073 - val_loss: 0.0071\n"
     ]
    }
   ],
   "source": [
    "hist = model.fit(X_train, y_train, batch_size=128, epochs=5, validation_split=0.2)"
   ]
  },
  {
   "cell_type": "code",
   "execution_count": 286,
   "metadata": {},
   "outputs": [
    {
     "data": {
      "image/png": "[encoded data removed]",
      "text/plain": [
       "<Figure size 1200x400 with 1 Axes>"
      ]
     },
     "metadata": {},
     "output_type": "display_data"
    }
   ],
   "source": [
    "import matplotlib.pyplot as plt\n",
    "\n",
    "# Plot training & validation accuracy values\n",
    "plt.figure(figsize=(12, 4))\n",
    "\n",
    "# plt.subplot(1, 2, 1)\n",
    "# plt.plot(hist.history['accuracy'])\n",
    "# plt.plot(hist.history['val_accuracy'])\n",
    "# plt.title('Model accuracy')\n",
    "# plt.ylabel('Accuracy')\n",
    "# plt.xlabel('Epoch')\n",
    "# plt.legend(['Train', 'Validation'], loc='upper left')\n",
    "\n",
    "# Plot training & validation loss values\n",
    "plt.subplot(1, 2, 2)\n",
    "plt.plot(hist.history['loss'])\n",
    "plt.plot(hist.history['val_loss'])\n",
    "plt.title('Model loss')\n",
    "plt.ylabel('Loss')\n",
    "plt.xlabel('Epoch')\n",
    "plt.legend(['Train', 'Validation'], loc='upper left')\n",
    "\n",
    "plt.show()"
   ]
  },
  {
   "cell_type": "code",
   "execution_count": 298,
   "metadata": {},
   "outputs": [
    {
     "name": "stdout",
     "output_type": "stream",
     "text": [
      "i want to order two medium pizza with sausage and black olive and two medium pizza with pepperoni and extra cheese and three large pizza with pepperoni and sausage\n"
     ]
    }
   ],
   "source": [
    "x_test = \"i want to order two medium pizzas with sausage and black olives and two medium pizzas with pepperoni and extra cheese and three large pizzas with pepperoni and sausage\"\n",
    "x_test = clean_text(x_test)\n",
    "x_test = lemma(x_test)\n",
    "print(x_test)\n",
    "x_test = input_tokinezer.texts_to_sequences([x_test])\n",
    "x_test = pad_sequences(x_test,max_len, padding='post')"
   ]
  },
  {
   "cell_type": "code",
   "execution_count": 299,
   "metadata": {},
   "outputs": [
    {
     "name": "stdout",
     "output_type": "stream",
     "text": [
      "1/1 [==============================] - 0s 21ms/step\n",
      "Original Sentence: two medium pizza with sausage and black olive and two medium pizza with pepperoni and extra cheese and three large pizza with pepperoni and sausage\n",
      "Predicted Tags: ['B-NUMBER', 'B-SIZE', 'O', 'O', 'B-TOPPING', 'O', 'B-TOPPING', 'I-TOPPING', 'O', 'B-NUMBER', 'B-SIZE', 'O', 'O', 'B-TOPPING', 'O', 'B-QUANTITY', 'B-TOPPING', 'O', 'B-NUMBER', 'B-SIZE', 'O', 'O', 'B-TOPPING', 'O', 'B-TOPPING']\n"
     ]
    }
   ],
   "source": [
    "y_pred = model.predict(x_test)\n",
    "y_pred = np.argmax(y_pred, axis=-1)\n",
    "\n",
    "# Convert the predicted indices back to tags\n",
    "pred_tags = [tags[idx] for idx in y_pred[0]]\n",
    "\n",
    "# Print the original sentence and the tags\n",
    "original_sentence = [input_tokinezer.index_word[idx] for idx in x_test[0] if idx != 0]\n",
    "print(\"Original Sentence:\", \" \".join(original_sentence))\n",
    "print(\"Predicted Tags:\", pred_tags)"
   ]
  },
  {
   "cell_type": "code",
   "execution_count": 269,
   "metadata": {},
   "outputs": [
    {
     "name": "stdout",
     "output_type": "stream",
     "text": [
      "Training epoch 0\n"
     ]
    },
    {
     "name": "stderr",
     "output_type": "stream",
     "text": [
      "  0% |                                                                        |\r"
     ]
    },
    {
     "ename": "ValueError",
     "evalue": "in user code:\n\n    File \"c:\\Users\\Yara\\AppData\\Local\\Programs\\Python\\Python311\\Lib\\site-packages\\keras\\src\\engine\\training.py\", line 1377, in train_function  *\n        return step_function(self, iterator)\n    File \"c:\\Users\\Yara\\AppData\\Local\\Programs\\Python\\Python311\\Lib\\site-packages\\keras\\src\\engine\\training.py\", line 1360, in step_function  **\n        outputs = model.distribute_strategy.run(run_step, args=(data,))\n    File \"c:\\Users\\Yara\\AppData\\Local\\Programs\\Python\\Python311\\Lib\\site-packages\\keras\\src\\engine\\training.py\", line 1349, in run_step  **\n        outputs = model.train_step(data)\n    File \"c:\\Users\\Yara\\AppData\\Local\\Programs\\Python\\Python311\\Lib\\site-packages\\keras\\src\\engine\\training.py\", line 1127, in train_step\n        loss = self.compute_loss(x, y, y_pred, sample_weight)\n    File \"c:\\Users\\Yara\\AppData\\Local\\Programs\\Python\\Python311\\Lib\\site-packages\\keras\\src\\engine\\training.py\", line 1185, in compute_loss\n        return self.compiled_loss(\n    File \"c:\\Users\\Yara\\AppData\\Local\\Programs\\Python\\Python311\\Lib\\site-packages\\keras\\src\\engine\\compile_utils.py\", line 277, in __call__\n        loss_value = loss_obj(y_t, y_p, sample_weight=sw)\n    File \"c:\\Users\\Yara\\AppData\\Local\\Programs\\Python\\Python311\\Lib\\site-packages\\keras\\src\\losses.py\", line 143, in __call__\n        losses = call_fn(y_true, y_pred)\n    File \"c:\\Users\\Yara\\AppData\\Local\\Programs\\Python\\Python311\\Lib\\site-packages\\keras\\src\\losses.py\", line 270, in call  **\n        return ag_fn(y_true, y_pred, **self._fn_kwargs)\n    File \"c:\\Users\\Yara\\AppData\\Local\\Programs\\Python\\Python311\\Lib\\site-packages\\keras\\src\\losses.py\", line 2221, in categorical_crossentropy\n        return backend.categorical_crossentropy(\n    File \"c:\\Users\\Yara\\AppData\\Local\\Programs\\Python\\Python311\\Lib\\site-packages\\keras\\src\\backend.py\", line 5575, in categorical_crossentropy\n        target.shape.assert_is_compatible_with(output.shape)\n\n    ValueError: Shapes (1, 25, 25) and (1, 21, 25) are incompatible\n",
     "output_type": "error",
     "traceback": [
      "\u001b[1;31m---------------------------------------------------------------------------\u001b[0m",
      "\u001b[1;31mValueError\u001b[0m                                Traceback (most recent call last)",
      "Cell \u001b[1;32mIn[269], line 17\u001b[0m\n\u001b[0;32m     14\u001b[0m sent \u001b[38;5;241m=\u001b[39m sent[np\u001b[38;5;241m.\u001b[39mnewaxis,:] \n\u001b[0;32m     16\u001b[0m \u001b[38;5;28;01mif\u001b[39;00m sent\u001b[38;5;241m.\u001b[39mshape[\u001b[38;5;241m1\u001b[39m] \u001b[38;5;241m>\u001b[39m \u001b[38;5;241m1\u001b[39m: \u001b[38;5;66;03m#ignore 1 word sentences\u001b[39;00m\n\u001b[1;32m---> 17\u001b[0m     \u001b[43mmodel\u001b[49m\u001b[38;5;241;43m.\u001b[39;49m\u001b[43mtrain_on_batch\u001b[49m\u001b[43m(\u001b[49m\u001b[43msent\u001b[49m\u001b[43m,\u001b[49m\u001b[43m \u001b[49m\u001b[43mlabel\u001b[49m\u001b[43m)\u001b[49m\n",
      "File \u001b[1;32mc:\\Users\\Yara\\AppData\\Local\\Programs\\Python\\Python311\\Lib\\site-packages\\keras\\src\\engine\\training.py:2763\u001b[0m, in \u001b[0;36mModel.train_on_batch\u001b[1;34m(self, x, y, sample_weight, class_weight, reset_metrics, return_dict)\u001b[0m\n\u001b[0;32m   2759\u001b[0m     iterator \u001b[38;5;241m=\u001b[39m data_adapter\u001b[38;5;241m.\u001b[39msingle_batch_iterator(\n\u001b[0;32m   2760\u001b[0m         \u001b[38;5;28mself\u001b[39m\u001b[38;5;241m.\u001b[39mdistribute_strategy, x, y, sample_weight, class_weight\n\u001b[0;32m   2761\u001b[0m     )\n\u001b[0;32m   2762\u001b[0m     \u001b[38;5;28mself\u001b[39m\u001b[38;5;241m.\u001b[39mtrain_function \u001b[38;5;241m=\u001b[39m \u001b[38;5;28mself\u001b[39m\u001b[38;5;241m.\u001b[39mmake_train_function()\n\u001b[1;32m-> 2763\u001b[0m     logs \u001b[38;5;241m=\u001b[39m \u001b[38;5;28;43mself\u001b[39;49m\u001b[38;5;241;43m.\u001b[39;49m\u001b[43mtrain_function\u001b[49m\u001b[43m(\u001b[49m\u001b[43miterator\u001b[49m\u001b[43m)\u001b[49m\n\u001b[0;32m   2765\u001b[0m logs \u001b[38;5;241m=\u001b[39m tf_utils\u001b[38;5;241m.\u001b[39msync_to_numpy_or_python_type(logs)\n\u001b[0;32m   2766\u001b[0m \u001b[38;5;28;01mif\u001b[39;00m return_dict:\n",
      "File \u001b[1;32mc:\\Users\\Yara\\AppData\\Local\\Programs\\Python\\Python311\\Lib\\site-packages\\tensorflow\\python\\util\\traceback_utils.py:153\u001b[0m, in \u001b[0;36mfilter_traceback.<locals>.error_handler\u001b[1;34m(*args, **kwargs)\u001b[0m\n\u001b[0;32m    151\u001b[0m \u001b[38;5;28;01mexcept\u001b[39;00m \u001b[38;5;167;01mException\u001b[39;00m \u001b[38;5;28;01mas\u001b[39;00m e:\n\u001b[0;32m    152\u001b[0m   filtered_tb \u001b[38;5;241m=\u001b[39m _process_traceback_frames(e\u001b[38;5;241m.\u001b[39m__traceback__)\n\u001b[1;32m--> 153\u001b[0m   \u001b[38;5;28;01mraise\u001b[39;00m e\u001b[38;5;241m.\u001b[39mwith_traceback(filtered_tb) \u001b[38;5;28;01mfrom\u001b[39;00m \u001b[38;5;28;01mNone\u001b[39;00m\n\u001b[0;32m    154\u001b[0m \u001b[38;5;28;01mfinally\u001b[39;00m:\n\u001b[0;32m    155\u001b[0m   \u001b[38;5;28;01mdel\u001b[39;00m filtered_tb\n",
      "File \u001b[1;32m~\\AppData\\Local\\Temp\\__autograph_generated_filet47gs_lb.py:15\u001b[0m, in \u001b[0;36mouter_factory.<locals>.inner_factory.<locals>.tf__train_function\u001b[1;34m(iterator)\u001b[0m\n\u001b[0;32m     13\u001b[0m \u001b[38;5;28;01mtry\u001b[39;00m:\n\u001b[0;32m     14\u001b[0m     do_return \u001b[38;5;241m=\u001b[39m \u001b[38;5;28;01mTrue\u001b[39;00m\n\u001b[1;32m---> 15\u001b[0m     retval_ \u001b[38;5;241m=\u001b[39m ag__\u001b[38;5;241m.\u001b[39mconverted_call(ag__\u001b[38;5;241m.\u001b[39mld(step_function), (ag__\u001b[38;5;241m.\u001b[39mld(\u001b[38;5;28mself\u001b[39m), ag__\u001b[38;5;241m.\u001b[39mld(iterator)), \u001b[38;5;28;01mNone\u001b[39;00m, fscope)\n\u001b[0;32m     16\u001b[0m \u001b[38;5;28;01mexcept\u001b[39;00m:\n\u001b[0;32m     17\u001b[0m     do_return \u001b[38;5;241m=\u001b[39m \u001b[38;5;28;01mFalse\u001b[39;00m\n",
      "File \u001b[1;32mc:\\Users\\Yara\\AppData\\Local\\Programs\\Python\\Python311\\Lib\\site-packages\\keras\\src\\engine\\training.py:1360\u001b[0m, in \u001b[0;36mModel.make_train_function.<locals>.step_function\u001b[1;34m(model, iterator)\u001b[0m\n\u001b[0;32m   1356\u001b[0m     run_step \u001b[38;5;241m=\u001b[39m tf\u001b[38;5;241m.\u001b[39mfunction(\n\u001b[0;32m   1357\u001b[0m         run_step, jit_compile\u001b[38;5;241m=\u001b[39m\u001b[38;5;28;01mTrue\u001b[39;00m, reduce_retracing\u001b[38;5;241m=\u001b[39m\u001b[38;5;28;01mTrue\u001b[39;00m\n\u001b[0;32m   1358\u001b[0m     )\n\u001b[0;32m   1359\u001b[0m data \u001b[38;5;241m=\u001b[39m \u001b[38;5;28mnext\u001b[39m(iterator)\n\u001b[1;32m-> 1360\u001b[0m outputs \u001b[38;5;241m=\u001b[39m \u001b[43mmodel\u001b[49m\u001b[38;5;241;43m.\u001b[39;49m\u001b[43mdistribute_strategy\u001b[49m\u001b[38;5;241;43m.\u001b[39;49m\u001b[43mrun\u001b[49m\u001b[43m(\u001b[49m\u001b[43mrun_step\u001b[49m\u001b[43m,\u001b[49m\u001b[43m \u001b[49m\u001b[43margs\u001b[49m\u001b[38;5;241;43m=\u001b[39;49m\u001b[43m(\u001b[49m\u001b[43mdata\u001b[49m\u001b[43m,\u001b[49m\u001b[43m)\u001b[49m\u001b[43m)\u001b[49m\n\u001b[0;32m   1361\u001b[0m outputs \u001b[38;5;241m=\u001b[39m reduce_per_replica(\n\u001b[0;32m   1362\u001b[0m     outputs,\n\u001b[0;32m   1363\u001b[0m     \u001b[38;5;28mself\u001b[39m\u001b[38;5;241m.\u001b[39mdistribute_strategy,\n\u001b[0;32m   1364\u001b[0m     reduction\u001b[38;5;241m=\u001b[39m\u001b[38;5;28mself\u001b[39m\u001b[38;5;241m.\u001b[39mdistribute_reduction_method,\n\u001b[0;32m   1365\u001b[0m )\n\u001b[0;32m   1366\u001b[0m \u001b[38;5;28;01mreturn\u001b[39;00m outputs\n",
      "File \u001b[1;32mc:\\Users\\Yara\\AppData\\Local\\Programs\\Python\\Python311\\Lib\\site-packages\\keras\\src\\engine\\training.py:1349\u001b[0m, in \u001b[0;36mModel.make_train_function.<locals>.step_function.<locals>.run_step\u001b[1;34m(data)\u001b[0m\n\u001b[0;32m   1348\u001b[0m \u001b[38;5;28;01mdef\u001b[39;00m \u001b[38;5;21mrun_step\u001b[39m(data):\n\u001b[1;32m-> 1349\u001b[0m     outputs \u001b[38;5;241m=\u001b[39m \u001b[43mmodel\u001b[49m\u001b[38;5;241;43m.\u001b[39;49m\u001b[43mtrain_step\u001b[49m\u001b[43m(\u001b[49m\u001b[43mdata\u001b[49m\u001b[43m)\u001b[49m\n\u001b[0;32m   1350\u001b[0m     \u001b[38;5;66;03m# Ensure counter is updated only if `train_step` succeeds.\u001b[39;00m\n\u001b[0;32m   1351\u001b[0m     \u001b[38;5;28;01mwith\u001b[39;00m tf\u001b[38;5;241m.\u001b[39mcontrol_dependencies(_minimum_control_deps(outputs)):\n",
      "File \u001b[1;32mc:\\Users\\Yara\\AppData\\Local\\Programs\\Python\\Python311\\Lib\\site-packages\\keras\\src\\engine\\training.py:1127\u001b[0m, in \u001b[0;36mModel.train_step\u001b[1;34m(self, data)\u001b[0m\n\u001b[0;32m   1125\u001b[0m \u001b[38;5;28;01mwith\u001b[39;00m tf\u001b[38;5;241m.\u001b[39mGradientTape() \u001b[38;5;28;01mas\u001b[39;00m tape:\n\u001b[0;32m   1126\u001b[0m     y_pred \u001b[38;5;241m=\u001b[39m \u001b[38;5;28mself\u001b[39m(x, training\u001b[38;5;241m=\u001b[39m\u001b[38;5;28;01mTrue\u001b[39;00m)\n\u001b[1;32m-> 1127\u001b[0m     loss \u001b[38;5;241m=\u001b[39m \u001b[38;5;28;43mself\u001b[39;49m\u001b[38;5;241;43m.\u001b[39;49m\u001b[43mcompute_loss\u001b[49m\u001b[43m(\u001b[49m\u001b[43mx\u001b[49m\u001b[43m,\u001b[49m\u001b[43m \u001b[49m\u001b[43my\u001b[49m\u001b[43m,\u001b[49m\u001b[43m \u001b[49m\u001b[43my_pred\u001b[49m\u001b[43m,\u001b[49m\u001b[43m \u001b[49m\u001b[43msample_weight\u001b[49m\u001b[43m)\u001b[49m\n\u001b[0;32m   1128\u001b[0m \u001b[38;5;28mself\u001b[39m\u001b[38;5;241m.\u001b[39m_validate_target_and_loss(y, loss)\n\u001b[0;32m   1129\u001b[0m \u001b[38;5;66;03m# Run backwards pass.\u001b[39;00m\n",
      "File \u001b[1;32mc:\\Users\\Yara\\AppData\\Local\\Programs\\Python\\Python311\\Lib\\site-packages\\keras\\src\\engine\\training.py:1185\u001b[0m, in \u001b[0;36mModel.compute_loss\u001b[1;34m(***failed resolving arguments***)\u001b[0m\n\u001b[0;32m   1134\u001b[0m \u001b[38;5;250m\u001b[39m\u001b[38;5;124;03m\"\"\"Compute the total loss, validate it, and return it.\u001b[39;00m\n\u001b[0;32m   1135\u001b[0m \n\u001b[0;32m   1136\u001b[0m \u001b[38;5;124;03mSubclasses can optionally override this method to provide custom loss\u001b[39;00m\n\u001b[1;32m   (...)\u001b[0m\n\u001b[0;32m   1182\u001b[0m \u001b[38;5;124;03m  is the case when called by `Model.test_step`).\u001b[39;00m\n\u001b[0;32m   1183\u001b[0m \u001b[38;5;124;03m\"\"\"\u001b[39;00m\n\u001b[0;32m   1184\u001b[0m \u001b[38;5;28;01mdel\u001b[39;00m x  \u001b[38;5;66;03m# The default implementation does not use `x`.\u001b[39;00m\n\u001b[1;32m-> 1185\u001b[0m \u001b[38;5;28;01mreturn\u001b[39;00m \u001b[38;5;28;43mself\u001b[39;49m\u001b[38;5;241;43m.\u001b[39;49m\u001b[43mcompiled_loss\u001b[49m\u001b[43m(\u001b[49m\n\u001b[0;32m   1186\u001b[0m \u001b[43m    \u001b[49m\u001b[43my\u001b[49m\u001b[43m,\u001b[49m\u001b[43m \u001b[49m\u001b[43my_pred\u001b[49m\u001b[43m,\u001b[49m\u001b[43m \u001b[49m\u001b[43msample_weight\u001b[49m\u001b[43m,\u001b[49m\u001b[43m \u001b[49m\u001b[43mregularization_losses\u001b[49m\u001b[38;5;241;43m=\u001b[39;49m\u001b[38;5;28;43mself\u001b[39;49m\u001b[38;5;241;43m.\u001b[39;49m\u001b[43mlosses\u001b[49m\n\u001b[0;32m   1187\u001b[0m \u001b[43m\u001b[49m\u001b[43m)\u001b[49m\n",
      "File \u001b[1;32mc:\\Users\\Yara\\AppData\\Local\\Programs\\Python\\Python311\\Lib\\site-packages\\keras\\src\\engine\\compile_utils.py:277\u001b[0m, in \u001b[0;36mLossesContainer.__call__\u001b[1;34m(self, y_true, y_pred, sample_weight, regularization_losses)\u001b[0m\n\u001b[0;32m    275\u001b[0m y_t, y_p, sw \u001b[38;5;241m=\u001b[39m match_dtype_and_rank(y_t, y_p, sw)\n\u001b[0;32m    276\u001b[0m sw \u001b[38;5;241m=\u001b[39m losses_utils\u001b[38;5;241m.\u001b[39mapply_mask(y_p, sw, losses_utils\u001b[38;5;241m.\u001b[39mget_mask(y_p))\n\u001b[1;32m--> 277\u001b[0m loss_value \u001b[38;5;241m=\u001b[39m \u001b[43mloss_obj\u001b[49m\u001b[43m(\u001b[49m\u001b[43my_t\u001b[49m\u001b[43m,\u001b[49m\u001b[43m \u001b[49m\u001b[43my_p\u001b[49m\u001b[43m,\u001b[49m\u001b[43m \u001b[49m\u001b[43msample_weight\u001b[49m\u001b[38;5;241;43m=\u001b[39;49m\u001b[43msw\u001b[49m\u001b[43m)\u001b[49m\n\u001b[0;32m    279\u001b[0m total_loss_mean_value \u001b[38;5;241m=\u001b[39m loss_value\n\u001b[0;32m    280\u001b[0m \u001b[38;5;66;03m# Correct for the `Mean` loss metrics counting each replica as a\u001b[39;00m\n\u001b[0;32m    281\u001b[0m \u001b[38;5;66;03m# batch.\u001b[39;00m\n",
      "File \u001b[1;32mc:\\Users\\Yara\\AppData\\Local\\Programs\\Python\\Python311\\Lib\\site-packages\\keras\\src\\losses.py:143\u001b[0m, in \u001b[0;36mLoss.__call__\u001b[1;34m(self, y_true, y_pred, sample_weight)\u001b[0m\n\u001b[0;32m    138\u001b[0m \u001b[38;5;28;01melse\u001b[39;00m:\n\u001b[0;32m    139\u001b[0m     call_fn \u001b[38;5;241m=\u001b[39m tf\u001b[38;5;241m.\u001b[39m__internal__\u001b[38;5;241m.\u001b[39mautograph\u001b[38;5;241m.\u001b[39mtf_convert(\n\u001b[0;32m    140\u001b[0m         \u001b[38;5;28mself\u001b[39m\u001b[38;5;241m.\u001b[39mcall, tf\u001b[38;5;241m.\u001b[39m__internal__\u001b[38;5;241m.\u001b[39mautograph\u001b[38;5;241m.\u001b[39mcontrol_status_ctx()\n\u001b[0;32m    141\u001b[0m     )\n\u001b[1;32m--> 143\u001b[0m losses \u001b[38;5;241m=\u001b[39m \u001b[43mcall_fn\u001b[49m\u001b[43m(\u001b[49m\u001b[43my_true\u001b[49m\u001b[43m,\u001b[49m\u001b[43m \u001b[49m\u001b[43my_pred\u001b[49m\u001b[43m)\u001b[49m\n\u001b[0;32m    145\u001b[0m in_mask \u001b[38;5;241m=\u001b[39m losses_utils\u001b[38;5;241m.\u001b[39mget_mask(y_pred)\n\u001b[0;32m    146\u001b[0m out_mask \u001b[38;5;241m=\u001b[39m losses_utils\u001b[38;5;241m.\u001b[39mget_mask(losses)\n",
      "File \u001b[1;32mc:\\Users\\Yara\\AppData\\Local\\Programs\\Python\\Python311\\Lib\\site-packages\\keras\\src\\losses.py:270\u001b[0m, in \u001b[0;36mLossFunctionWrapper.call\u001b[1;34m(self, y_true, y_pred)\u001b[0m\n\u001b[0;32m    263\u001b[0m     y_pred, y_true \u001b[38;5;241m=\u001b[39m losses_utils\u001b[38;5;241m.\u001b[39msqueeze_or_expand_dimensions(\n\u001b[0;32m    264\u001b[0m         y_pred, y_true\n\u001b[0;32m    265\u001b[0m     )\n\u001b[0;32m    267\u001b[0m ag_fn \u001b[38;5;241m=\u001b[39m tf\u001b[38;5;241m.\u001b[39m__internal__\u001b[38;5;241m.\u001b[39mautograph\u001b[38;5;241m.\u001b[39mtf_convert(\n\u001b[0;32m    268\u001b[0m     \u001b[38;5;28mself\u001b[39m\u001b[38;5;241m.\u001b[39mfn, tf\u001b[38;5;241m.\u001b[39m__internal__\u001b[38;5;241m.\u001b[39mautograph\u001b[38;5;241m.\u001b[39mcontrol_status_ctx()\n\u001b[0;32m    269\u001b[0m )\n\u001b[1;32m--> 270\u001b[0m \u001b[38;5;28;01mreturn\u001b[39;00m \u001b[43mag_fn\u001b[49m\u001b[43m(\u001b[49m\u001b[43my_true\u001b[49m\u001b[43m,\u001b[49m\u001b[43m \u001b[49m\u001b[43my_pred\u001b[49m\u001b[43m,\u001b[49m\u001b[43m \u001b[49m\u001b[38;5;241;43m*\u001b[39;49m\u001b[38;5;241;43m*\u001b[39;49m\u001b[38;5;28;43mself\u001b[39;49m\u001b[38;5;241;43m.\u001b[39;49m\u001b[43m_fn_kwargs\u001b[49m\u001b[43m)\u001b[49m\n",
      "File \u001b[1;32mc:\\Users\\Yara\\AppData\\Local\\Programs\\Python\\Python311\\Lib\\site-packages\\keras\\src\\losses.py:2221\u001b[0m, in \u001b[0;36mcategorical_crossentropy\u001b[1;34m(y_true, y_pred, from_logits, label_smoothing, axis)\u001b[0m\n\u001b[0;32m   2213\u001b[0m     \u001b[38;5;28;01mreturn\u001b[39;00m y_true \u001b[38;5;241m*\u001b[39m (\u001b[38;5;241m1.0\u001b[39m \u001b[38;5;241m-\u001b[39m label_smoothing) \u001b[38;5;241m+\u001b[39m (\n\u001b[0;32m   2214\u001b[0m         label_smoothing \u001b[38;5;241m/\u001b[39m num_classes\n\u001b[0;32m   2215\u001b[0m     )\n\u001b[0;32m   2217\u001b[0m y_true \u001b[38;5;241m=\u001b[39m tf\u001b[38;5;241m.\u001b[39m__internal__\u001b[38;5;241m.\u001b[39msmart_cond\u001b[38;5;241m.\u001b[39msmart_cond(\n\u001b[0;32m   2218\u001b[0m     label_smoothing, _smooth_labels, \u001b[38;5;28;01mlambda\u001b[39;00m: y_true\n\u001b[0;32m   2219\u001b[0m )\n\u001b[1;32m-> 2221\u001b[0m \u001b[38;5;28;01mreturn\u001b[39;00m \u001b[43mbackend\u001b[49m\u001b[38;5;241;43m.\u001b[39;49m\u001b[43mcategorical_crossentropy\u001b[49m\u001b[43m(\u001b[49m\n\u001b[0;32m   2222\u001b[0m \u001b[43m    \u001b[49m\u001b[43my_true\u001b[49m\u001b[43m,\u001b[49m\u001b[43m \u001b[49m\u001b[43my_pred\u001b[49m\u001b[43m,\u001b[49m\u001b[43m \u001b[49m\u001b[43mfrom_logits\u001b[49m\u001b[38;5;241;43m=\u001b[39;49m\u001b[43mfrom_logits\u001b[49m\u001b[43m,\u001b[49m\u001b[43m \u001b[49m\u001b[43maxis\u001b[49m\u001b[38;5;241;43m=\u001b[39;49m\u001b[43maxis\u001b[49m\n\u001b[0;32m   2223\u001b[0m \u001b[43m\u001b[49m\u001b[43m)\u001b[49m\n",
      "File \u001b[1;32mc:\\Users\\Yara\\AppData\\Local\\Programs\\Python\\Python311\\Lib\\site-packages\\keras\\src\\backend.py:5575\u001b[0m, in \u001b[0;36mcategorical_crossentropy\u001b[1;34m(target, output, from_logits, axis)\u001b[0m\n\u001b[0;32m   5573\u001b[0m target \u001b[38;5;241m=\u001b[39m tf\u001b[38;5;241m.\u001b[39mconvert_to_tensor(target)\n\u001b[0;32m   5574\u001b[0m output \u001b[38;5;241m=\u001b[39m tf\u001b[38;5;241m.\u001b[39mconvert_to_tensor(output)\n\u001b[1;32m-> 5575\u001b[0m \u001b[43mtarget\u001b[49m\u001b[38;5;241;43m.\u001b[39;49m\u001b[43mshape\u001b[49m\u001b[38;5;241;43m.\u001b[39;49m\u001b[43massert_is_compatible_with\u001b[49m\u001b[43m(\u001b[49m\u001b[43moutput\u001b[49m\u001b[38;5;241;43m.\u001b[39;49m\u001b[43mshape\u001b[49m\u001b[43m)\u001b[49m\n\u001b[0;32m   5577\u001b[0m output, from_logits \u001b[38;5;241m=\u001b[39m _get_logits(\n\u001b[0;32m   5578\u001b[0m     output, from_logits, \u001b[38;5;124m\"\u001b[39m\u001b[38;5;124mSoftmax\u001b[39m\u001b[38;5;124m\"\u001b[39m, \u001b[38;5;124m\"\u001b[39m\u001b[38;5;124mcategorical_crossentropy\u001b[39m\u001b[38;5;124m\"\u001b[39m\n\u001b[0;32m   5579\u001b[0m )\n\u001b[0;32m   5580\u001b[0m \u001b[38;5;28;01mif\u001b[39;00m from_logits:\n",
      "\u001b[1;31mValueError\u001b[0m: in user code:\n\n    File \"c:\\Users\\Yara\\AppData\\Local\\Programs\\Python\\Python311\\Lib\\site-packages\\keras\\src\\engine\\training.py\", line 1377, in train_function  *\n        return step_function(self, iterator)\n    File \"c:\\Users\\Yara\\AppData\\Local\\Programs\\Python\\Python311\\Lib\\site-packages\\keras\\src\\engine\\training.py\", line 1360, in step_function  **\n        outputs = model.distribute_strategy.run(run_step, args=(data,))\n    File \"c:\\Users\\Yara\\AppData\\Local\\Programs\\Python\\Python311\\Lib\\site-packages\\keras\\src\\engine\\training.py\", line 1349, in run_step  **\n        outputs = model.train_step(data)\n    File \"c:\\Users\\Yara\\AppData\\Local\\Programs\\Python\\Python311\\Lib\\site-packages\\keras\\src\\engine\\training.py\", line 1127, in train_step\n        loss = self.compute_loss(x, y, y_pred, sample_weight)\n    File \"c:\\Users\\Yara\\AppData\\Local\\Programs\\Python\\Python311\\Lib\\site-packages\\keras\\src\\engine\\training.py\", line 1185, in compute_loss\n        return self.compiled_loss(\n    File \"c:\\Users\\Yara\\AppData\\Local\\Programs\\Python\\Python311\\Lib\\site-packages\\keras\\src\\engine\\compile_utils.py\", line 277, in __call__\n        loss_value = loss_obj(y_t, y_p, sample_weight=sw)\n    File \"c:\\Users\\Yara\\AppData\\Local\\Programs\\Python\\Python311\\Lib\\site-packages\\keras\\src\\losses.py\", line 143, in __call__\n        losses = call_fn(y_true, y_pred)\n    File \"c:\\Users\\Yara\\AppData\\Local\\Programs\\Python\\Python311\\Lib\\site-packages\\keras\\src\\losses.py\", line 270, in call  **\n        return ag_fn(y_true, y_pred, **self._fn_kwargs)\n    File \"c:\\Users\\Yara\\AppData\\Local\\Programs\\Python\\Python311\\Lib\\site-packages\\keras\\src\\losses.py\", line 2221, in categorical_crossentropy\n        return backend.categorical_crossentropy(\n    File \"c:\\Users\\Yara\\AppData\\Local\\Programs\\Python\\Python311\\Lib\\site-packages\\keras\\src\\backend.py\", line 5575, in categorical_crossentropy\n        target.shape.assert_is_compatible_with(output.shape)\n\n    ValueError: Shapes (1, 25, 25) and (1, 21, 25) are incompatible\n"
     ]
    }
   ],
   "source": [
    "import progressbar\n",
    "n_epochs = 10\n",
    "n_classes = len(tags)\n",
    "\n",
    "for i in range(n_epochs):\n",
    "    print(\"Training epoch {}\".format(i))\n",
    "    \n",
    "    bar = progressbar.ProgressBar(maxval=len(X_train))\n",
    "    for n_batch, sent in bar(enumerate(X_train)):\n",
    "        label = y_train[n_batch]\n",
    "        # Make labels one hot\n",
    "        label = np.eye(n_classes)[label][np.newaxis,:] \n",
    "        # View each sentence as a batch\n",
    "        sent = sent[np.newaxis,:] \n",
    "        \n",
    "        if sent.shape[1] > 1: #ignore 1 word sentences\n",
    "            model.train_on_batch(sent, label)"
   ]
  },
  {
   "cell_type": "code",
   "execution_count": null,
   "metadata": {},
   "outputs": [],
   "source": []
  },
  {
   "cell_type": "code",
   "execution_count": 153,
   "metadata": {},
   "outputs": [],
   "source": [
    "hidden_units = 128"
   ]
  },
  {
   "cell_type": "code",
   "execution_count": 154,
   "metadata": {},
   "outputs": [],
   "source": [
    "input_layer = Input(shape=(max_len,))\n",
    "embedding_layer = Embedding(len(input_tokinezer.word_index)+1, hidden_units, input_length=max_len)(input_layer)\n",
    "lstm = LSTM(hidden_units, return_sequences=True)(embedding_layer)\n",
    "lstm = LSTM(hidden_units, return_sequences=True)(lstm)\n",
    "output_layer = Dense(len(tags), activation='softmax')(lstm)"
   ]
  },
  {
   "cell_type": "code",
   "execution_count": 155,
   "metadata": {},
   "outputs": [
    {
     "name": "stdout",
     "output_type": "stream",
     "text": [
      "Model: \"model_4\"\n",
      "_________________________________________________________________\n",
      " Layer (type)                Output Shape              Param #   \n",
      "=================================================================\n",
      " input_8 (InputLayer)        [(None, 24)]              0         \n",
      "                                                                 \n",
      " embedding_7 (Embedding)     (None, 24, 128)           32896     \n",
      "                                                                 \n",
      " lstm_11 (LSTM)              (None, 24, 128)           131584    \n",
      "                                                                 \n",
      " lstm_12 (LSTM)              (None, 24, 128)           131584    \n",
      "                                                                 \n",
      " dense_4 (Dense)             (None, 24, 25)            3225      \n",
      "                                                                 \n",
      "=================================================================\n",
      "Total params: 299289 (1.14 MB)\n",
      "Trainable params: 299289 (1.14 MB)\n",
      "Non-trainable params: 0 (0.00 Byte)\n",
      "_________________________________________________________________\n"
     ]
    }
   ],
   "source": [
    "model = Model(inputs = input_layer, outputs = output_layer)    \n",
    "model.summary() "
   ]
  },
  {
   "cell_type": "code",
   "execution_count": 156,
   "metadata": {},
   "outputs": [],
   "source": [
    "model.compile(optimizer='adam', loss='sparse_categorical_crossentropy', metrics=['accuracy'])"
   ]
  },
  {
   "cell_type": "code",
   "execution_count": 157,
   "metadata": {},
   "outputs": [
    {
     "name": "stdout",
     "output_type": "stream",
     "text": [
      "Epoch 1/10\n",
      "313/313 - 16s - loss: 0.7082 - accuracy: 0.8255 - 16s/epoch - 51ms/step\n",
      "Epoch 2/10\n",
      "313/313 - 11s - loss: 0.0499 - accuracy: 0.9868 - 11s/epoch - 37ms/step\n",
      "Epoch 3/10\n",
      "313/313 - 12s - loss: 0.0193 - accuracy: 0.9933 - 12s/epoch - 38ms/step\n",
      "Epoch 4/10\n",
      "313/313 - 14s - loss: 0.0138 - accuracy: 0.9942 - 14s/epoch - 44ms/step\n",
      "Epoch 5/10\n",
      "313/313 - 13s - loss: 0.0117 - accuracy: 0.9944 - 13s/epoch - 41ms/step\n",
      "Epoch 6/10\n",
      "313/313 - 12s - loss: 0.0109 - accuracy: 0.9944 - 12s/epoch - 40ms/step\n",
      "Epoch 7/10\n",
      "313/313 - 13s - loss: 0.0104 - accuracy: 0.9946 - 13s/epoch - 41ms/step\n",
      "Epoch 8/10\n",
      "313/313 - 13s - loss: 0.0099 - accuracy: 0.9948 - 13s/epoch - 40ms/step\n",
      "Epoch 9/10\n",
      "313/313 - 13s - loss: 0.0099 - accuracy: 0.9947 - 13s/epoch - 41ms/step\n",
      "Epoch 10/10\n",
      "313/313 - 13s - loss: 0.0097 - accuracy: 0.9948 - 13s/epoch - 42ms/step\n"
     ]
    },
    {
     "data": {
      "text/plain": [
       "<keras.src.callbacks.History at 0x19bab27de90>"
      ]
     },
     "execution_count": 157,
     "metadata": {},
     "output_type": "execute_result"
    }
   ],
   "source": [
    "model.fit(X_train, y_train, epochs=10, batch_size=32, verbose=2)"
   ]
  },
  {
   "cell_type": "code",
   "execution_count": 168,
   "metadata": {},
   "outputs": [],
   "source": [
    "X_test, y_test = generate_training_data(df_dev['dev.SRC'].apply(clean_text).apply(lemma))"
   ]
  },
  {
   "cell_type": "code",
   "execution_count": 169,
   "metadata": {},
   "outputs": [],
   "source": [
    "X_test = input_tokinezer.texts_to_sequences(X_test)"
   ]
  },
  {
   "cell_type": "code",
   "execution_count": 170,
   "metadata": {},
   "outputs": [],
   "source": [
    "y_test = [y.split() for y in y_test]\n",
    "y_test = [[tags.index(tag) for tag in y] for y in y_test]"
   ]
  },
  {
   "cell_type": "code",
   "execution_count": 171,
   "metadata": {},
   "outputs": [],
   "source": [
    "y_test = pad_sequences(y_test,max_len, padding='post')\n",
    "X_test = pad_sequences(X_test,max_len, padding='post')"
   ]
  },
  {
   "cell_type": "code",
   "execution_count": 172,
   "metadata": {},
   "outputs": [
    {
     "name": "stdout",
     "output_type": "stream",
     "text": [
      "11/11 [==============================] - 0s 14ms/step - loss: 0.9353 - accuracy: 0.8487\n"
     ]
    },
    {
     "data": {
      "text/plain": [
       "[0.935344934463501, 0.8486589789390564]"
      ]
     },
     "execution_count": 172,
     "metadata": {},
     "output_type": "execute_result"
    }
   ],
   "source": [
    "model.evaluate(X_test, y_test)"
   ]
  },
  {
   "cell_type": "code",
   "execution_count": null,
   "metadata": {},
   "outputs": [],
   "source": [
    "from sklearn.metrics import classification_report\n",
    "\n",
    "y_pred = model.predict(X_test)\n",
    "y_pred = np.argmax(y_pred, axis=-1)\n",
    "\n",
    "# y_test = y_test.flatten()\n",
    "# y_pred = y_pred.flatten()\n",
    "\n",
    "print(y_test.shape, y_pred.shape)\n",
    "\n",
    "\n",
    "# print(classification_report(y_test, y_pred))"
   ]
  },
  {
   "cell_type": "code",
   "execution_count": 199,
   "metadata": {},
   "outputs": [
    {
     "name": "stdout",
     "output_type": "stream",
     "text": [
      "i want to order two medium pizzas with sausage and black olives and two medium pizzas with pepperoni and extra cheese and three large pizzas with pepperoni and sausage\n",
      "i want to order two medium pizza with sausage and black olive and two medium pizza with pepperoni and extra cheese and three large pizza with pepperoni and sausage\n"
     ]
    }
   ],
   "source": [
    "input_text = \"i want to order two medium pizzas with sausage and black olives and two medium pizzas with pepperoni and extra cheese and three large pizzas with pepperoni and sausage\"\n",
    "cleaned_text = clean_text(input_text)\n",
    "print(cleaned_text)\n",
    "lemmatized_text = lemma(cleaned_text)\n",
    "print(lemmatized_text)\n",
    "t_x, t_y = generate_training_data([lemmatized_text])"
   ]
  },
  {
   "cell_type": "code",
   "execution_count": 200,
   "metadata": {},
   "outputs": [],
   "source": [
    "max_len = max([len(x) for x in t_x])"
   ]
  },
  {
   "cell_type": "code",
   "execution_count": 201,
   "metadata": {},
   "outputs": [
    {
     "name": "stdout",
     "output_type": "stream",
     "text": [
      "1/1 [==============================] - 0s 77ms/step\n"
     ]
    }
   ],
   "source": [
    "t_x = input_tokinezer.texts_to_sequences(t_x)\n",
    "t_x = pad_sequences(t_x,max_len, padding='post')\n",
    "t_y = [y.split() for y in t_y]\n",
    "t_y = [[tags.index(tag) for tag in y] for y in t_y]\n",
    "t_y = pad_sequences(t_y,max_len, padding='post')\n",
    "\n",
    "pred = model.predict(t_x)\n",
    "pred = np.argmax(pred, axis=-1)\n"
   ]
  },
  {
   "cell_type": "code",
   "execution_count": 202,
   "metadata": {},
   "outputs": [
    {
     "name": "stdout",
     "output_type": "stream",
     "text": [
      "Original Sentence: i want <OOV> <OOV> two medium pizza with sausage and black olive and two medium pizza with pepperoni and extra cheese and three large pizza with pepperoni and sausage\n",
      "Predicted Tags: ['O', 'O', 'B-NUMBER', 'B-TOPPING', 'B-NUMBER', 'B-SIZE', 'O', 'O', 'B-TOPPING', 'O', 'B-TOPPING', 'I-TOPPING', 'O', 'B-NUMBER', 'B-SIZE', 'O', 'O', 'B-TOPPING', 'O', 'B-QUANTITY', 'B-TOPPING', 'O', 'B-NUMBER', 'B-SIZE', 'O', 'O', 'B-TOPPING', 'O', 'B-TOPPING', 'O', 'O', 'O', 'O', 'O', 'O', 'O', 'O', 'O', 'O', 'O', 'O', 'O', 'O', 'O', 'O', 'O', 'O', 'O', 'O', 'O', 'O', 'O', 'O', 'O', 'O', 'O', 'O', 'O', 'O', 'O', 'O', 'O', 'O', 'O', 'O', 'O', 'O', 'O', 'O', 'O', 'O', 'O', 'O', 'O', 'O', 'O', 'O', 'O', 'O', 'O', 'O', 'O', 'O', 'O', 'O', 'O', 'O', 'O', 'O', 'O', 'O', 'O', 'O', 'O', 'O', 'O', 'O', 'O', 'O', 'O', 'O', 'O', 'O', 'O', 'O', 'O', 'O', 'O', 'O', 'O', 'O', 'O', 'O', 'O', 'O', 'O', 'O', 'O', 'O', 'O', 'O', 'O', 'O', 'O', 'O', 'O', 'O', 'O', 'O', 'O', 'O', 'O', 'O', 'O', 'O', 'O', 'O', 'O', 'O', 'O', 'O', 'O', 'O', 'O', 'O', 'O', 'O', 'O', 'O', 'O', 'O', 'O', 'O', 'O', 'O', 'O', 'O', 'O', 'O', 'O', 'O', 'O', 'O']\n",
      "True Tags     : ['O', 'O', 'O', 'O', 'B-NUMBER', 'B-SIZE', 'O', 'O', 'B-TOPPING', 'O', 'B-TOPPING', 'I-TOPPING', 'O', 'B-NUMBER', 'B-SIZE', 'O', 'O', 'B-TOPPING', 'O', 'B-QUANTITY', 'B-TOPPING', 'O', 'B-NUMBER', 'B-SIZE', 'O', 'O', 'B-TOPPING', 'O', 'B-TOPPING', 'O', 'O', 'O', 'O', 'O', 'O', 'O', 'O', 'O', 'O', 'O', 'O', 'O', 'O', 'O', 'O', 'O', 'O', 'O', 'O', 'O', 'O', 'O', 'O', 'O', 'O', 'O', 'O', 'O', 'O', 'O', 'O', 'O', 'O', 'O', 'O', 'O', 'O', 'O', 'O', 'O', 'O', 'O', 'O', 'O', 'O', 'O', 'O', 'O', 'O', 'O', 'O', 'O', 'O', 'O', 'O', 'O', 'O', 'O', 'O', 'O', 'O', 'O', 'O', 'O', 'O', 'O', 'O', 'O', 'O', 'O', 'O', 'O', 'O', 'O', 'O', 'O', 'O', 'O', 'O', 'O', 'O', 'O', 'O', 'O', 'O', 'O', 'O', 'O', 'O', 'O', 'O', 'O', 'O', 'O', 'O', 'O', 'O', 'O', 'O', 'O', 'O', 'O', 'O', 'O', 'O', 'O', 'O', 'O', 'O', 'O', 'O', 'O', 'O', 'O', 'O', 'O', 'O', 'O', 'O', 'O', 'O', 'O', 'O', 'O', 'O', 'O', 'O', 'O', 'O', 'O', 'O', 'O', 'O']\n",
      "\n"
     ]
    }
   ],
   "source": [
    "# Convert the predicted indices back to tags\n",
    "pred_tags = [[tags[idx] for idx in sentence] for sentence in pred]\n",
    "true_tags = [[tags[idx] for idx in sentence] for sentence in t_y]\n",
    "\n",
    "# Print the original sentence and the tags\n",
    "for i in range(len(t_x)):\n",
    "    original_sentence = [input_tokinezer.index_word[idx] for idx in t_x[i] if idx != 0]\n",
    "    print(\"Original Sentence:\", \" \".join(original_sentence))\n",
    "    print(\"Predicted Tags:\", pred_tags[i])\n",
    "    print(\"True Tags     :\", true_tags[i])\n",
    "    print()"
   ]
  },
  {
   "cell_type": "code",
   "execution_count": 179,
   "metadata": {},
   "outputs": [],
   "source": [
    "# y_pred\n",
    "df_dev['dev.INPUT'] = [[tags[idx] for idx in sentence] for sentence in y_pred]\n"
   ]
  },
  {
   "cell_type": "code",
   "execution_count": null,
   "metadata": {},
   "outputs": [],
   "source": []
  },
  {
   "cell_type": "code",
   "execution_count": null,
   "metadata": {},
   "outputs": [],
   "source": []
  },
  {
   "cell_type": "code",
   "execution_count": 34,
   "metadata": {},
   "outputs": [],
   "source": [
    "from sklearn.tree import DecisionTreeClassifier\n",
    "from sklearn.feature_extraction import DictVectorizer\n",
    "\n",
    "# Example tokenized input with corresponding labels\n",
    "# tokens = [\"balsamic\", \"glaze\", \"and\", \"a\", \"sprite\", \"and\", \"three\", \"eight\", \"ounce\", \"fantas\", \"and\", \"three\", \"sprite\"]\n",
    "# labels = [\"B-TOPPING\", \"I-TOPPING\", \"O\", \"O\", \"B-DRINKTYPE\", \"O\", \"B-NUMBER\", \"B-VOLUME\", \"I-VOLUME\", \"B-DRINKTYPE\", \"O\", \"B-NUMBER\", \"B-DRINKTYPE\"]\n",
    "\n",
    "tokens = X_train[:2]\n",
    "labels = y_train[:2]\n",
    "\n",
    "# Extracting simple features for each token (you can add more sophisticated features)\n",
    "features = []\n",
    "for i in range(len(tokens)):\n",
    "    t = tokens[i].split()\n",
    "    for idx,word in enumerate(t):\n",
    "        features.append({\n",
    "            'word': word,\n",
    "            'prev_word': t[idx-1] if idx > 0 else 'SOS',\n",
    "            'next_word': t[idx+1] if idx < len(t)-1 else 'EOS',\n",
    "            'is_digit': True if  (word.isdigit() or words_to_number(word)) else False,\n",
    "        })\n",
    "    \n",
    "\n",
    "# Convert features to a feature matrix using DictVectorizer\n",
    "vectorizer = DictVectorizer(sparse=False)\n",
    "X = vectorizer.fit_transform(features)\n"
   ]
  },
  {
   "cell_type": "code",
   "execution_count": 36,
   "metadata": {},
   "outputs": [
    {
     "name": "stdout",
     "output_type": "stream",
     "text": [
      "[[0. 0. 0. ... 0. 0. 0.]\n",
      " [0. 0. 0. ... 0. 0. 0.]\n",
      " [1. 0. 0. ... 1. 0. 0.]\n",
      " ...\n",
      " [0. 0. 0. ... 0. 0. 0.]\n",
      " [0. 0. 0. ... 0. 0. 0.]\n",
      " [0. 1. 0. ... 0. 0. 0.]]\n"
     ]
    }
   ],
   "source": [
    "print(X)"
   ]
  },
  {
   "cell_type": "code",
   "execution_count": null,
   "metadata": {},
   "outputs": [],
   "source": [
    "# Train a decision tree classifier\n",
    "clf = DecisionTreeClassifier()\n",
    "clf.fit(X, labels)\n",
    "\n",
    "# Predict the labels for the tokens\n",
    "predictions = clf.predict(X)\n",
    "\n",
    "# Post-process to structure the output (as per your desired format)\n",
    "for token, label, prediction in zip(tokens, labels, predictions):\n",
    "    print(f\"Token: {token}, True Label: {label}, Predicted Label: {prediction}\")"
   ]
  },
  {
   "cell_type": "code",
   "execution_count": null,
   "metadata": {},
   "outputs": [],
   "source": []
  },
  {
   "cell_type": "code",
   "execution_count": null,
   "metadata": {},
   "outputs": [],
   "source": []
  },
  {
   "cell_type": "code",
   "execution_count": null,
   "metadata": {},
   "outputs": [],
   "source": []
  },
  {
   "cell_type": "code",
   "execution_count": null,
   "metadata": {},
   "outputs": [],
   "source": []
  },
  {
   "cell_type": "code",
   "execution_count": 208,
   "metadata": {},
   "outputs": [],
   "source": [
    "from tensorflow_addons.text import crf_log_likelihood, viterbi_decode\n",
    "import tensorflow_addons as tfa\n",
    "\n",
    "\n",
    "import tensorflow as tf\n",
    "import tensorflow_addons as tfa\n",
    "\n",
    "def crf_loss(y_true, y_pred):\n",
    "    # Convert inputs to float32\n",
    "    y_true = tf.cast(y_true, tf.float32)\n",
    "    y_pred = tf.cast(y_pred, tf.float32)\n",
    "    \n",
    "    # Reshape y_pred to 3D\n",
    "    num_tags = len(extractor.tags)\n",
    "    y_pred = tf.reshape(y_pred, [-1, y_true.shape[1], num_tags])\n",
    "    \n",
    "    # Compute sequence lengths\n",
    "    sequence_lengths = tf.reduce_sum(tf.cast(tf.not_equal(y_true, 0), tf.int32), axis=1)\n",
    "    \n",
    "    # Compute log likelihood\n",
    "    log_likelihood, _ = tfa.text.crf_log_likelihood(\n",
    "        y_pred,\n",
    "        tf.cast(y_true, tf.int32),\n",
    "        sequence_lengths\n",
    "    )\n",
    "    \n",
    "    return -tf.reduce_mean(log_likelihood)\n",
    "\n",
    "\n",
    "\n",
    "def crf_accuracy(y_true, y_pred):\n",
    "    sequence_lengths = tf.reduce_sum(tf.cast(tf.not_equal(y_true, 0), tf.int32), axis=1)\n",
    "    viterbi_sequences, _ = tfa.text.viterbi_decode(y_pred, sequence_lengths)\n",
    "    correct_predictions = tf.equal(tf.cast(y_true, tf.int32), tf.cast(viterbi_sequences, tf.int32))\n",
    "    return tf.reduce_mean(tf.cast(correct_predictions, tf.float32))\n"
   ]
  },
  {
   "cell_type": "code",
   "execution_count": 209,
   "metadata": {},
   "outputs": [],
   "source": [
    "\n",
    "from tensorflow.keras.preprocessing.text import Tokenizer\n",
    "from tensorflow.keras.preprocessing.sequence import pad_sequences\n",
    "from tensorflow.keras.layers import Input, Embedding, Bidirectional, LSTM, Dense, Dropout\n",
    "from tensorflow.keras.models import Model\n",
    "from tensorflow_addons.layers import CRF\n",
    "from tensorflow_addons.text.crf import crf_decode , crf_log_likelihood ,  viterbi_decode , crf_sequence_score\n",
    "\n",
    "from tensorflow.keras import backend as K\n",
    "\n",
    "\n",
    "class OrderExtractor:\n",
    "    def __init__(self, max_length=100):\n",
    "        self.max_length = max_length\n",
    "        self.word_tokenizer = Tokenizer(lower=True, split=' ')\n",
    "        \n",
    "        # Define tags for NER\n",
    "        self.tags = [\n",
    "            'O',  # Outside\n",
    "            'B-DRINKORDER', 'I-DRINKORDER',\n",
    "            'B-PIZZAORDER', 'I-PIZZAORDER',\n",
    "            'B-NUMBER', 'I-NUMBER',\n",
    "            'B-DRINKTYPE', 'I-DRINKTYPE',\n",
    "            'B-VOLUME', 'I-VOLUME',\n",
    "            'B-TOPPING', 'I-TOPPING',\n",
    "            'B-SIZE', 'I-SIZE',\n",
    "            'B-QUANTITY', 'I-QUANTITY',\n",
    "            'B-STYLE', 'I-STYLE',\n",
    "            'B-CONTAINER', 'I-CONTAINER',\n",
    "            'B-NOT-TOPPING', 'I-NOT-TOPPING',\n",
    "            'B-NOT-STYLE' , 'I-NOT-STYLE'\n",
    "        ]\n",
    "        self.tag_to_index = {tag: idx for idx, tag in enumerate(self.tags)}\n",
    "        self.index_to_tag = {idx: tag for tag, idx in self.tag_to_index.items()}\n",
    "        \n",
    "    def prepare_data(self, texts, labels):\n",
    "        # Tokenize words\n",
    "        self.word_tokenizer.fit_on_texts(texts)\n",
    "        word_sequences = self.word_tokenizer.texts_to_sequences(texts)\n",
    "        word_sequences = pad_sequences(word_sequences, maxlen=self.max_length, padding='post')\n",
    "        \n",
    "        # Prepare label sequences\n",
    "        label_sequences = []\n",
    "        for label_sequence in labels:\n",
    "            label_sequence = label_sequence.split()\n",
    "            label_sequence = [self.tag_to_index[label] for label in label_sequence]\n",
    "            label_sequences.append(label_sequence)\n",
    "            \n",
    "        label_sequences = pad_sequences(label_sequences, maxlen=self.max_length, padding='post')\n",
    "        \n",
    "        return word_sequences, label_sequences\n",
    "    \n",
    "    def create_model(self, vocab_size, embedding_dim=100, lstm_units=128):\n",
    "        # Input layer\n",
    "        input_layer = Input(shape=(self.max_length,))\n",
    "        \n",
    "        # Embedding layer\n",
    "        embedding = Embedding(\n",
    "            input_dim=vocab_size, \n",
    "            output_dim=embedding_dim, \n",
    "            mask_zero=True\n",
    "        )(input_layer)\n",
    "        \n",
    "        # BiLSTM layers with dropout\n",
    "        bilstm = Bidirectional(LSTM(\n",
    "            units=lstm_units, \n",
    "            return_sequences=True,\n",
    "            recurrent_dropout=0.2\n",
    "        ))(embedding)\n",
    "        \n",
    "        # Dense layer\n",
    "        dense = Dense(len(self.tags))(bilstm)        \n",
    "        # CRF layer\n",
    "        crf = CRF(len(self.tags),)\n",
    "        \n",
    "        output = crf(dense)\n",
    "        \n",
    "        # Create model\n",
    "        model = Model(inputs=input_layer, outputs=output)\n",
    "        model.compile(\n",
    "            optimizer='adam', \n",
    "            loss=crf_loss,\n",
    "            metrics=[crf_accuracy]\n",
    "        )\n",
    "        \n",
    "        return model\n",
    "    \n",
    "    def parse_prediction(self, tokens, prediction):\n",
    "        def extract_entity(start, entity_type):\n",
    "            entity_tokens = []\n",
    "            for j in range(start, len(tokens)):\n",
    "                if prediction[j] == self.tag_to_index[f'I-{entity_type}']:\n",
    "                    entity_tokens.append(tokens[j])\n",
    "                else:\n",
    "                    break\n",
    "            return ' '.join(entity_tokens)\n",
    "        \n",
    "        parsed_orders = []\n",
    "        current_order = {}\n",
    "        \n",
    "        for i, tag_index in enumerate(prediction):\n",
    "            tag = self.index_to_tag[tag_index]\n",
    "            \n",
    "            if tag.startswith('B-DRINKORDER') or tag.startswith('B-PIZZAORDER'):\n",
    "                if current_order:\n",
    "                    parsed_orders.append(current_order)\n",
    "                current_order = {}\n",
    "                current_order['type'] = tag.split('-')[1]\n",
    "            \n",
    "            if tag.startswith('B-NUMBER'):\n",
    "                current_order['NUMBER'] = extract_entity(i, 'NUMBER')\n",
    "            \n",
    "            if tag.startswith('B-DRINKTYPE'):\n",
    "                current_order['DRINKTYPE'] = extract_entity(i, 'DRINKTYPE')\n",
    "            \n",
    "            if tag.startswith('B-VOLUME'):\n",
    "                current_order['VOLUME'] = extract_entity(i, 'VOLUME')\n",
    "            \n",
    "            if tag.startswith('B-TOPPING'):\n",
    "                current_order['TOPPING'] = extract_entity(i, 'TOPPING')\n",
    "        \n",
    "        if current_order:\n",
    "            parsed_orders.append(current_order)\n",
    "        \n",
    "        return parsed_orders\n",
    "    \n",
    "    def format_output(self, parsed_orders):\n",
    "        output_str = \"(\"\n",
    "        for order in parsed_orders:\n",
    "            order_type = order.get('type', '')\n",
    "            output_str += f\"{order_type} \"\n",
    "            \n",
    "            if 'NUMBER' in order:\n",
    "                output_str += f\"(NUMBER {order['NUMBER']}) \"\n",
    "            \n",
    "            if 'DRINKTYPE' in order:\n",
    "                output_str += f\"(DRINKTYPE {order['DRINKTYPE'].upper()}) \"\n",
    "            \n",
    "            if 'VOLUME' in order:\n",
    "                output_str += f\"(VOLUME {order['VOLUME'].upper()}) \"\n",
    "            \n",
    "            if 'TOPPING' in order:\n",
    "                output_str += f\"(TOPPING {order['TOPPING'].upper()}) \"\n",
    "        \n",
    "        output_str += \")\"\n",
    "        return output_str\n"
   ]
  },
  {
   "cell_type": "code",
   "execution_count": 215,
   "metadata": {},
   "outputs": [],
   "source": [
    "\n",
    "# Example usage\n",
    "extractor = OrderExtractor()\n",
    "\n",
    "# Prepare data\n",
    "X_train_pre, y_train_pre = extractor.prepare_data(X_train, y_train)\n",
    "y_train_pre_3d = tf.keras.utils.to_categorical(y_train_pre, num_classes=len(extractor.tags))\n",
    "# Ensure labels are integer-encoded\n",
    "y_train_pre_3d = y_train_pre_3d.astype(np.int32)\n",
    "# Instead of to_categorical, keep labels as integer indices\n",
    "y_train_pre_3d = y_train_pre  # Assuming y_train_pre is already integer-encoded\n",
    "\n",
    "# Ensure labels are padded to max_length if needed\n",
    "y_train_pre_3d = tf.keras.preprocessing.sequence.pad_sequences(\n",
    "    y_train_pre_3d, \n",
    "    maxlen=extractor.max_length, \n",
    "    padding='post', \n",
    "    value=0  # Use 0 as padding value\n",
    ")\n",
    "\n",
    "\n"
   ]
  },
  {
   "cell_type": "code",
   "execution_count": 216,
   "metadata": {},
   "outputs": [
    {
     "name": "stdout",
     "output_type": "stream",
     "text": [
      "Epoch 1/10\n"
     ]
    },
    {
     "ename": "ValueError",
     "evalue": "in user code:\n\n    File \"c:\\Users\\Yara\\AppData\\Local\\Programs\\Python\\Python311\\Lib\\site-packages\\keras\\src\\engine\\training.py\", line 1377, in train_function  *\n        return step_function(self, iterator)\n    File \"C:\\Users\\Yara\\AppData\\Local\\Temp\\ipykernel_22988\\4180131057.py\", line 15, in crf_loss  *\n        y_pred = tf.reshape(y_pred, [-1, y_true.shape[1], num_tags])\n\n    ValueError: Dimension size must be evenly divisible by 2500 but is 625 for '{{node crf_loss_3/Reshape}} = Reshape[T=DT_FLOAT, Tshape=DT_INT32](crf_loss_3/Reshape/ReadVariableOp, crf_loss_3/Reshape/shape)' with input shapes: [25,25], [3] and with input tensors computed as partial shapes: input[1] = [?,100,25].\n",
     "output_type": "error",
     "traceback": [
      "\u001b[1;31m---------------------------------------------------------------------------\u001b[0m",
      "\u001b[1;31mValueError\u001b[0m                                Traceback (most recent call last)",
      "Cell \u001b[1;32mIn[216], line 6\u001b[0m\n\u001b[0;32m      3\u001b[0m model \u001b[38;5;241m=\u001b[39m extractor\u001b[38;5;241m.\u001b[39mcreate_model(vocab_size)\n\u001b[0;32m      5\u001b[0m \u001b[38;5;66;03m# Train model\u001b[39;00m\n\u001b[1;32m----> 6\u001b[0m \u001b[43mmodel\u001b[49m\u001b[38;5;241;43m.\u001b[39;49m\u001b[43mfit\u001b[49m\u001b[43m(\u001b[49m\u001b[43mX_train_pre\u001b[49m\u001b[43m,\u001b[49m\u001b[43m \u001b[49m\u001b[43my_train_pre_3d\u001b[49m\u001b[43m,\u001b[49m\u001b[43m \u001b[49m\u001b[43mepochs\u001b[49m\u001b[38;5;241;43m=\u001b[39;49m\u001b[38;5;241;43m10\u001b[39;49m\u001b[43m,\u001b[49m\u001b[43m \u001b[49m\u001b[43mverbose\u001b[49m\u001b[38;5;241;43m=\u001b[39;49m\u001b[38;5;241;43m2\u001b[39;49m\u001b[43m,\u001b[49m\u001b[43m \u001b[49m\u001b[43mbatch_size\u001b[49m\u001b[38;5;241;43m=\u001b[39;49m\u001b[38;5;241;43m32\u001b[39;49m\u001b[43m)\u001b[49m\n\u001b[0;32m      8\u001b[0m \u001b[38;5;66;03m# Predict\u001b[39;00m\n\u001b[0;32m      9\u001b[0m test_text \u001b[38;5;241m=\u001b[39m \u001b[38;5;124m\"\u001b[39m\u001b[38;5;124mbalsamic glaze and a sprite and three eight ounce fantas and three sprites\u001b[39m\u001b[38;5;124m\"\u001b[39m\n",
      "File \u001b[1;32mc:\\Users\\Yara\\AppData\\Local\\Programs\\Python\\Python311\\Lib\\site-packages\\keras\\src\\utils\\traceback_utils.py:70\u001b[0m, in \u001b[0;36mfilter_traceback.<locals>.error_handler\u001b[1;34m(*args, **kwargs)\u001b[0m\n\u001b[0;32m     67\u001b[0m     filtered_tb \u001b[38;5;241m=\u001b[39m _process_traceback_frames(e\u001b[38;5;241m.\u001b[39m__traceback__)\n\u001b[0;32m     68\u001b[0m     \u001b[38;5;66;03m# To get the full stack trace, call:\u001b[39;00m\n\u001b[0;32m     69\u001b[0m     \u001b[38;5;66;03m# `tf.debugging.disable_traceback_filtering()`\u001b[39;00m\n\u001b[1;32m---> 70\u001b[0m     \u001b[38;5;28;01mraise\u001b[39;00m e\u001b[38;5;241m.\u001b[39mwith_traceback(filtered_tb) \u001b[38;5;28;01mfrom\u001b[39;00m \u001b[38;5;28;01mNone\u001b[39;00m\n\u001b[0;32m     71\u001b[0m \u001b[38;5;28;01mfinally\u001b[39;00m:\n\u001b[0;32m     72\u001b[0m     \u001b[38;5;28;01mdel\u001b[39;00m filtered_tb\n",
      "File \u001b[1;32m~\\AppData\\Local\\Temp\\__autograph_generated_fileni2mgoy9.py:15\u001b[0m, in \u001b[0;36mouter_factory.<locals>.inner_factory.<locals>.tf__train_function\u001b[1;34m(iterator)\u001b[0m\n\u001b[0;32m     13\u001b[0m \u001b[38;5;28;01mtry\u001b[39;00m:\n\u001b[0;32m     14\u001b[0m     do_return \u001b[38;5;241m=\u001b[39m \u001b[38;5;28;01mTrue\u001b[39;00m\n\u001b[1;32m---> 15\u001b[0m     retval_ \u001b[38;5;241m=\u001b[39m ag__\u001b[38;5;241m.\u001b[39mconverted_call(ag__\u001b[38;5;241m.\u001b[39mld(step_function), (ag__\u001b[38;5;241m.\u001b[39mld(\u001b[38;5;28mself\u001b[39m), ag__\u001b[38;5;241m.\u001b[39mld(iterator)), \u001b[38;5;28;01mNone\u001b[39;00m, fscope)\n\u001b[0;32m     16\u001b[0m \u001b[38;5;28;01mexcept\u001b[39;00m:\n\u001b[0;32m     17\u001b[0m     do_return \u001b[38;5;241m=\u001b[39m \u001b[38;5;28;01mFalse\u001b[39;00m\n",
      "File \u001b[1;32m~\\AppData\\Local\\Temp\\__autograph_generated_filefq7_2h3n.py:13\u001b[0m, in \u001b[0;36mouter_factory.<locals>.inner_factory.<locals>.tf__crf_loss\u001b[1;34m(y_true, y_pred)\u001b[0m\n\u001b[0;32m     11\u001b[0m y_pred \u001b[38;5;241m=\u001b[39m ag__\u001b[38;5;241m.\u001b[39mconverted_call(ag__\u001b[38;5;241m.\u001b[39mld(tf)\u001b[38;5;241m.\u001b[39mcast, (ag__\u001b[38;5;241m.\u001b[39mld(y_pred), ag__\u001b[38;5;241m.\u001b[39mld(tf)\u001b[38;5;241m.\u001b[39mfloat32), \u001b[38;5;28;01mNone\u001b[39;00m, fscope)\n\u001b[0;32m     12\u001b[0m num_tags \u001b[38;5;241m=\u001b[39m ag__\u001b[38;5;241m.\u001b[39mconverted_call(ag__\u001b[38;5;241m.\u001b[39mld(\u001b[38;5;28mlen\u001b[39m), (ag__\u001b[38;5;241m.\u001b[39mld(extractor)\u001b[38;5;241m.\u001b[39mtags,), \u001b[38;5;28;01mNone\u001b[39;00m, fscope)\n\u001b[1;32m---> 13\u001b[0m y_pred \u001b[38;5;241m=\u001b[39m \u001b[43mag__\u001b[49m\u001b[38;5;241;43m.\u001b[39;49m\u001b[43mconverted_call\u001b[49m\u001b[43m(\u001b[49m\u001b[43mag__\u001b[49m\u001b[38;5;241;43m.\u001b[39;49m\u001b[43mld\u001b[49m\u001b[43m(\u001b[49m\u001b[43mtf\u001b[49m\u001b[43m)\u001b[49m\u001b[38;5;241;43m.\u001b[39;49m\u001b[43mreshape\u001b[49m\u001b[43m,\u001b[49m\u001b[43m \u001b[49m\u001b[43m(\u001b[49m\u001b[43mag__\u001b[49m\u001b[38;5;241;43m.\u001b[39;49m\u001b[43mld\u001b[49m\u001b[43m(\u001b[49m\u001b[43my_pred\u001b[49m\u001b[43m)\u001b[49m\u001b[43m,\u001b[49m\u001b[43m \u001b[49m\u001b[43m[\u001b[49m\u001b[38;5;241;43m-\u001b[39;49m\u001b[38;5;241;43m1\u001b[39;49m\u001b[43m,\u001b[49m\u001b[43m \u001b[49m\u001b[43mag__\u001b[49m\u001b[38;5;241;43m.\u001b[39;49m\u001b[43mld\u001b[49m\u001b[43m(\u001b[49m\u001b[43my_true\u001b[49m\u001b[43m)\u001b[49m\u001b[38;5;241;43m.\u001b[39;49m\u001b[43mshape\u001b[49m\u001b[43m[\u001b[49m\u001b[38;5;241;43m1\u001b[39;49m\u001b[43m]\u001b[49m\u001b[43m,\u001b[49m\u001b[43m \u001b[49m\u001b[43mag__\u001b[49m\u001b[38;5;241;43m.\u001b[39;49m\u001b[43mld\u001b[49m\u001b[43m(\u001b[49m\u001b[43mnum_tags\u001b[49m\u001b[43m)\u001b[49m\u001b[43m]\u001b[49m\u001b[43m)\u001b[49m\u001b[43m,\u001b[49m\u001b[43m \u001b[49m\u001b[38;5;28;43;01mNone\u001b[39;49;00m\u001b[43m,\u001b[49m\u001b[43m \u001b[49m\u001b[43mfscope\u001b[49m\u001b[43m)\u001b[49m\n\u001b[0;32m     14\u001b[0m sequence_lengths \u001b[38;5;241m=\u001b[39m ag__\u001b[38;5;241m.\u001b[39mconverted_call(ag__\u001b[38;5;241m.\u001b[39mld(tf)\u001b[38;5;241m.\u001b[39mreduce_sum, (ag__\u001b[38;5;241m.\u001b[39mconverted_call(ag__\u001b[38;5;241m.\u001b[39mld(tf)\u001b[38;5;241m.\u001b[39mcast, (ag__\u001b[38;5;241m.\u001b[39mconverted_call(ag__\u001b[38;5;241m.\u001b[39mld(tf)\u001b[38;5;241m.\u001b[39mnot_equal, (ag__\u001b[38;5;241m.\u001b[39mld(y_true), \u001b[38;5;241m0\u001b[39m), \u001b[38;5;28;01mNone\u001b[39;00m, fscope), ag__\u001b[38;5;241m.\u001b[39mld(tf)\u001b[38;5;241m.\u001b[39mint32), \u001b[38;5;28;01mNone\u001b[39;00m, fscope),), \u001b[38;5;28mdict\u001b[39m(axis\u001b[38;5;241m=\u001b[39m\u001b[38;5;241m1\u001b[39m), fscope)\n\u001b[0;32m     15\u001b[0m log_likelihood, _ \u001b[38;5;241m=\u001b[39m ag__\u001b[38;5;241m.\u001b[39mconverted_call(ag__\u001b[38;5;241m.\u001b[39mld(tfa)\u001b[38;5;241m.\u001b[39mtext\u001b[38;5;241m.\u001b[39mcrf_log_likelihood, (ag__\u001b[38;5;241m.\u001b[39mld(y_pred), ag__\u001b[38;5;241m.\u001b[39mconverted_call(ag__\u001b[38;5;241m.\u001b[39mld(tf)\u001b[38;5;241m.\u001b[39mcast, (ag__\u001b[38;5;241m.\u001b[39mld(y_true), ag__\u001b[38;5;241m.\u001b[39mld(tf)\u001b[38;5;241m.\u001b[39mint32), \u001b[38;5;28;01mNone\u001b[39;00m, fscope), ag__\u001b[38;5;241m.\u001b[39mld(sequence_lengths)), \u001b[38;5;28;01mNone\u001b[39;00m, fscope)\n",
      "\u001b[1;31mValueError\u001b[0m: in user code:\n\n    File \"c:\\Users\\Yara\\AppData\\Local\\Programs\\Python\\Python311\\Lib\\site-packages\\keras\\src\\engine\\training.py\", line 1377, in train_function  *\n        return step_function(self, iterator)\n    File \"C:\\Users\\Yara\\AppData\\Local\\Temp\\ipykernel_22988\\4180131057.py\", line 15, in crf_loss  *\n        y_pred = tf.reshape(y_pred, [-1, y_true.shape[1], num_tags])\n\n    ValueError: Dimension size must be evenly divisible by 2500 but is 625 for '{{node crf_loss_3/Reshape}} = Reshape[T=DT_FLOAT, Tshape=DT_INT32](crf_loss_3/Reshape/ReadVariableOp, crf_loss_3/Reshape/shape)' with input shapes: [25,25], [3] and with input tensors computed as partial shapes: input[1] = [?,100,25].\n"
     ]
    }
   ],
   "source": [
    "# Create model\n",
    "vocab_size = len(extractor.word_tokenizer.word_index) + 1\n",
    "model = extractor.create_model(vocab_size)\n",
    "\n",
    "# Train model\n",
    "model.fit(X_train_pre, y_train_pre_3d, epochs=10, verbose=2, batch_size=32)\n",
    "\n",
    "# Predict\n",
    "test_text = \"balsamic glaze and a sprite and three eight ounce fantas and three sprites\"\n",
    "test_seq = extractor.word_tokenizer.texts_to_sequences([test_text])\n",
    "test_seq = pad_sequences(test_seq, maxlen=extractor.max_length, padding='post')\n",
    "\n",
    "prediction = model.predict(test_seq)[0]\n",
    "predicted_tags = np.argmax(prediction, axis=-1)\n",
    "\n",
    "# Parse and format output\n",
    "parsed_orders = extractor.parse_prediction(test_text.split(), predicted_tags)\n",
    "output = extractor.format_output(parsed_orders)\n",
    "print(output)"
   ]
  },
  {
   "cell_type": "code",
   "execution_count": null,
   "metadata": {},
   "outputs": [],
   "source": []
  },
  {
   "cell_type": "code",
   "execution_count": null,
   "metadata": {},
   "outputs": [],
   "source": []
  },
  {
   "cell_type": "code",
   "execution_count": 24,
   "metadata": {},
   "outputs": [],
   "source": [
    "def extract_features(sentence):\n",
    "    \"\"\"Extract features for each word in the sentence, considering context.\"\"\"\n",
    "    features = []\n",
    "    for i, word in enumerate(sentence):\n",
    "        word_features = {\n",
    "            \"word\": word,\n",
    "            \"is_digit\": word.isdigit() or words_to_number(word) is not None,\n",
    "            # \"is_title\": word.istitle(),\n",
    "            \"suffix\": word[-3:],  # Last 3 characters\n",
    "            \"prefix\": word[:3],  # First 3 characters\n",
    "        }\n",
    "        # Add previous word features\n",
    "        if i > 0:\n",
    "            word_features[\"prev_word\"] = sentence[i - 1]\n",
    "            word_features[\"prev_is_digit\"] = sentence[i - 1].isdigit()\n",
    "        else:\n",
    "            word_features[\"prev_word\"] = \"<SOS>\"\n",
    "            word_features[\"prev_is_digit\"] = False\n",
    "        \n",
    "        # Add next word features\n",
    "        if i < len(sentence) - 1:\n",
    "            word_features[\"next_word\"] = sentence[i + 1]\n",
    "            word_features[\"next_is_digit\"] = sentence[i + 1].isdigit() or words_to_number(sentence[i + 1]) is not None\n",
    "        else:\n",
    "            word_features[\"next_word\"] = \"<EOS>\"\n",
    "            word_features[\"next_is_digit\"] = False\n",
    "        \n",
    "        features.append(word_features)\n",
    "    return features\n"
   ]
  },
  {
   "cell_type": "code",
   "execution_count": 27,
   "metadata": {},
   "outputs": [
    {
     "name": "stdout",
     "output_type": "stream",
     "text": [
      "{'word': \"I'd\", 'is_digit': False, 'suffix': \"I'd\", 'prefix': \"I'd\", 'prev_word': '<SOS>', 'prev_is_digit': False, 'next_word': 'like', 'next_is_digit': False}\n",
      "{'word': 'like', 'is_digit': False, 'suffix': 'ike', 'prefix': 'lik', 'prev_word': \"I'd\", 'prev_is_digit': False, 'next_word': 'three', 'next_is_digit': True}\n",
      "{'word': 'three', 'is_digit': True, 'suffix': 'ree', 'prefix': 'thr', 'prev_word': 'like', 'prev_is_digit': False, 'next_word': 'large', 'next_is_digit': False}\n",
      "{'word': 'large', 'is_digit': False, 'suffix': 'rge', 'prefix': 'lar', 'prev_word': 'three', 'prev_is_digit': False, 'next_word': 'pies', 'next_is_digit': False}\n",
      "{'word': 'pies', 'is_digit': False, 'suffix': 'ies', 'prefix': 'pie', 'prev_word': 'large', 'prev_is_digit': False, 'next_word': 'with', 'next_is_digit': False}\n",
      "{'word': 'with', 'is_digit': False, 'suffix': 'ith', 'prefix': 'wit', 'prev_word': 'pies', 'prev_is_digit': False, 'next_word': 'pesto', 'next_is_digit': False}\n",
      "{'word': 'pesto', 'is_digit': False, 'suffix': 'sto', 'prefix': 'pes', 'prev_word': 'with', 'prev_is_digit': False, 'next_word': '<EOS>', 'next_is_digit': False}\n"
     ]
    }
   ],
   "source": [
    "# Example usage\n",
    "sentence = [\"I'd\", \"like\", \"three\", \"large\", \"pies\", \"with\", \"pesto\"]\n",
    "features = extract_features(sentence)\n",
    "for word_feature in features:\n",
    "    print(word_feature)"
   ]
  },
  {
   "cell_type": "code",
   "execution_count": null,
   "metadata": {},
   "outputs": [],
   "source": [
    "import tensorflow as tf\n",
    "from tensorflow.keras.models import Model\n",
    "from tensorflow.keras.layers import Input, Embedding, LSTM, Bidirectional, Dense, Concatenate, Dropout\n",
    "import tensorflow_addons as tfa\n",
    "\n",
    "# Define parameters\n",
    "vocab_size = 5000  # Vocabulary size\n",
    "pos_vocab_size = 50  # POS tags vocabulary size\n",
    "tag_size = 10  # Number of output tags\n",
    "embedding_dim = 100\n",
    "pos_embedding_dim = 16\n",
    "hidden_dim = 128\n",
    "max_len = 50  # Maximum sentence length\n",
    "\n",
    "# Word input and embedding\n",
    "word_input = Input(shape=(max_len,), dtype='int32', name='word_input')\n",
    "word_embedding = Embedding(input_dim=vocab_size, output_dim=embedding_dim, mask_zero=True, name='word_embedding')(word_input)\n",
    "\n",
    "# POS input and embedding (optional contextual feature)\n",
    "pos_input = Input(shape=(max_len,), dtype='int32', name='pos_input')\n",
    "pos_embedding = Embedding(input_dim=pos_vocab_size, output_dim=pos_embedding_dim, mask_zero=True, name='pos_embedding')(pos_input)\n",
    "\n",
    "# Combine word and POS embeddings\n",
    "combined_embedding = Concatenate(name='combined_embedding')([word_embedding, pos_embedding])\n",
    "\n",
    "# BiLSTM layer\n",
    "bilstm = Bidirectional(LSTM(hidden_dim // 2, return_sequences=True, dropout=0.1, recurrent_dropout=0.1), name='bilstm')(combined_embedding)\n",
    "\n",
    "# Dense layer to project LSTM output to tag space\n",
    "dense = Dense(tag_size, activation=None, name='dense')(bilstm)\n",
    "\n",
    "# CRF layer\n",
    "crf = tfa.layers.CRF(tag_size, name='crf')\n",
    "output = crf(dense)\n",
    "\n",
    "# Define the model\n",
    "model = Model(inputs=[word_input, pos_input], outputs=output)\n",
    "\n",
    "# Compile the model with CRF loss and accuracy\n",
    "model.compile(optimizer='adam', loss=crf.loss, metrics=[crf.metrics])\n",
    "model.summary()\n"
   ]
  },
  {
   "cell_type": "code",
   "execution_count": null,
   "metadata": {},
   "outputs": [],
   "source": [
    "from sklearn_crfsuite import CRF\n",
    "\n",
    "# Define training data\n",
    "X_train = [extract_features(sentence) for sentence in training_sentences]  # List of feature dictionaries\n",
    "y_train = training_labels  # Corresponding labels\n",
    "\n",
    "# Train CRF\n",
    "crf = CRF(algorithm='lbfgs', max_iterations=100)\n",
    "crf.fit(X_train, y_train)\n"
   ]
  },
  {
   "cell_type": "code",
   "execution_count": null,
   "metadata": {},
   "outputs": [],
   "source": [
    "from sklearn_crfsuite import CRF\n",
    "\n",
    "# Define features\n",
    "def extract_features(sentence):\n",
    "    return [\n",
    "        {\n",
    "            'word': word,\n",
    "            'is_digit': word.isdigit(),\n",
    "            'is_title': word.istitle(),\n",
    "            'suffix': word[-3:],\n",
    "        }\n",
    "        for word in sentence\n",
    "    ]\n",
    "\n",
    "# Train a CRF model (pseudo-code; requires labeled dataset)\n",
    "crf = CRF(algorithm='lbfgs', max_iterations=100)\n",
    "crf.fit(X_train, train_y)  # `X_train` and `train_y` are tokenized sentences and labels\n",
    "\n",
    "# Predict on input text\n",
    "sentence = \"I'd like three large pies with pestos and yellow peppers\".split()\n",
    "features = extract_features(sentence)\n",
    "labels = crf.predict_single(features)\n",
    "\n",
    "# Map labels to the desired output\n",
    "def format_output(sentence, labels):\n",
    "    output = \"(ORDER (PIZZAORDER \"\n",
    "    for word, label in zip(sentence, labels):\n",
    "        if label == \"B-NUMBER\":\n",
    "            output += f\"(NUMBER {word} ) \"\n",
    "        elif label == \"B-SIZE\":\n",
    "            output += f\"(SIZE {word.upper()} ) \"\n",
    "        elif label.startswith(\"B-TOPPING\"):\n",
    "            output += f\"(TOPPING {word.replace(' ', '_').upper()} ) \"\n",
    "    output += \"))\"\n",
    "    return output\n",
    "\n",
    "output = format_output(sentence, labels)\n",
    "print(output)\n"
   ]
  }
 ],
 "metadata": {
  "kernelspec": {
   "display_name": "Python 3",
   "language": "python",
   "name": "python3"
  },
  "language_info": {
   "codemirror_mode": {
    "name": "ipython",
    "version": 3
   },
   "file_extension": ".py",
   "mimetype": "text/x-python",
   "name": "python",
   "nbconvert_exporter": "python",
   "pygments_lexer": "ipython3",
   "version": "3.11.5"
  }
 },
 "nbformat": 4,
 "nbformat_minor": 2
}
